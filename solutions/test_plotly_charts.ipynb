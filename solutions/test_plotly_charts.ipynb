{
 "cells": [
  {
   "cell_type": "markdown",
   "metadata": {},
   "source": [
    "### You can use this notebook to play around with plotly and create new charts"
   ]
  },
  {
   "cell_type": "code",
   "execution_count": null,
   "metadata": {},
   "outputs": [],
   "source": [
    "%load_ext lab_black\n",
    "%load_ext autoreload\n",
    "%autoreload 2\n",
    "%matplotlib inline"
   ]
  },
  {
   "cell_type": "code",
   "execution_count": null,
   "metadata": {},
   "outputs": [],
   "source": [
    "from load_data import *\n",
    "import plotly.express as px\n",
    "import plotly.graph_objects as go\n",
    "\n",
    "local_path = \"world_population.csv\"\n",
    "df = load_local_data(local_path)\n",
    "\n",
    "df"
   ]
  },
  {
   "cell_type": "code",
   "execution_count": null,
   "metadata": {},
   "outputs": [],
   "source": [
    "##Prepare dataframe\n",
    "df_population = df[df.columns[5:13]]\n",
    "\n",
    "# Invert order of columns\n",
    "df_population = df_population[df_population.columns[::-1]]\n",
    "df_population.insert(0, \"Country\", df[\"Country\"])\n",
    "\n",
    "df_netherlands = df_population[df[\"Country\"] == \"Netherlands\"].drop(columns=[\"Country\"])\n",
    "\n",
    "final_df = pd.DataFrame({\"Year\": df_netherlands.columns, \"Population\": df_netherlands.values[0]})\n",
    "\n",
    "final_df"
   ]
  },
  {
   "cell_type": "markdown",
   "metadata": {},
   "source": [
    "### Create Plotly figure\n",
    "- Instructions:\n",
    "\n",
    "    1. The first part of the code is already provided (dataframe preprocessing)\n",
    "    2. Fill in the code after the 'TODO:' comment\n",
    "    3. Create Plotly figure to visualize Netherlands Population evolution from 1970 to 2022\n",
    "    4. After the function is completed (and you are able to see it in the notebook), copy the function and paste it the module 'create_charts.py'\n",
    "\n",
    "Note: In case of help, visit Plotly docs: https://plotly.com/python/line-charts/"
   ]
  },
  {
   "cell_type": "code",
   "execution_count": null,
   "metadata": {},
   "outputs": [],
   "source": [
    "def create_figure(df):\n",
    "\n",
    "    ##Prepare dataframe\n",
    "    df_population = df[df.columns[5:13]]\n",
    "\n",
    "    # Invert order of columns\n",
    "    df_population = df_population[df_population.columns[::-1]]\n",
    "    df_population.insert(0, \"Country\", df[\"Country\"])\n",
    "\n",
    "    df_netherlands = df_population[df[\"Country\"] == \"Netherlands\"].drop(columns=[\"Country\"])\n",
    "\n",
    "    final_df = pd.DataFrame({\"Year\": df_netherlands.columns, \"Population\": df_netherlands.values[0]})\n",
    "\n",
    "    # TODO: Write plotly code to visualize Netherlands population evolution from 1970 to 2022 (Line or Bar chart)\n",
    "    fig = px.bar(final_df, x=\"Year\", y=\"Population\", title=\"Netherlands Population Evolution\")\n",
    "\n",
    "    return fig"
   ]
  },
  {
   "cell_type": "markdown",
   "metadata": {},
   "source": [
    "Visualize your plotly chart"
   ]
  },
  {
   "cell_type": "code",
   "execution_count": null,
   "metadata": {},
   "outputs": [],
   "source": [
    "fig = create_figure(df)\n",
    "\n",
    "fig.show()"
   ]
  }
 ],
 "metadata": {
  "kernelspec": {
   "display_name": "Python 3.9.0 ('myenv': venv)",
   "language": "python",
   "name": "python3"
  },
  "language_info": {
   "codemirror_mode": {
    "name": "ipython",
    "version": 3
   },
   "file_extension": ".py",
   "mimetype": "text/x-python",
   "name": "python",
   "nbconvert_exporter": "python",
   "pygments_lexer": "ipython3",
   "version": "3.9.0"
  },
  "orig_nbformat": 4,
  "vscode": {
   "interpreter": {
    "hash": "53fc6b8162b76aa4fd82562cc7ae5a4fa28111de6e3e8492d7ac43cc72bf1ff5"
   }
  }
 },
 "nbformat": 4,
 "nbformat_minor": 2
}
