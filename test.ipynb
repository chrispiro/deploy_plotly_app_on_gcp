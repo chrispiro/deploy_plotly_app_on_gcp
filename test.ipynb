{
 "cells": [
  {
   "cell_type": "code",
   "execution_count": 122,
   "metadata": {},
   "outputs": [],
   "source": [
    "from load_data import *\n",
    "from create_charts import *\n",
    "\n",
    "local_path='world_population.csv'\n",
    "df = load_local_data(local_path)"
   ]
  },
  {
   "cell_type": "code",
   "execution_count": 157,
   "metadata": {},
   "outputs": [
    {
     "data": {
      "application/vnd.plotly.v1+json": {
       "config": {
        "plotlyServerURL": "https://plot.ly"
       },
       "data": [
        {
         "coloraxis": "coloraxis",
         "geo": "geo",
         "hovertemplate": "CCA3=%{location}<br>2022 Population=%{z}<extra></extra>",
         "locations": [
          "AFG",
          "ALB",
          "DZA",
          "ASM",
          "AND",
          "AGO",
          "AIA",
          "ATG",
          "ARG",
          "ARM",
          "ABW",
          "AUS",
          "AUT",
          "AZE",
          "BHS",
          "BHR",
          "BGD",
          "BRB",
          "BLR",
          "BEL",
          "BLZ",
          "BEN",
          "BMU",
          "BTN",
          "BOL",
          "BIH",
          "BWA",
          "BRA",
          "VGB",
          "BRN",
          "BGR",
          "BFA",
          "BDI",
          "KHM",
          "CMR",
          "CAN",
          "CPV",
          "CYM",
          "CAF",
          "TCD",
          "CHL",
          "CHN",
          "COL",
          "COM",
          "COK",
          "CRI",
          "HRV",
          "CUB",
          "CUW",
          "CYP",
          "CZE",
          "DNK",
          "DJI",
          "DMA",
          "DOM",
          "COD",
          "ECU",
          "EGY",
          "SLV",
          "GNQ",
          "ERI",
          "EST",
          "SWZ",
          "ETH",
          "FLK",
          "FRO",
          "FJI",
          "FIN",
          "FRA",
          "GUF",
          "PYF",
          "GAB",
          "GMB",
          "GEO",
          "DEU",
          "GHA",
          "GIB",
          "GRC",
          "GRL",
          "GRD",
          "GLP",
          "GUM",
          "GTM",
          "GGY",
          "GIN",
          "GNB",
          "GUY",
          "HTI",
          "HND",
          "HKG",
          "HUN",
          "ISL",
          "IND",
          "IDN",
          "IRN",
          "IRQ",
          "IRL",
          "IMN",
          "ISR",
          "ITA",
          "CIV",
          "JAM",
          "JPN",
          "JEY",
          "JOR",
          "KAZ",
          "KEN",
          "KIR",
          "KWT",
          "KGZ",
          "LAO",
          "LVA",
          "LBN",
          "LSO",
          "LBR",
          "LBY",
          "LIE",
          "LTU",
          "LUX",
          "MAC",
          "MDG",
          "MWI",
          "MYS",
          "MDV",
          "MLI",
          "MLT",
          "MHL",
          "MTQ",
          "MRT",
          "MUS",
          "MYT",
          "MEX",
          "FSM",
          "MDA",
          "MCO",
          "MNG",
          "MNE",
          "MSR",
          "MAR",
          "MOZ",
          "MMR",
          "NAM",
          "NRU",
          "NPL",
          "NLD",
          "NCL",
          "NZL",
          "NIC",
          "NER",
          "NGA",
          "NIU",
          "PRK",
          "MKD",
          "NFK",
          "NOR",
          "OMN",
          "PAK",
          "PLW",
          "PSE",
          "PAN",
          "PNG",
          "PRY",
          "PER",
          "PHL",
          "POL",
          "PRT",
          "PRI",
          "QAT",
          "COG",
          "REU",
          "ROU",
          "RUS",
          "RWA",
          "BLM",
          "KNA",
          "LCA",
          "MAF",
          "SPM",
          "VCT",
          "WSM",
          "SMR",
          "STP",
          "SAU",
          "SEN",
          "SRB",
          "SYC",
          "SLE",
          "SGP",
          "SXM",
          "SVK",
          "SVN",
          "SLB",
          "SOM",
          "ZAF",
          "KOR",
          "SSD",
          "ESP",
          "LKA",
          "SDN",
          "SUR",
          "SWE",
          "CHE",
          "SYR",
          "TWN",
          "TJK",
          "TZA",
          "THA",
          "TLS",
          "TGO",
          "TKL",
          "TON",
          "TTO",
          "TUN",
          "TUR",
          "TKM",
          "TCA",
          "TUV",
          "UGA",
          "UKR",
          "ARE",
          "GBR",
          "USA",
          "VIR",
          "URY",
          "UZB",
          "VUT",
          "VAT",
          "VEN",
          "VNM",
          "WLF",
          "ESH",
          "YEM",
          "ZMB",
          "ZWE"
         ],
         "name": "",
         "type": "choropleth",
         "z": [
          41128771,
          2842321,
          44903225,
          44273,
          79824,
          35588987,
          15857,
          93763,
          45510318,
          2780469,
          106445,
          26177413,
          8939617,
          10358074,
          409984,
          1472233,
          171186372,
          281635,
          9534954,
          11655930,
          405272,
          13352864,
          64184,
          782455,
          12224110,
          3233526,
          2630296,
          215313498,
          31305,
          449002,
          6781953,
          22673762,
          12889576,
          16767842,
          27914536,
          38454327,
          593149,
          68706,
          5579144,
          17723315,
          19603733,
          1425887337,
          51874024,
          836774,
          17011,
          5180829,
          4030358,
          11212191,
          191163,
          1251488,
          10493986,
          5882261,
          1120849,
          72737,
          11228821,
          99010212,
          18001000,
          110990103,
          6336392,
          1674908,
          3684032,
          1326062,
          1201670,
          123379924,
          3780,
          53090,
          929766,
          5540745,
          64626628,
          304557,
          306279,
          2388992,
          2705992,
          3744385,
          83369843,
          33475870,
          32649,
          10384971,
          56466,
          125438,
          395752,
          171774,
          17843908,
          63301,
          13859341,
          2105566,
          808726,
          11584996,
          10432860,
          7488865,
          9967308,
          372899,
          1417173173,
          275501339,
          88550570,
          44496122,
          5023109,
          84519,
          9038309,
          59037474,
          28160542,
          2827377,
          123951692,
          110778,
          11285869,
          19397998,
          54027487,
          131232,
          4268873,
          6630623,
          7529475,
          1850651,
          5489739,
          2305825,
          5302681,
          6812341,
          39327,
          2750055,
          647599,
          695168,
          29611714,
          20405317,
          33938221,
          523787,
          22593590,
          533286,
          41569,
          367507,
          4736139,
          1299469,
          326101,
          127504125,
          114164,
          3272996,
          36469,
          3398366,
          627082,
          4390,
          37457971,
          32969517,
          54179306,
          2567012,
          12668,
          30547580,
          17564014,
          289950,
          5185288,
          6948392,
          26207977,
          218541212,
          1934,
          26069416,
          2093599,
          49551,
          5434319,
          4576298,
          235824862,
          18055,
          5250072,
          4408581,
          10142619,
          6780744,
          34049588,
          115559009,
          39857145,
          10270865,
          3252407,
          2695122,
          5970424,
          974052,
          19659267,
          144713314,
          13776698,
          10967,
          47657,
          179857,
          31791,
          5862,
          103948,
          222382,
          33660,
          227380,
          36408820,
          17316449,
          7221365,
          107118,
          8605718,
          5975689,
          44175,
          5643453,
          2119844,
          724273,
          17597511,
          59893885,
          51815810,
          10913164,
          47558630,
          21832143,
          46874204,
          618040,
          10549347,
          8740472,
          22125249,
          23893394,
          9952787,
          65497748,
          71697030,
          1341296,
          8848699,
          1871,
          106858,
          1531044,
          12356117,
          85341241,
          6430770,
          45703,
          11312,
          47249585,
          39701739,
          9441129,
          67508936,
          338289857,
          99465,
          3422794,
          34627652,
          326740,
          510,
          28301696,
          98186856,
          11572,
          575986,
          33696614,
          20017675,
          16320537
         ]
        }
       ],
       "layout": {
        "coloraxis": {
         "cmax": 500000000,
         "cmin": 0,
         "colorbar": {
          "title": {
           "text": "2022 Population"
          }
         },
         "colorscale": [
          [
           0,
           "rgb(247,251,255)"
          ],
          [
           0.125,
           "rgb(222,235,247)"
          ],
          [
           0.25,
           "rgb(198,219,239)"
          ],
          [
           0.375,
           "rgb(158,202,225)"
          ],
          [
           0.5,
           "rgb(107,174,214)"
          ],
          [
           0.625,
           "rgb(66,146,198)"
          ],
          [
           0.75,
           "rgb(33,113,181)"
          ],
          [
           0.875,
           "rgb(8,81,156)"
          ],
          [
           1,
           "rgb(8,48,107)"
          ]
         ]
        },
        "dragmode": false,
        "geo": {
         "center": {},
         "domain": {
          "x": [
           0,
           1
          ],
          "y": [
           0,
           1
          ]
         }
        },
        "legend": {
         "tracegroupgap": 0
        },
        "margin": {
         "b": 0,
         "l": 0,
         "r": 0,
         "t": 0
        },
        "template": {
         "data": {
          "bar": [
           {
            "error_x": {
             "color": "#2a3f5f"
            },
            "error_y": {
             "color": "#2a3f5f"
            },
            "marker": {
             "line": {
              "color": "#E5ECF6",
              "width": 0.5
             },
             "pattern": {
              "fillmode": "overlay",
              "size": 10,
              "solidity": 0.2
             }
            },
            "type": "bar"
           }
          ],
          "barpolar": [
           {
            "marker": {
             "line": {
              "color": "#E5ECF6",
              "width": 0.5
             },
             "pattern": {
              "fillmode": "overlay",
              "size": 10,
              "solidity": 0.2
             }
            },
            "type": "barpolar"
           }
          ],
          "carpet": [
           {
            "aaxis": {
             "endlinecolor": "#2a3f5f",
             "gridcolor": "white",
             "linecolor": "white",
             "minorgridcolor": "white",
             "startlinecolor": "#2a3f5f"
            },
            "baxis": {
             "endlinecolor": "#2a3f5f",
             "gridcolor": "white",
             "linecolor": "white",
             "minorgridcolor": "white",
             "startlinecolor": "#2a3f5f"
            },
            "type": "carpet"
           }
          ],
          "choropleth": [
           {
            "colorbar": {
             "outlinewidth": 0,
             "ticks": ""
            },
            "type": "choropleth"
           }
          ],
          "contour": [
           {
            "colorbar": {
             "outlinewidth": 0,
             "ticks": ""
            },
            "colorscale": [
             [
              0,
              "#0d0887"
             ],
             [
              0.1111111111111111,
              "#46039f"
             ],
             [
              0.2222222222222222,
              "#7201a8"
             ],
             [
              0.3333333333333333,
              "#9c179e"
             ],
             [
              0.4444444444444444,
              "#bd3786"
             ],
             [
              0.5555555555555556,
              "#d8576b"
             ],
             [
              0.6666666666666666,
              "#ed7953"
             ],
             [
              0.7777777777777778,
              "#fb9f3a"
             ],
             [
              0.8888888888888888,
              "#fdca26"
             ],
             [
              1,
              "#f0f921"
             ]
            ],
            "type": "contour"
           }
          ],
          "contourcarpet": [
           {
            "colorbar": {
             "outlinewidth": 0,
             "ticks": ""
            },
            "type": "contourcarpet"
           }
          ],
          "heatmap": [
           {
            "colorbar": {
             "outlinewidth": 0,
             "ticks": ""
            },
            "colorscale": [
             [
              0,
              "#0d0887"
             ],
             [
              0.1111111111111111,
              "#46039f"
             ],
             [
              0.2222222222222222,
              "#7201a8"
             ],
             [
              0.3333333333333333,
              "#9c179e"
             ],
             [
              0.4444444444444444,
              "#bd3786"
             ],
             [
              0.5555555555555556,
              "#d8576b"
             ],
             [
              0.6666666666666666,
              "#ed7953"
             ],
             [
              0.7777777777777778,
              "#fb9f3a"
             ],
             [
              0.8888888888888888,
              "#fdca26"
             ],
             [
              1,
              "#f0f921"
             ]
            ],
            "type": "heatmap"
           }
          ],
          "heatmapgl": [
           {
            "colorbar": {
             "outlinewidth": 0,
             "ticks": ""
            },
            "colorscale": [
             [
              0,
              "#0d0887"
             ],
             [
              0.1111111111111111,
              "#46039f"
             ],
             [
              0.2222222222222222,
              "#7201a8"
             ],
             [
              0.3333333333333333,
              "#9c179e"
             ],
             [
              0.4444444444444444,
              "#bd3786"
             ],
             [
              0.5555555555555556,
              "#d8576b"
             ],
             [
              0.6666666666666666,
              "#ed7953"
             ],
             [
              0.7777777777777778,
              "#fb9f3a"
             ],
             [
              0.8888888888888888,
              "#fdca26"
             ],
             [
              1,
              "#f0f921"
             ]
            ],
            "type": "heatmapgl"
           }
          ],
          "histogram": [
           {
            "marker": {
             "pattern": {
              "fillmode": "overlay",
              "size": 10,
              "solidity": 0.2
             }
            },
            "type": "histogram"
           }
          ],
          "histogram2d": [
           {
            "colorbar": {
             "outlinewidth": 0,
             "ticks": ""
            },
            "colorscale": [
             [
              0,
              "#0d0887"
             ],
             [
              0.1111111111111111,
              "#46039f"
             ],
             [
              0.2222222222222222,
              "#7201a8"
             ],
             [
              0.3333333333333333,
              "#9c179e"
             ],
             [
              0.4444444444444444,
              "#bd3786"
             ],
             [
              0.5555555555555556,
              "#d8576b"
             ],
             [
              0.6666666666666666,
              "#ed7953"
             ],
             [
              0.7777777777777778,
              "#fb9f3a"
             ],
             [
              0.8888888888888888,
              "#fdca26"
             ],
             [
              1,
              "#f0f921"
             ]
            ],
            "type": "histogram2d"
           }
          ],
          "histogram2dcontour": [
           {
            "colorbar": {
             "outlinewidth": 0,
             "ticks": ""
            },
            "colorscale": [
             [
              0,
              "#0d0887"
             ],
             [
              0.1111111111111111,
              "#46039f"
             ],
             [
              0.2222222222222222,
              "#7201a8"
             ],
             [
              0.3333333333333333,
              "#9c179e"
             ],
             [
              0.4444444444444444,
              "#bd3786"
             ],
             [
              0.5555555555555556,
              "#d8576b"
             ],
             [
              0.6666666666666666,
              "#ed7953"
             ],
             [
              0.7777777777777778,
              "#fb9f3a"
             ],
             [
              0.8888888888888888,
              "#fdca26"
             ],
             [
              1,
              "#f0f921"
             ]
            ],
            "type": "histogram2dcontour"
           }
          ],
          "mesh3d": [
           {
            "colorbar": {
             "outlinewidth": 0,
             "ticks": ""
            },
            "type": "mesh3d"
           }
          ],
          "parcoords": [
           {
            "line": {
             "colorbar": {
              "outlinewidth": 0,
              "ticks": ""
             }
            },
            "type": "parcoords"
           }
          ],
          "pie": [
           {
            "automargin": true,
            "type": "pie"
           }
          ],
          "scatter": [
           {
            "fillpattern": {
             "fillmode": "overlay",
             "size": 10,
             "solidity": 0.2
            },
            "type": "scatter"
           }
          ],
          "scatter3d": [
           {
            "line": {
             "colorbar": {
              "outlinewidth": 0,
              "ticks": ""
             }
            },
            "marker": {
             "colorbar": {
              "outlinewidth": 0,
              "ticks": ""
             }
            },
            "type": "scatter3d"
           }
          ],
          "scattercarpet": [
           {
            "marker": {
             "colorbar": {
              "outlinewidth": 0,
              "ticks": ""
             }
            },
            "type": "scattercarpet"
           }
          ],
          "scattergeo": [
           {
            "marker": {
             "colorbar": {
              "outlinewidth": 0,
              "ticks": ""
             }
            },
            "type": "scattergeo"
           }
          ],
          "scattergl": [
           {
            "marker": {
             "colorbar": {
              "outlinewidth": 0,
              "ticks": ""
             }
            },
            "type": "scattergl"
           }
          ],
          "scattermapbox": [
           {
            "marker": {
             "colorbar": {
              "outlinewidth": 0,
              "ticks": ""
             }
            },
            "type": "scattermapbox"
           }
          ],
          "scatterpolar": [
           {
            "marker": {
             "colorbar": {
              "outlinewidth": 0,
              "ticks": ""
             }
            },
            "type": "scatterpolar"
           }
          ],
          "scatterpolargl": [
           {
            "marker": {
             "colorbar": {
              "outlinewidth": 0,
              "ticks": ""
             }
            },
            "type": "scatterpolargl"
           }
          ],
          "scatterternary": [
           {
            "marker": {
             "colorbar": {
              "outlinewidth": 0,
              "ticks": ""
             }
            },
            "type": "scatterternary"
           }
          ],
          "surface": [
           {
            "colorbar": {
             "outlinewidth": 0,
             "ticks": ""
            },
            "colorscale": [
             [
              0,
              "#0d0887"
             ],
             [
              0.1111111111111111,
              "#46039f"
             ],
             [
              0.2222222222222222,
              "#7201a8"
             ],
             [
              0.3333333333333333,
              "#9c179e"
             ],
             [
              0.4444444444444444,
              "#bd3786"
             ],
             [
              0.5555555555555556,
              "#d8576b"
             ],
             [
              0.6666666666666666,
              "#ed7953"
             ],
             [
              0.7777777777777778,
              "#fb9f3a"
             ],
             [
              0.8888888888888888,
              "#fdca26"
             ],
             [
              1,
              "#f0f921"
             ]
            ],
            "type": "surface"
           }
          ],
          "table": [
           {
            "cells": {
             "fill": {
              "color": "#EBF0F8"
             },
             "line": {
              "color": "white"
             }
            },
            "header": {
             "fill": {
              "color": "#C8D4E3"
             },
             "line": {
              "color": "white"
             }
            },
            "type": "table"
           }
          ]
         },
         "layout": {
          "annotationdefaults": {
           "arrowcolor": "#2a3f5f",
           "arrowhead": 0,
           "arrowwidth": 1
          },
          "autotypenumbers": "strict",
          "coloraxis": {
           "colorbar": {
            "outlinewidth": 0,
            "ticks": ""
           }
          },
          "colorscale": {
           "diverging": [
            [
             0,
             "#8e0152"
            ],
            [
             0.1,
             "#c51b7d"
            ],
            [
             0.2,
             "#de77ae"
            ],
            [
             0.3,
             "#f1b6da"
            ],
            [
             0.4,
             "#fde0ef"
            ],
            [
             0.5,
             "#f7f7f7"
            ],
            [
             0.6,
             "#e6f5d0"
            ],
            [
             0.7,
             "#b8e186"
            ],
            [
             0.8,
             "#7fbc41"
            ],
            [
             0.9,
             "#4d9221"
            ],
            [
             1,
             "#276419"
            ]
           ],
           "sequential": [
            [
             0,
             "#0d0887"
            ],
            [
             0.1111111111111111,
             "#46039f"
            ],
            [
             0.2222222222222222,
             "#7201a8"
            ],
            [
             0.3333333333333333,
             "#9c179e"
            ],
            [
             0.4444444444444444,
             "#bd3786"
            ],
            [
             0.5555555555555556,
             "#d8576b"
            ],
            [
             0.6666666666666666,
             "#ed7953"
            ],
            [
             0.7777777777777778,
             "#fb9f3a"
            ],
            [
             0.8888888888888888,
             "#fdca26"
            ],
            [
             1,
             "#f0f921"
            ]
           ],
           "sequentialminus": [
            [
             0,
             "#0d0887"
            ],
            [
             0.1111111111111111,
             "#46039f"
            ],
            [
             0.2222222222222222,
             "#7201a8"
            ],
            [
             0.3333333333333333,
             "#9c179e"
            ],
            [
             0.4444444444444444,
             "#bd3786"
            ],
            [
             0.5555555555555556,
             "#d8576b"
            ],
            [
             0.6666666666666666,
             "#ed7953"
            ],
            [
             0.7777777777777778,
             "#fb9f3a"
            ],
            [
             0.8888888888888888,
             "#fdca26"
            ],
            [
             1,
             "#f0f921"
            ]
           ]
          },
          "colorway": [
           "#636efa",
           "#EF553B",
           "#00cc96",
           "#ab63fa",
           "#FFA15A",
           "#19d3f3",
           "#FF6692",
           "#B6E880",
           "#FF97FF",
           "#FECB52"
          ],
          "font": {
           "color": "#2a3f5f"
          },
          "geo": {
           "bgcolor": "white",
           "lakecolor": "white",
           "landcolor": "#E5ECF6",
           "showlakes": true,
           "showland": true,
           "subunitcolor": "white"
          },
          "hoverlabel": {
           "align": "left"
          },
          "hovermode": "closest",
          "mapbox": {
           "style": "light"
          },
          "paper_bgcolor": "white",
          "plot_bgcolor": "#E5ECF6",
          "polar": {
           "angularaxis": {
            "gridcolor": "white",
            "linecolor": "white",
            "ticks": ""
           },
           "bgcolor": "#E5ECF6",
           "radialaxis": {
            "gridcolor": "white",
            "linecolor": "white",
            "ticks": ""
           }
          },
          "scene": {
           "xaxis": {
            "backgroundcolor": "#E5ECF6",
            "gridcolor": "white",
            "gridwidth": 2,
            "linecolor": "white",
            "showbackground": true,
            "ticks": "",
            "zerolinecolor": "white"
           },
           "yaxis": {
            "backgroundcolor": "#E5ECF6",
            "gridcolor": "white",
            "gridwidth": 2,
            "linecolor": "white",
            "showbackground": true,
            "ticks": "",
            "zerolinecolor": "white"
           },
           "zaxis": {
            "backgroundcolor": "#E5ECF6",
            "gridcolor": "white",
            "gridwidth": 2,
            "linecolor": "white",
            "showbackground": true,
            "ticks": "",
            "zerolinecolor": "white"
           }
          },
          "shapedefaults": {
           "line": {
            "color": "#2a3f5f"
           }
          },
          "ternary": {
           "aaxis": {
            "gridcolor": "white",
            "linecolor": "white",
            "ticks": ""
           },
           "baxis": {
            "gridcolor": "white",
            "linecolor": "white",
            "ticks": ""
           },
           "bgcolor": "#E5ECF6",
           "caxis": {
            "gridcolor": "white",
            "linecolor": "white",
            "ticks": ""
           }
          },
          "title": {
           "x": 0.05
          },
          "xaxis": {
           "automargin": true,
           "gridcolor": "white",
           "linecolor": "white",
           "ticks": "",
           "title": {
            "standoff": 15
           },
           "zerolinecolor": "white",
           "zerolinewidth": 2
          },
          "yaxis": {
           "automargin": true,
           "gridcolor": "white",
           "linecolor": "white",
           "ticks": "",
           "title": {
            "standoff": 15
           },
           "zerolinecolor": "white",
           "zerolinewidth": 2
          }
         }
        }
       }
      },
      "text/html": [
       "<div>                            <div id=\"3c039974-7c8a-4f39-bead-461af839c0d9\" class=\"plotly-graph-div\" style=\"height:525px; width:100%;\"></div>            <script type=\"text/javascript\">                require([\"plotly\"], function(Plotly) {                    window.PLOTLYENV=window.PLOTLYENV || {};                                    if (document.getElementById(\"3c039974-7c8a-4f39-bead-461af839c0d9\")) {                    Plotly.newPlot(                        \"3c039974-7c8a-4f39-bead-461af839c0d9\",                        [{\"coloraxis\":\"coloraxis\",\"geo\":\"geo\",\"hovertemplate\":\"CCA3=%{location}<br>2022 Population=%{z}<extra></extra>\",\"locations\":[\"AFG\",\"ALB\",\"DZA\",\"ASM\",\"AND\",\"AGO\",\"AIA\",\"ATG\",\"ARG\",\"ARM\",\"ABW\",\"AUS\",\"AUT\",\"AZE\",\"BHS\",\"BHR\",\"BGD\",\"BRB\",\"BLR\",\"BEL\",\"BLZ\",\"BEN\",\"BMU\",\"BTN\",\"BOL\",\"BIH\",\"BWA\",\"BRA\",\"VGB\",\"BRN\",\"BGR\",\"BFA\",\"BDI\",\"KHM\",\"CMR\",\"CAN\",\"CPV\",\"CYM\",\"CAF\",\"TCD\",\"CHL\",\"CHN\",\"COL\",\"COM\",\"COK\",\"CRI\",\"HRV\",\"CUB\",\"CUW\",\"CYP\",\"CZE\",\"DNK\",\"DJI\",\"DMA\",\"DOM\",\"COD\",\"ECU\",\"EGY\",\"SLV\",\"GNQ\",\"ERI\",\"EST\",\"SWZ\",\"ETH\",\"FLK\",\"FRO\",\"FJI\",\"FIN\",\"FRA\",\"GUF\",\"PYF\",\"GAB\",\"GMB\",\"GEO\",\"DEU\",\"GHA\",\"GIB\",\"GRC\",\"GRL\",\"GRD\",\"GLP\",\"GUM\",\"GTM\",\"GGY\",\"GIN\",\"GNB\",\"GUY\",\"HTI\",\"HND\",\"HKG\",\"HUN\",\"ISL\",\"IND\",\"IDN\",\"IRN\",\"IRQ\",\"IRL\",\"IMN\",\"ISR\",\"ITA\",\"CIV\",\"JAM\",\"JPN\",\"JEY\",\"JOR\",\"KAZ\",\"KEN\",\"KIR\",\"KWT\",\"KGZ\",\"LAO\",\"LVA\",\"LBN\",\"LSO\",\"LBR\",\"LBY\",\"LIE\",\"LTU\",\"LUX\",\"MAC\",\"MDG\",\"MWI\",\"MYS\",\"MDV\",\"MLI\",\"MLT\",\"MHL\",\"MTQ\",\"MRT\",\"MUS\",\"MYT\",\"MEX\",\"FSM\",\"MDA\",\"MCO\",\"MNG\",\"MNE\",\"MSR\",\"MAR\",\"MOZ\",\"MMR\",\"NAM\",\"NRU\",\"NPL\",\"NLD\",\"NCL\",\"NZL\",\"NIC\",\"NER\",\"NGA\",\"NIU\",\"PRK\",\"MKD\",\"NFK\",\"NOR\",\"OMN\",\"PAK\",\"PLW\",\"PSE\",\"PAN\",\"PNG\",\"PRY\",\"PER\",\"PHL\",\"POL\",\"PRT\",\"PRI\",\"QAT\",\"COG\",\"REU\",\"ROU\",\"RUS\",\"RWA\",\"BLM\",\"KNA\",\"LCA\",\"MAF\",\"SPM\",\"VCT\",\"WSM\",\"SMR\",\"STP\",\"SAU\",\"SEN\",\"SRB\",\"SYC\",\"SLE\",\"SGP\",\"SXM\",\"SVK\",\"SVN\",\"SLB\",\"SOM\",\"ZAF\",\"KOR\",\"SSD\",\"ESP\",\"LKA\",\"SDN\",\"SUR\",\"SWE\",\"CHE\",\"SYR\",\"TWN\",\"TJK\",\"TZA\",\"THA\",\"TLS\",\"TGO\",\"TKL\",\"TON\",\"TTO\",\"TUN\",\"TUR\",\"TKM\",\"TCA\",\"TUV\",\"UGA\",\"UKR\",\"ARE\",\"GBR\",\"USA\",\"VIR\",\"URY\",\"UZB\",\"VUT\",\"VAT\",\"VEN\",\"VNM\",\"WLF\",\"ESH\",\"YEM\",\"ZMB\",\"ZWE\"],\"name\":\"\",\"z\":[41128771,2842321,44903225,44273,79824,35588987,15857,93763,45510318,2780469,106445,26177413,8939617,10358074,409984,1472233,171186372,281635,9534954,11655930,405272,13352864,64184,782455,12224110,3233526,2630296,215313498,31305,449002,6781953,22673762,12889576,16767842,27914536,38454327,593149,68706,5579144,17723315,19603733,1425887337,51874024,836774,17011,5180829,4030358,11212191,191163,1251488,10493986,5882261,1120849,72737,11228821,99010212,18001000,110990103,6336392,1674908,3684032,1326062,1201670,123379924,3780,53090,929766,5540745,64626628,304557,306279,2388992,2705992,3744385,83369843,33475870,32649,10384971,56466,125438,395752,171774,17843908,63301,13859341,2105566,808726,11584996,10432860,7488865,9967308,372899,1417173173,275501339,88550570,44496122,5023109,84519,9038309,59037474,28160542,2827377,123951692,110778,11285869,19397998,54027487,131232,4268873,6630623,7529475,1850651,5489739,2305825,5302681,6812341,39327,2750055,647599,695168,29611714,20405317,33938221,523787,22593590,533286,41569,367507,4736139,1299469,326101,127504125,114164,3272996,36469,3398366,627082,4390,37457971,32969517,54179306,2567012,12668,30547580,17564014,289950,5185288,6948392,26207977,218541212,1934,26069416,2093599,49551,5434319,4576298,235824862,18055,5250072,4408581,10142619,6780744,34049588,115559009,39857145,10270865,3252407,2695122,5970424,974052,19659267,144713314,13776698,10967,47657,179857,31791,5862,103948,222382,33660,227380,36408820,17316449,7221365,107118,8605718,5975689,44175,5643453,2119844,724273,17597511,59893885,51815810,10913164,47558630,21832143,46874204,618040,10549347,8740472,22125249,23893394,9952787,65497748,71697030,1341296,8848699,1871,106858,1531044,12356117,85341241,6430770,45703,11312,47249585,39701739,9441129,67508936,338289857,99465,3422794,34627652,326740,510,28301696,98186856,11572,575986,33696614,20017675,16320537],\"type\":\"choropleth\"}],                        {\"template\":{\"data\":{\"histogram2dcontour\":[{\"type\":\"histogram2dcontour\",\"colorbar\":{\"outlinewidth\":0,\"ticks\":\"\"},\"colorscale\":[[0.0,\"#0d0887\"],[0.1111111111111111,\"#46039f\"],[0.2222222222222222,\"#7201a8\"],[0.3333333333333333,\"#9c179e\"],[0.4444444444444444,\"#bd3786\"],[0.5555555555555556,\"#d8576b\"],[0.6666666666666666,\"#ed7953\"],[0.7777777777777778,\"#fb9f3a\"],[0.8888888888888888,\"#fdca26\"],[1.0,\"#f0f921\"]]}],\"choropleth\":[{\"type\":\"choropleth\",\"colorbar\":{\"outlinewidth\":0,\"ticks\":\"\"}}],\"histogram2d\":[{\"type\":\"histogram2d\",\"colorbar\":{\"outlinewidth\":0,\"ticks\":\"\"},\"colorscale\":[[0.0,\"#0d0887\"],[0.1111111111111111,\"#46039f\"],[0.2222222222222222,\"#7201a8\"],[0.3333333333333333,\"#9c179e\"],[0.4444444444444444,\"#bd3786\"],[0.5555555555555556,\"#d8576b\"],[0.6666666666666666,\"#ed7953\"],[0.7777777777777778,\"#fb9f3a\"],[0.8888888888888888,\"#fdca26\"],[1.0,\"#f0f921\"]]}],\"heatmap\":[{\"type\":\"heatmap\",\"colorbar\":{\"outlinewidth\":0,\"ticks\":\"\"},\"colorscale\":[[0.0,\"#0d0887\"],[0.1111111111111111,\"#46039f\"],[0.2222222222222222,\"#7201a8\"],[0.3333333333333333,\"#9c179e\"],[0.4444444444444444,\"#bd3786\"],[0.5555555555555556,\"#d8576b\"],[0.6666666666666666,\"#ed7953\"],[0.7777777777777778,\"#fb9f3a\"],[0.8888888888888888,\"#fdca26\"],[1.0,\"#f0f921\"]]}],\"heatmapgl\":[{\"type\":\"heatmapgl\",\"colorbar\":{\"outlinewidth\":0,\"ticks\":\"\"},\"colorscale\":[[0.0,\"#0d0887\"],[0.1111111111111111,\"#46039f\"],[0.2222222222222222,\"#7201a8\"],[0.3333333333333333,\"#9c179e\"],[0.4444444444444444,\"#bd3786\"],[0.5555555555555556,\"#d8576b\"],[0.6666666666666666,\"#ed7953\"],[0.7777777777777778,\"#fb9f3a\"],[0.8888888888888888,\"#fdca26\"],[1.0,\"#f0f921\"]]}],\"contourcarpet\":[{\"type\":\"contourcarpet\",\"colorbar\":{\"outlinewidth\":0,\"ticks\":\"\"}}],\"contour\":[{\"type\":\"contour\",\"colorbar\":{\"outlinewidth\":0,\"ticks\":\"\"},\"colorscale\":[[0.0,\"#0d0887\"],[0.1111111111111111,\"#46039f\"],[0.2222222222222222,\"#7201a8\"],[0.3333333333333333,\"#9c179e\"],[0.4444444444444444,\"#bd3786\"],[0.5555555555555556,\"#d8576b\"],[0.6666666666666666,\"#ed7953\"],[0.7777777777777778,\"#fb9f3a\"],[0.8888888888888888,\"#fdca26\"],[1.0,\"#f0f921\"]]}],\"surface\":[{\"type\":\"surface\",\"colorbar\":{\"outlinewidth\":0,\"ticks\":\"\"},\"colorscale\":[[0.0,\"#0d0887\"],[0.1111111111111111,\"#46039f\"],[0.2222222222222222,\"#7201a8\"],[0.3333333333333333,\"#9c179e\"],[0.4444444444444444,\"#bd3786\"],[0.5555555555555556,\"#d8576b\"],[0.6666666666666666,\"#ed7953\"],[0.7777777777777778,\"#fb9f3a\"],[0.8888888888888888,\"#fdca26\"],[1.0,\"#f0f921\"]]}],\"mesh3d\":[{\"type\":\"mesh3d\",\"colorbar\":{\"outlinewidth\":0,\"ticks\":\"\"}}],\"scatter\":[{\"fillpattern\":{\"fillmode\":\"overlay\",\"size\":10,\"solidity\":0.2},\"type\":\"scatter\"}],\"parcoords\":[{\"type\":\"parcoords\",\"line\":{\"colorbar\":{\"outlinewidth\":0,\"ticks\":\"\"}}}],\"scatterpolargl\":[{\"type\":\"scatterpolargl\",\"marker\":{\"colorbar\":{\"outlinewidth\":0,\"ticks\":\"\"}}}],\"bar\":[{\"error_x\":{\"color\":\"#2a3f5f\"},\"error_y\":{\"color\":\"#2a3f5f\"},\"marker\":{\"line\":{\"color\":\"#E5ECF6\",\"width\":0.5},\"pattern\":{\"fillmode\":\"overlay\",\"size\":10,\"solidity\":0.2}},\"type\":\"bar\"}],\"scattergeo\":[{\"type\":\"scattergeo\",\"marker\":{\"colorbar\":{\"outlinewidth\":0,\"ticks\":\"\"}}}],\"scatterpolar\":[{\"type\":\"scatterpolar\",\"marker\":{\"colorbar\":{\"outlinewidth\":0,\"ticks\":\"\"}}}],\"histogram\":[{\"marker\":{\"pattern\":{\"fillmode\":\"overlay\",\"size\":10,\"solidity\":0.2}},\"type\":\"histogram\"}],\"scattergl\":[{\"type\":\"scattergl\",\"marker\":{\"colorbar\":{\"outlinewidth\":0,\"ticks\":\"\"}}}],\"scatter3d\":[{\"type\":\"scatter3d\",\"line\":{\"colorbar\":{\"outlinewidth\":0,\"ticks\":\"\"}},\"marker\":{\"colorbar\":{\"outlinewidth\":0,\"ticks\":\"\"}}}],\"scattermapbox\":[{\"type\":\"scattermapbox\",\"marker\":{\"colorbar\":{\"outlinewidth\":0,\"ticks\":\"\"}}}],\"scatterternary\":[{\"type\":\"scatterternary\",\"marker\":{\"colorbar\":{\"outlinewidth\":0,\"ticks\":\"\"}}}],\"scattercarpet\":[{\"type\":\"scattercarpet\",\"marker\":{\"colorbar\":{\"outlinewidth\":0,\"ticks\":\"\"}}}],\"carpet\":[{\"aaxis\":{\"endlinecolor\":\"#2a3f5f\",\"gridcolor\":\"white\",\"linecolor\":\"white\",\"minorgridcolor\":\"white\",\"startlinecolor\":\"#2a3f5f\"},\"baxis\":{\"endlinecolor\":\"#2a3f5f\",\"gridcolor\":\"white\",\"linecolor\":\"white\",\"minorgridcolor\":\"white\",\"startlinecolor\":\"#2a3f5f\"},\"type\":\"carpet\"}],\"table\":[{\"cells\":{\"fill\":{\"color\":\"#EBF0F8\"},\"line\":{\"color\":\"white\"}},\"header\":{\"fill\":{\"color\":\"#C8D4E3\"},\"line\":{\"color\":\"white\"}},\"type\":\"table\"}],\"barpolar\":[{\"marker\":{\"line\":{\"color\":\"#E5ECF6\",\"width\":0.5},\"pattern\":{\"fillmode\":\"overlay\",\"size\":10,\"solidity\":0.2}},\"type\":\"barpolar\"}],\"pie\":[{\"automargin\":true,\"type\":\"pie\"}]},\"layout\":{\"autotypenumbers\":\"strict\",\"colorway\":[\"#636efa\",\"#EF553B\",\"#00cc96\",\"#ab63fa\",\"#FFA15A\",\"#19d3f3\",\"#FF6692\",\"#B6E880\",\"#FF97FF\",\"#FECB52\"],\"font\":{\"color\":\"#2a3f5f\"},\"hovermode\":\"closest\",\"hoverlabel\":{\"align\":\"left\"},\"paper_bgcolor\":\"white\",\"plot_bgcolor\":\"#E5ECF6\",\"polar\":{\"bgcolor\":\"#E5ECF6\",\"angularaxis\":{\"gridcolor\":\"white\",\"linecolor\":\"white\",\"ticks\":\"\"},\"radialaxis\":{\"gridcolor\":\"white\",\"linecolor\":\"white\",\"ticks\":\"\"}},\"ternary\":{\"bgcolor\":\"#E5ECF6\",\"aaxis\":{\"gridcolor\":\"white\",\"linecolor\":\"white\",\"ticks\":\"\"},\"baxis\":{\"gridcolor\":\"white\",\"linecolor\":\"white\",\"ticks\":\"\"},\"caxis\":{\"gridcolor\":\"white\",\"linecolor\":\"white\",\"ticks\":\"\"}},\"coloraxis\":{\"colorbar\":{\"outlinewidth\":0,\"ticks\":\"\"}},\"colorscale\":{\"sequential\":[[0.0,\"#0d0887\"],[0.1111111111111111,\"#46039f\"],[0.2222222222222222,\"#7201a8\"],[0.3333333333333333,\"#9c179e\"],[0.4444444444444444,\"#bd3786\"],[0.5555555555555556,\"#d8576b\"],[0.6666666666666666,\"#ed7953\"],[0.7777777777777778,\"#fb9f3a\"],[0.8888888888888888,\"#fdca26\"],[1.0,\"#f0f921\"]],\"sequentialminus\":[[0.0,\"#0d0887\"],[0.1111111111111111,\"#46039f\"],[0.2222222222222222,\"#7201a8\"],[0.3333333333333333,\"#9c179e\"],[0.4444444444444444,\"#bd3786\"],[0.5555555555555556,\"#d8576b\"],[0.6666666666666666,\"#ed7953\"],[0.7777777777777778,\"#fb9f3a\"],[0.8888888888888888,\"#fdca26\"],[1.0,\"#f0f921\"]],\"diverging\":[[0,\"#8e0152\"],[0.1,\"#c51b7d\"],[0.2,\"#de77ae\"],[0.3,\"#f1b6da\"],[0.4,\"#fde0ef\"],[0.5,\"#f7f7f7\"],[0.6,\"#e6f5d0\"],[0.7,\"#b8e186\"],[0.8,\"#7fbc41\"],[0.9,\"#4d9221\"],[1,\"#276419\"]]},\"xaxis\":{\"gridcolor\":\"white\",\"linecolor\":\"white\",\"ticks\":\"\",\"title\":{\"standoff\":15},\"zerolinecolor\":\"white\",\"automargin\":true,\"zerolinewidth\":2},\"yaxis\":{\"gridcolor\":\"white\",\"linecolor\":\"white\",\"ticks\":\"\",\"title\":{\"standoff\":15},\"zerolinecolor\":\"white\",\"automargin\":true,\"zerolinewidth\":2},\"scene\":{\"xaxis\":{\"backgroundcolor\":\"#E5ECF6\",\"gridcolor\":\"white\",\"linecolor\":\"white\",\"showbackground\":true,\"ticks\":\"\",\"zerolinecolor\":\"white\",\"gridwidth\":2},\"yaxis\":{\"backgroundcolor\":\"#E5ECF6\",\"gridcolor\":\"white\",\"linecolor\":\"white\",\"showbackground\":true,\"ticks\":\"\",\"zerolinecolor\":\"white\",\"gridwidth\":2},\"zaxis\":{\"backgroundcolor\":\"#E5ECF6\",\"gridcolor\":\"white\",\"linecolor\":\"white\",\"showbackground\":true,\"ticks\":\"\",\"zerolinecolor\":\"white\",\"gridwidth\":2}},\"shapedefaults\":{\"line\":{\"color\":\"#2a3f5f\"}},\"annotationdefaults\":{\"arrowcolor\":\"#2a3f5f\",\"arrowhead\":0,\"arrowwidth\":1},\"geo\":{\"bgcolor\":\"white\",\"landcolor\":\"#E5ECF6\",\"subunitcolor\":\"white\",\"showland\":true,\"showlakes\":true,\"lakecolor\":\"white\"},\"title\":{\"x\":0.05},\"mapbox\":{\"style\":\"light\"}}},\"geo\":{\"domain\":{\"x\":[0.0,1.0],\"y\":[0.0,1.0]},\"center\":{}},\"coloraxis\":{\"colorbar\":{\"title\":{\"text\":\"2022 Population\"}},\"colorscale\":[[0.0,\"rgb(247,251,255)\"],[0.125,\"rgb(222,235,247)\"],[0.25,\"rgb(198,219,239)\"],[0.375,\"rgb(158,202,225)\"],[0.5,\"rgb(107,174,214)\"],[0.625,\"rgb(66,146,198)\"],[0.75,\"rgb(33,113,181)\"],[0.875,\"rgb(8,81,156)\"],[1.0,\"rgb(8,48,107)\"]],\"cmin\":0,\"cmax\":500000000},\"legend\":{\"tracegroupgap\":0},\"margin\":{\"t\":0,\"r\":0,\"l\":0,\"b\":0},\"dragmode\":false},                        {\"responsive\": true}                    ).then(function(){\n",
       "                            \n",
       "var gd = document.getElementById('3c039974-7c8a-4f39-bead-461af839c0d9');\n",
       "var x = new MutationObserver(function (mutations, observer) {{\n",
       "        var display = window.getComputedStyle(gd).display;\n",
       "        if (!display || display === 'none') {{\n",
       "            console.log([gd, 'removed!']);\n",
       "            Plotly.purge(gd);\n",
       "            observer.disconnect();\n",
       "        }}\n",
       "}});\n",
       "\n",
       "// Listen for the removal of the full notebook cells\n",
       "var notebookContainer = gd.closest('#notebook-container');\n",
       "if (notebookContainer) {{\n",
       "    x.observe(notebookContainer, {childList: true});\n",
       "}}\n",
       "\n",
       "// Listen for the clearing of the current output cell\n",
       "var outputEl = gd.closest('.output');\n",
       "if (outputEl) {{\n",
       "    x.observe(outputEl, {childList: true});\n",
       "}}\n",
       "\n",
       "                        })                };                });            </script>        </div>"
      ]
     },
     "metadata": {},
     "output_type": "display_data"
    }
   ],
   "source": [
    "#Chart 1: world population\n",
    "fig = px.choropleth(df, locations='CCA3', color='2022 Population',\n",
    "                           color_continuous_scale=\"Blues\",\n",
    "                           range_color=(0, 500000000),\n",
    "                           labels={'2022 Population':'2022 Population'}\n",
    "                          )\n",
    "fig.update_layout(margin={\"r\":0,\"t\":0,\"l\":0,\"b\":0}, dragmode=False)\n",
    "fig.show()"
   ]
  },
  {
   "cell_type": "code",
   "execution_count": 109,
   "metadata": {},
   "outputs": [
    {
     "data": {
      "text/html": [
       "<div>\n",
       "<style scoped>\n",
       "    .dataframe tbody tr th:only-of-type {\n",
       "        vertical-align: middle;\n",
       "    }\n",
       "\n",
       "    .dataframe tbody tr th {\n",
       "        vertical-align: top;\n",
       "    }\n",
       "\n",
       "    .dataframe thead th {\n",
       "        text-align: right;\n",
       "    }\n",
       "</style>\n",
       "<table border=\"1\" class=\"dataframe\">\n",
       "  <thead>\n",
       "    <tr style=\"text-align: right;\">\n",
       "      <th></th>\n",
       "      <th>Country</th>\n",
       "      <th>1970 Population</th>\n",
       "      <th>1980 Population</th>\n",
       "      <th>1990 Population</th>\n",
       "      <th>2000 Population</th>\n",
       "      <th>2010 Population</th>\n",
       "      <th>2015 Population</th>\n",
       "      <th>2020 Population</th>\n",
       "      <th>2022 Population</th>\n",
       "    </tr>\n",
       "  </thead>\n",
       "  <tbody>\n",
       "    <tr>\n",
       "      <th>0</th>\n",
       "      <td>Afghanistan</td>\n",
       "      <td>10752971</td>\n",
       "      <td>12486631</td>\n",
       "      <td>10694796</td>\n",
       "      <td>19542982</td>\n",
       "      <td>28189672</td>\n",
       "      <td>33753499</td>\n",
       "      <td>38972230</td>\n",
       "      <td>41128771</td>\n",
       "    </tr>\n",
       "    <tr>\n",
       "      <th>1</th>\n",
       "      <td>Albania</td>\n",
       "      <td>2324731</td>\n",
       "      <td>2941651</td>\n",
       "      <td>3295066</td>\n",
       "      <td>3182021</td>\n",
       "      <td>2913399</td>\n",
       "      <td>2882481</td>\n",
       "      <td>2866849</td>\n",
       "      <td>2842321</td>\n",
       "    </tr>\n",
       "    <tr>\n",
       "      <th>2</th>\n",
       "      <td>Algeria</td>\n",
       "      <td>13795915</td>\n",
       "      <td>18739378</td>\n",
       "      <td>25518074</td>\n",
       "      <td>30774621</td>\n",
       "      <td>35856344</td>\n",
       "      <td>39543154</td>\n",
       "      <td>43451666</td>\n",
       "      <td>44903225</td>\n",
       "    </tr>\n",
       "    <tr>\n",
       "      <th>3</th>\n",
       "      <td>American Samoa</td>\n",
       "      <td>27075</td>\n",
       "      <td>32886</td>\n",
       "      <td>47818</td>\n",
       "      <td>58230</td>\n",
       "      <td>54849</td>\n",
       "      <td>51368</td>\n",
       "      <td>46189</td>\n",
       "      <td>44273</td>\n",
       "    </tr>\n",
       "    <tr>\n",
       "      <th>4</th>\n",
       "      <td>Andorra</td>\n",
       "      <td>19860</td>\n",
       "      <td>35611</td>\n",
       "      <td>53569</td>\n",
       "      <td>66097</td>\n",
       "      <td>71519</td>\n",
       "      <td>71746</td>\n",
       "      <td>77700</td>\n",
       "      <td>79824</td>\n",
       "    </tr>\n",
       "    <tr>\n",
       "      <th>...</th>\n",
       "      <td>...</td>\n",
       "      <td>...</td>\n",
       "      <td>...</td>\n",
       "      <td>...</td>\n",
       "      <td>...</td>\n",
       "      <td>...</td>\n",
       "      <td>...</td>\n",
       "      <td>...</td>\n",
       "      <td>...</td>\n",
       "    </tr>\n",
       "    <tr>\n",
       "      <th>229</th>\n",
       "      <td>Wallis and Futuna</td>\n",
       "      <td>9377</td>\n",
       "      <td>11315</td>\n",
       "      <td>13454</td>\n",
       "      <td>14723</td>\n",
       "      <td>13142</td>\n",
       "      <td>12182</td>\n",
       "      <td>11655</td>\n",
       "      <td>11572</td>\n",
       "    </tr>\n",
       "    <tr>\n",
       "      <th>230</th>\n",
       "      <td>Western Sahara</td>\n",
       "      <td>76371</td>\n",
       "      <td>116775</td>\n",
       "      <td>178529</td>\n",
       "      <td>270375</td>\n",
       "      <td>413296</td>\n",
       "      <td>491824</td>\n",
       "      <td>556048</td>\n",
       "      <td>575986</td>\n",
       "    </tr>\n",
       "    <tr>\n",
       "      <th>231</th>\n",
       "      <td>Yemen</td>\n",
       "      <td>6843607</td>\n",
       "      <td>9204938</td>\n",
       "      <td>13375121</td>\n",
       "      <td>18628700</td>\n",
       "      <td>24743946</td>\n",
       "      <td>28516545</td>\n",
       "      <td>32284046</td>\n",
       "      <td>33696614</td>\n",
       "    </tr>\n",
       "    <tr>\n",
       "      <th>232</th>\n",
       "      <td>Zambia</td>\n",
       "      <td>4281671</td>\n",
       "      <td>5720438</td>\n",
       "      <td>7686401</td>\n",
       "      <td>9891136</td>\n",
       "      <td>13792086</td>\n",
       "      <td>16248230</td>\n",
       "      <td>18927715</td>\n",
       "      <td>20017675</td>\n",
       "    </tr>\n",
       "    <tr>\n",
       "      <th>233</th>\n",
       "      <td>Zimbabwe</td>\n",
       "      <td>5202918</td>\n",
       "      <td>7049926</td>\n",
       "      <td>10113893</td>\n",
       "      <td>11834676</td>\n",
       "      <td>12839771</td>\n",
       "      <td>14154937</td>\n",
       "      <td>15669666</td>\n",
       "      <td>16320537</td>\n",
       "    </tr>\n",
       "  </tbody>\n",
       "</table>\n",
       "<p>234 rows × 9 columns</p>\n",
       "</div>"
      ],
      "text/plain": [
       "               Country  1970 Population  1980 Population  1990 Population  \\\n",
       "0          Afghanistan         10752971         12486631         10694796   \n",
       "1              Albania          2324731          2941651          3295066   \n",
       "2              Algeria         13795915         18739378         25518074   \n",
       "3       American Samoa            27075            32886            47818   \n",
       "4              Andorra            19860            35611            53569   \n",
       "..                 ...              ...              ...              ...   \n",
       "229  Wallis and Futuna             9377            11315            13454   \n",
       "230     Western Sahara            76371           116775           178529   \n",
       "231              Yemen          6843607          9204938         13375121   \n",
       "232             Zambia          4281671          5720438          7686401   \n",
       "233           Zimbabwe          5202918          7049926         10113893   \n",
       "\n",
       "     2000 Population  2010 Population  2015 Population  2020 Population  \\\n",
       "0           19542982         28189672         33753499         38972230   \n",
       "1            3182021          2913399          2882481          2866849   \n",
       "2           30774621         35856344         39543154         43451666   \n",
       "3              58230            54849            51368            46189   \n",
       "4              66097            71519            71746            77700   \n",
       "..               ...              ...              ...              ...   \n",
       "229            14723            13142            12182            11655   \n",
       "230           270375           413296           491824           556048   \n",
       "231         18628700         24743946         28516545         32284046   \n",
       "232          9891136         13792086         16248230         18927715   \n",
       "233         11834676         12839771         14154937         15669666   \n",
       "\n",
       "     2022 Population  \n",
       "0           41128771  \n",
       "1            2842321  \n",
       "2           44903225  \n",
       "3              44273  \n",
       "4              79824  \n",
       "..               ...  \n",
       "229            11572  \n",
       "230           575986  \n",
       "231         33696614  \n",
       "232         20017675  \n",
       "233         16320537  \n",
       "\n",
       "[234 rows x 9 columns]"
      ]
     },
     "execution_count": 109,
     "metadata": {},
     "output_type": "execute_result"
    }
   ],
   "source": [
    "#Get population from 1970 to 2022\n",
    "df_population = df[df.columns[5:13]]\n",
    "\n",
    "#Invert order of columns\n",
    "df_population = df_population[df_population.columns[::-1]]\n",
    "df_population.insert(0, 'Country', df['Country'])\n",
    "\n",
    "df_population"
   ]
  },
  {
   "cell_type": "code",
   "execution_count": 125,
   "metadata": {},
   "outputs": [
    {
     "data": {
      "application/vnd.plotly.v1+json": {
       "config": {
        "plotlyServerURL": "https://plot.ly"
       },
       "data": [
        {
         "fill": "tozeroy",
         "type": "scatter",
         "visible": true,
         "x": [
          "1970 Population",
          "1980 Population",
          "1990 Population",
          "2000 Population",
          "2010 Population",
          "2015 Population",
          "2020 Population",
          "2022 Population"
         ],
         "y": [
          10752971,
          12486631,
          10694796,
          19542982,
          28189672,
          33753499,
          38972230,
          41128771
         ]
        }
       ],
       "layout": {
        "showlegend": false,
        "template": {
         "data": {
          "bar": [
           {
            "error_x": {
             "color": "#2a3f5f"
            },
            "error_y": {
             "color": "#2a3f5f"
            },
            "marker": {
             "line": {
              "color": "#E5ECF6",
              "width": 0.5
             },
             "pattern": {
              "fillmode": "overlay",
              "size": 10,
              "solidity": 0.2
             }
            },
            "type": "bar"
           }
          ],
          "barpolar": [
           {
            "marker": {
             "line": {
              "color": "#E5ECF6",
              "width": 0.5
             },
             "pattern": {
              "fillmode": "overlay",
              "size": 10,
              "solidity": 0.2
             }
            },
            "type": "barpolar"
           }
          ],
          "carpet": [
           {
            "aaxis": {
             "endlinecolor": "#2a3f5f",
             "gridcolor": "white",
             "linecolor": "white",
             "minorgridcolor": "white",
             "startlinecolor": "#2a3f5f"
            },
            "baxis": {
             "endlinecolor": "#2a3f5f",
             "gridcolor": "white",
             "linecolor": "white",
             "minorgridcolor": "white",
             "startlinecolor": "#2a3f5f"
            },
            "type": "carpet"
           }
          ],
          "choropleth": [
           {
            "colorbar": {
             "outlinewidth": 0,
             "ticks": ""
            },
            "type": "choropleth"
           }
          ],
          "contour": [
           {
            "colorbar": {
             "outlinewidth": 0,
             "ticks": ""
            },
            "colorscale": [
             [
              0,
              "#0d0887"
             ],
             [
              0.1111111111111111,
              "#46039f"
             ],
             [
              0.2222222222222222,
              "#7201a8"
             ],
             [
              0.3333333333333333,
              "#9c179e"
             ],
             [
              0.4444444444444444,
              "#bd3786"
             ],
             [
              0.5555555555555556,
              "#d8576b"
             ],
             [
              0.6666666666666666,
              "#ed7953"
             ],
             [
              0.7777777777777778,
              "#fb9f3a"
             ],
             [
              0.8888888888888888,
              "#fdca26"
             ],
             [
              1,
              "#f0f921"
             ]
            ],
            "type": "contour"
           }
          ],
          "contourcarpet": [
           {
            "colorbar": {
             "outlinewidth": 0,
             "ticks": ""
            },
            "type": "contourcarpet"
           }
          ],
          "heatmap": [
           {
            "colorbar": {
             "outlinewidth": 0,
             "ticks": ""
            },
            "colorscale": [
             [
              0,
              "#0d0887"
             ],
             [
              0.1111111111111111,
              "#46039f"
             ],
             [
              0.2222222222222222,
              "#7201a8"
             ],
             [
              0.3333333333333333,
              "#9c179e"
             ],
             [
              0.4444444444444444,
              "#bd3786"
             ],
             [
              0.5555555555555556,
              "#d8576b"
             ],
             [
              0.6666666666666666,
              "#ed7953"
             ],
             [
              0.7777777777777778,
              "#fb9f3a"
             ],
             [
              0.8888888888888888,
              "#fdca26"
             ],
             [
              1,
              "#f0f921"
             ]
            ],
            "type": "heatmap"
           }
          ],
          "heatmapgl": [
           {
            "colorbar": {
             "outlinewidth": 0,
             "ticks": ""
            },
            "colorscale": [
             [
              0,
              "#0d0887"
             ],
             [
              0.1111111111111111,
              "#46039f"
             ],
             [
              0.2222222222222222,
              "#7201a8"
             ],
             [
              0.3333333333333333,
              "#9c179e"
             ],
             [
              0.4444444444444444,
              "#bd3786"
             ],
             [
              0.5555555555555556,
              "#d8576b"
             ],
             [
              0.6666666666666666,
              "#ed7953"
             ],
             [
              0.7777777777777778,
              "#fb9f3a"
             ],
             [
              0.8888888888888888,
              "#fdca26"
             ],
             [
              1,
              "#f0f921"
             ]
            ],
            "type": "heatmapgl"
           }
          ],
          "histogram": [
           {
            "marker": {
             "pattern": {
              "fillmode": "overlay",
              "size": 10,
              "solidity": 0.2
             }
            },
            "type": "histogram"
           }
          ],
          "histogram2d": [
           {
            "colorbar": {
             "outlinewidth": 0,
             "ticks": ""
            },
            "colorscale": [
             [
              0,
              "#0d0887"
             ],
             [
              0.1111111111111111,
              "#46039f"
             ],
             [
              0.2222222222222222,
              "#7201a8"
             ],
             [
              0.3333333333333333,
              "#9c179e"
             ],
             [
              0.4444444444444444,
              "#bd3786"
             ],
             [
              0.5555555555555556,
              "#d8576b"
             ],
             [
              0.6666666666666666,
              "#ed7953"
             ],
             [
              0.7777777777777778,
              "#fb9f3a"
             ],
             [
              0.8888888888888888,
              "#fdca26"
             ],
             [
              1,
              "#f0f921"
             ]
            ],
            "type": "histogram2d"
           }
          ],
          "histogram2dcontour": [
           {
            "colorbar": {
             "outlinewidth": 0,
             "ticks": ""
            },
            "colorscale": [
             [
              0,
              "#0d0887"
             ],
             [
              0.1111111111111111,
              "#46039f"
             ],
             [
              0.2222222222222222,
              "#7201a8"
             ],
             [
              0.3333333333333333,
              "#9c179e"
             ],
             [
              0.4444444444444444,
              "#bd3786"
             ],
             [
              0.5555555555555556,
              "#d8576b"
             ],
             [
              0.6666666666666666,
              "#ed7953"
             ],
             [
              0.7777777777777778,
              "#fb9f3a"
             ],
             [
              0.8888888888888888,
              "#fdca26"
             ],
             [
              1,
              "#f0f921"
             ]
            ],
            "type": "histogram2dcontour"
           }
          ],
          "mesh3d": [
           {
            "colorbar": {
             "outlinewidth": 0,
             "ticks": ""
            },
            "type": "mesh3d"
           }
          ],
          "parcoords": [
           {
            "line": {
             "colorbar": {
              "outlinewidth": 0,
              "ticks": ""
             }
            },
            "type": "parcoords"
           }
          ],
          "pie": [
           {
            "automargin": true,
            "type": "pie"
           }
          ],
          "scatter": [
           {
            "fillpattern": {
             "fillmode": "overlay",
             "size": 10,
             "solidity": 0.2
            },
            "type": "scatter"
           }
          ],
          "scatter3d": [
           {
            "line": {
             "colorbar": {
              "outlinewidth": 0,
              "ticks": ""
             }
            },
            "marker": {
             "colorbar": {
              "outlinewidth": 0,
              "ticks": ""
             }
            },
            "type": "scatter3d"
           }
          ],
          "scattercarpet": [
           {
            "marker": {
             "colorbar": {
              "outlinewidth": 0,
              "ticks": ""
             }
            },
            "type": "scattercarpet"
           }
          ],
          "scattergeo": [
           {
            "marker": {
             "colorbar": {
              "outlinewidth": 0,
              "ticks": ""
             }
            },
            "type": "scattergeo"
           }
          ],
          "scattergl": [
           {
            "marker": {
             "colorbar": {
              "outlinewidth": 0,
              "ticks": ""
             }
            },
            "type": "scattergl"
           }
          ],
          "scattermapbox": [
           {
            "marker": {
             "colorbar": {
              "outlinewidth": 0,
              "ticks": ""
             }
            },
            "type": "scattermapbox"
           }
          ],
          "scatterpolar": [
           {
            "marker": {
             "colorbar": {
              "outlinewidth": 0,
              "ticks": ""
             }
            },
            "type": "scatterpolar"
           }
          ],
          "scatterpolargl": [
           {
            "marker": {
             "colorbar": {
              "outlinewidth": 0,
              "ticks": ""
             }
            },
            "type": "scatterpolargl"
           }
          ],
          "scatterternary": [
           {
            "marker": {
             "colorbar": {
              "outlinewidth": 0,
              "ticks": ""
             }
            },
            "type": "scatterternary"
           }
          ],
          "surface": [
           {
            "colorbar": {
             "outlinewidth": 0,
             "ticks": ""
            },
            "colorscale": [
             [
              0,
              "#0d0887"
             ],
             [
              0.1111111111111111,
              "#46039f"
             ],
             [
              0.2222222222222222,
              "#7201a8"
             ],
             [
              0.3333333333333333,
              "#9c179e"
             ],
             [
              0.4444444444444444,
              "#bd3786"
             ],
             [
              0.5555555555555556,
              "#d8576b"
             ],
             [
              0.6666666666666666,
              "#ed7953"
             ],
             [
              0.7777777777777778,
              "#fb9f3a"
             ],
             [
              0.8888888888888888,
              "#fdca26"
             ],
             [
              1,
              "#f0f921"
             ]
            ],
            "type": "surface"
           }
          ],
          "table": [
           {
            "cells": {
             "fill": {
              "color": "#EBF0F8"
             },
             "line": {
              "color": "white"
             }
            },
            "header": {
             "fill": {
              "color": "#C8D4E3"
             },
             "line": {
              "color": "white"
             }
            },
            "type": "table"
           }
          ]
         },
         "layout": {
          "annotationdefaults": {
           "arrowcolor": "#2a3f5f",
           "arrowhead": 0,
           "arrowwidth": 1
          },
          "autotypenumbers": "strict",
          "coloraxis": {
           "colorbar": {
            "outlinewidth": 0,
            "ticks": ""
           }
          },
          "colorscale": {
           "diverging": [
            [
             0,
             "#8e0152"
            ],
            [
             0.1,
             "#c51b7d"
            ],
            [
             0.2,
             "#de77ae"
            ],
            [
             0.3,
             "#f1b6da"
            ],
            [
             0.4,
             "#fde0ef"
            ],
            [
             0.5,
             "#f7f7f7"
            ],
            [
             0.6,
             "#e6f5d0"
            ],
            [
             0.7,
             "#b8e186"
            ],
            [
             0.8,
             "#7fbc41"
            ],
            [
             0.9,
             "#4d9221"
            ],
            [
             1,
             "#276419"
            ]
           ],
           "sequential": [
            [
             0,
             "#0d0887"
            ],
            [
             0.1111111111111111,
             "#46039f"
            ],
            [
             0.2222222222222222,
             "#7201a8"
            ],
            [
             0.3333333333333333,
             "#9c179e"
            ],
            [
             0.4444444444444444,
             "#bd3786"
            ],
            [
             0.5555555555555556,
             "#d8576b"
            ],
            [
             0.6666666666666666,
             "#ed7953"
            ],
            [
             0.7777777777777778,
             "#fb9f3a"
            ],
            [
             0.8888888888888888,
             "#fdca26"
            ],
            [
             1,
             "#f0f921"
            ]
           ],
           "sequentialminus": [
            [
             0,
             "#0d0887"
            ],
            [
             0.1111111111111111,
             "#46039f"
            ],
            [
             0.2222222222222222,
             "#7201a8"
            ],
            [
             0.3333333333333333,
             "#9c179e"
            ],
            [
             0.4444444444444444,
             "#bd3786"
            ],
            [
             0.5555555555555556,
             "#d8576b"
            ],
            [
             0.6666666666666666,
             "#ed7953"
            ],
            [
             0.7777777777777778,
             "#fb9f3a"
            ],
            [
             0.8888888888888888,
             "#fdca26"
            ],
            [
             1,
             "#f0f921"
            ]
           ]
          },
          "colorway": [
           "#636efa",
           "#EF553B",
           "#00cc96",
           "#ab63fa",
           "#FFA15A",
           "#19d3f3",
           "#FF6692",
           "#B6E880",
           "#FF97FF",
           "#FECB52"
          ],
          "font": {
           "color": "#2a3f5f"
          },
          "geo": {
           "bgcolor": "white",
           "lakecolor": "white",
           "landcolor": "#E5ECF6",
           "showlakes": true,
           "showland": true,
           "subunitcolor": "white"
          },
          "hoverlabel": {
           "align": "left"
          },
          "hovermode": "closest",
          "mapbox": {
           "style": "light"
          },
          "paper_bgcolor": "white",
          "plot_bgcolor": "#E5ECF6",
          "polar": {
           "angularaxis": {
            "gridcolor": "white",
            "linecolor": "white",
            "ticks": ""
           },
           "bgcolor": "#E5ECF6",
           "radialaxis": {
            "gridcolor": "white",
            "linecolor": "white",
            "ticks": ""
           }
          },
          "scene": {
           "xaxis": {
            "backgroundcolor": "#E5ECF6",
            "gridcolor": "white",
            "gridwidth": 2,
            "linecolor": "white",
            "showbackground": true,
            "ticks": "",
            "zerolinecolor": "white"
           },
           "yaxis": {
            "backgroundcolor": "#E5ECF6",
            "gridcolor": "white",
            "gridwidth": 2,
            "linecolor": "white",
            "showbackground": true,
            "ticks": "",
            "zerolinecolor": "white"
           },
           "zaxis": {
            "backgroundcolor": "#E5ECF6",
            "gridcolor": "white",
            "gridwidth": 2,
            "linecolor": "white",
            "showbackground": true,
            "ticks": "",
            "zerolinecolor": "white"
           }
          },
          "shapedefaults": {
           "line": {
            "color": "#2a3f5f"
           }
          },
          "ternary": {
           "aaxis": {
            "gridcolor": "white",
            "linecolor": "white",
            "ticks": ""
           },
           "baxis": {
            "gridcolor": "white",
            "linecolor": "white",
            "ticks": ""
           },
           "bgcolor": "#E5ECF6",
           "caxis": {
            "gridcolor": "white",
            "linecolor": "white",
            "ticks": ""
           }
          },
          "title": {
           "x": 0.05
          },
          "xaxis": {
           "automargin": true,
           "gridcolor": "white",
           "linecolor": "white",
           "ticks": "",
           "title": {
            "standoff": 15
           },
           "zerolinecolor": "white",
           "zerolinewidth": 2
          },
          "yaxis": {
           "automargin": true,
           "gridcolor": "white",
           "linecolor": "white",
           "ticks": "",
           "title": {
            "standoff": 15
           },
           "zerolinecolor": "white",
           "zerolinewidth": 2
          }
         }
        },
        "updatemenus": [
         {
          "buttons": [
           {
            "args": [
             {
              "fill": "tozeroy",
              "type": "line",
              "x": [
               [
                "1970 Population",
                "1980 Population",
                "1990 Population",
                "2000 Population",
                "2010 Population",
                "2015 Population",
                "2020 Population",
                "2022 Population"
               ]
              ],
              "y": [
               [
                10752971,
                12486631,
                10694796,
                19542982,
                28189672,
                33753499,
                38972230,
                41128771
               ]
              ]
             },
             [
              0
             ]
            ],
            "label": "Afghanistan",
            "method": "restyle",
            "visible": true
           },
           {
            "args": [
             {
              "fill": "tozeroy",
              "type": "line",
              "x": [
               [
                "1970 Population",
                "1980 Population",
                "1990 Population",
                "2000 Population",
                "2010 Population",
                "2015 Population",
                "2020 Population",
                "2022 Population"
               ]
              ],
              "y": [
               [
                2324731,
                2941651,
                3295066,
                3182021,
                2913399,
                2882481,
                2866849,
                2842321
               ]
              ]
             },
             [
              0
             ]
            ],
            "label": "Albania",
            "method": "restyle",
            "visible": true
           },
           {
            "args": [
             {
              "fill": "tozeroy",
              "type": "line",
              "x": [
               [
                "1970 Population",
                "1980 Population",
                "1990 Population",
                "2000 Population",
                "2010 Population",
                "2015 Population",
                "2020 Population",
                "2022 Population"
               ]
              ],
              "y": [
               [
                13795915,
                18739378,
                25518074,
                30774621,
                35856344,
                39543154,
                43451666,
                44903225
               ]
              ]
             },
             [
              0
             ]
            ],
            "label": "Algeria",
            "method": "restyle",
            "visible": true
           },
           {
            "args": [
             {
              "fill": "tozeroy",
              "type": "line",
              "x": [
               [
                "1970 Population",
                "1980 Population",
                "1990 Population",
                "2000 Population",
                "2010 Population",
                "2015 Population",
                "2020 Population",
                "2022 Population"
               ]
              ],
              "y": [
               [
                27075,
                32886,
                47818,
                58230,
                54849,
                51368,
                46189,
                44273
               ]
              ]
             },
             [
              0
             ]
            ],
            "label": "American Samoa",
            "method": "restyle",
            "visible": true
           },
           {
            "args": [
             {
              "fill": "tozeroy",
              "type": "line",
              "x": [
               [
                "1970 Population",
                "1980 Population",
                "1990 Population",
                "2000 Population",
                "2010 Population",
                "2015 Population",
                "2020 Population",
                "2022 Population"
               ]
              ],
              "y": [
               [
                19860,
                35611,
                53569,
                66097,
                71519,
                71746,
                77700,
                79824
               ]
              ]
             },
             [
              0
             ]
            ],
            "label": "Andorra",
            "method": "restyle",
            "visible": true
           },
           {
            "args": [
             {
              "fill": "tozeroy",
              "type": "line",
              "x": [
               [
                "1970 Population",
                "1980 Population",
                "1990 Population",
                "2000 Population",
                "2010 Population",
                "2015 Population",
                "2020 Population",
                "2022 Population"
               ]
              ],
              "y": [
               [
                6029700,
                8330047,
                11828638,
                16394062,
                23364185,
                28127721,
                33428485,
                35588987
               ]
              ]
             },
             [
              0
             ]
            ],
            "label": "Angola",
            "method": "restyle",
            "visible": true
           },
           {
            "args": [
             {
              "fill": "tozeroy",
              "type": "line",
              "x": [
               [
                "1970 Population",
                "1980 Population",
                "1990 Population",
                "2000 Population",
                "2010 Population",
                "2015 Population",
                "2020 Population",
                "2022 Population"
               ]
              ],
              "y": [
               [
                6283,
                6560,
                8316,
                11047,
                13172,
                14525,
                15585,
                15857
               ]
              ]
             },
             [
              0
             ]
            ],
            "label": "Anguilla",
            "method": "restyle",
            "visible": true
           },
           {
            "args": [
             {
              "fill": "tozeroy",
              "type": "line",
              "x": [
               [
                "1970 Population",
                "1980 Population",
                "1990 Population",
                "2000 Population",
                "2010 Population",
                "2015 Population",
                "2020 Population",
                "2022 Population"
               ]
              ],
              "y": [
               [
                64516,
                64888,
                63328,
                75055,
                85695,
                89941,
                92664,
                93763
               ]
              ]
             },
             [
              0
             ]
            ],
            "label": "Antigua and Barbuda",
            "method": "restyle",
            "visible": true
           },
           {
            "args": [
             {
              "fill": "tozeroy",
              "type": "line",
              "x": [
               [
                "1970 Population",
                "1980 Population",
                "1990 Population",
                "2000 Population",
                "2010 Population",
                "2015 Population",
                "2020 Population",
                "2022 Population"
               ]
              ],
              "y": [
               [
                23842803,
                28024803,
                32637657,
                37070774,
                41100123,
                43257065,
                45036032,
                45510318
               ]
              ]
             },
             [
              0
             ]
            ],
            "label": "Argentina",
            "method": "restyle",
            "visible": true
           },
           {
            "args": [
             {
              "fill": "tozeroy",
              "type": "line",
              "x": [
               [
                "1970 Population",
                "1980 Population",
                "1990 Population",
                "2000 Population",
                "2010 Population",
                "2015 Population",
                "2020 Population",
                "2022 Population"
               ]
              ],
              "y": [
               [
                2534377,
                3135123,
                3556539,
                3168523,
                2946293,
                2878595,
                2805608,
                2780469
               ]
              ]
             },
             [
              0
             ]
            ],
            "label": "Armenia",
            "method": "restyle",
            "visible": true
           },
           {
            "args": [
             {
              "fill": "tozeroy",
              "type": "line",
              "x": [
               [
                "1970 Population",
                "1980 Population",
                "1990 Population",
                "2000 Population",
                "2010 Population",
                "2015 Population",
                "2020 Population",
                "2022 Population"
               ]
              ],
              "y": [
               [
                59106,
                62267,
                65712,
                89101,
                100341,
                104257,
                106585,
                106445
               ]
              ]
             },
             [
              0
             ]
            ],
            "label": "Aruba",
            "method": "restyle",
            "visible": true
           },
           {
            "args": [
             {
              "fill": "tozeroy",
              "type": "line",
              "x": [
               [
                "1970 Population",
                "1980 Population",
                "1990 Population",
                "2000 Population",
                "2010 Population",
                "2015 Population",
                "2020 Population",
                "2022 Population"
               ]
              ],
              "y": [
               [
                12595034,
                14706322,
                17048003,
                19017963,
                22019168,
                23820236,
                25670051,
                26177413
               ]
              ]
             },
             [
              0
             ]
            ],
            "label": "Australia",
            "method": "restyle",
            "visible": true
           },
           {
            "args": [
             {
              "fill": "tozeroy",
              "type": "line",
              "x": [
               [
                "1970 Population",
                "1980 Population",
                "1990 Population",
                "2000 Population",
                "2010 Population",
                "2015 Population",
                "2020 Population",
                "2022 Population"
               ]
              ],
              "y": [
               [
                7465301,
                7547561,
                7678729,
                8010428,
                8362829,
                8642421,
                8907777,
                8939617
               ]
              ]
             },
             [
              0
             ]
            ],
            "label": "Austria",
            "method": "restyle",
            "visible": true
           },
           {
            "args": [
             {
              "fill": "tozeroy",
              "type": "line",
              "x": [
               [
                "1970 Population",
                "1980 Population",
                "1990 Population",
                "2000 Population",
                "2010 Population",
                "2015 Population",
                "2020 Population",
                "2022 Population"
               ]
              ],
              "y": [
               [
                5425317,
                6383060,
                7427836,
                8190337,
                9237202,
                9863480,
                10284951,
                10358074
               ]
              ]
             },
             [
              0
             ]
            ],
            "label": "Azerbaijan",
            "method": "restyle",
            "visible": true
           },
           {
            "args": [
             {
              "fill": "tozeroy",
              "type": "line",
              "x": [
               [
                "1970 Population",
                "1980 Population",
                "1990 Population",
                "2000 Population",
                "2010 Population",
                "2015 Population",
                "2020 Population",
                "2022 Population"
               ]
              ],
              "y": [
               [
                179129,
                223752,
                270679,
                325014,
                373272,
                392697,
                406471,
                409984
               ]
              ]
             },
             [
              0
             ]
            ],
            "label": "Bahamas",
            "method": "restyle",
            "visible": true
           },
           {
            "args": [
             {
              "fill": "tozeroy",
              "type": "line",
              "x": [
               [
                "1970 Population",
                "1980 Population",
                "1990 Population",
                "2000 Population",
                "2010 Population",
                "2015 Population",
                "2020 Population",
                "2022 Population"
               ]
              ],
              "y": [
               [
                222555,
                362595,
                517418,
                711442,
                1213645,
                1362142,
                1477469,
                1472233
               ]
              ]
             },
             [
              0
             ]
            ],
            "label": "Bahrain",
            "method": "restyle",
            "visible": true
           },
           {
            "args": [
             {
              "fill": "tozeroy",
              "type": "line",
              "x": [
               [
                "1970 Population",
                "1980 Population",
                "1990 Population",
                "2000 Population",
                "2010 Population",
                "2015 Population",
                "2020 Population",
                "2022 Population"
               ]
              ],
              "y": [
               [
                67541860,
                83929765,
                107147651,
                129193327,
                148391139,
                157830000,
                167420951,
                171186372
               ]
              ]
             },
             [
              0
             ]
            ],
            "label": "Bangladesh",
            "method": "restyle",
            "visible": true
           },
           {
            "args": [
             {
              "fill": "tozeroy",
              "type": "line",
              "x": [
               [
                "1970 Population",
                "1980 Population",
                "1990 Population",
                "2000 Population",
                "2010 Population",
                "2015 Population",
                "2020 Population",
                "2022 Population"
               ]
              ],
              "y": [
               [
                241397,
                253575,
                258868,
                264657,
                274711,
                278083,
                280693,
                281635
               ]
              ]
             },
             [
              0
             ]
            ],
            "label": "Barbados",
            "method": "restyle",
            "visible": true
           },
           {
            "args": [
             {
              "fill": "tozeroy",
              "type": "line",
              "x": [
               [
                "1970 Population",
                "1980 Population",
                "1990 Population",
                "2000 Population",
                "2010 Population",
                "2015 Population",
                "2020 Population",
                "2022 Population"
               ]
              ],
              "y": [
               [
                9170786,
                9817257,
                10428525,
                10256483,
                9731427,
                9700609,
                9633740,
                9534954
               ]
              ]
             },
             [
              0
             ]
            ],
            "label": "Belarus",
            "method": "restyle",
            "visible": true
           },
           {
            "args": [
             {
              "fill": "tozeroy",
              "type": "line",
              "x": [
               [
                "1970 Population",
                "1980 Population",
                "1990 Population",
                "2000 Population",
                "2010 Population",
                "2015 Population",
                "2020 Population",
                "2022 Population"
               ]
              ],
              "y": [
               [
                9629376,
                9828986,
                9959560,
                10264343,
                10877947,
                11248303,
                11561717,
                11655930
               ]
              ]
             },
             [
              0
             ]
            ],
            "label": "Belgium",
            "method": "restyle",
            "visible": true
           },
           {
            "args": [
             {
              "fill": "tozeroy",
              "type": "line",
              "x": [
               [
                "1970 Population",
                "1980 Population",
                "1990 Population",
                "2000 Population",
                "2010 Population",
                "2015 Population",
                "2020 Population",
                "2022 Population"
               ]
              ],
              "y": [
               [
                120905,
                145133,
                182589,
                240406,
                322106,
                359871,
                394921,
                405272
               ]
              ]
             },
             [
              0
             ]
            ],
            "label": "Belize",
            "method": "restyle",
            "visible": true
           },
           {
            "args": [
             {
              "fill": "tozeroy",
              "type": "line",
              "x": [
               [
                "1970 Population",
                "1980 Population",
                "1990 Population",
                "2000 Population",
                "2010 Population",
                "2015 Population",
                "2020 Population",
                "2022 Population"
               ]
              ],
              "y": [
               [
                3023443,
                3833939,
                5133419,
                6998023,
                9445710,
                10932783,
                12643123,
                13352864
               ]
              ]
             },
             [
              0
             ]
            ],
            "label": "Benin",
            "method": "restyle",
            "visible": true
           },
           {
            "args": [
             {
              "fill": "tozeroy",
              "type": "line",
              "x": [
               [
                "1970 Population",
                "1980 Population",
                "1990 Population",
                "2000 Population",
                "2010 Population",
                "2015 Population",
                "2020 Population",
                "2022 Population"
               ]
              ],
              "y": [
               [
                52019,
                53565,
                57470,
                61371,
                63447,
                63144,
                64031,
                64184
               ]
              ]
             },
             [
              0
             ]
            ],
            "label": "Bermuda",
            "method": "restyle",
            "visible": true
           },
           {
            "args": [
             {
              "fill": "tozeroy",
              "type": "line",
              "x": [
               [
                "1970 Population",
                "1980 Population",
                "1990 Population",
                "2000 Population",
                "2010 Population",
                "2015 Population",
                "2020 Population",
                "2022 Population"
               ]
              ],
              "y": [
               [
                298894,
                415257,
                558442,
                587207,
                705516,
                743274,
                772506,
                782455
               ]
              ]
             },
             [
              0
             ]
            ],
            "label": "Bhutan",
            "method": "restyle",
            "visible": true
           },
           {
            "args": [
             {
              "fill": "tozeroy",
              "type": "line",
              "x": [
               [
                "1970 Population",
                "1980 Population",
                "1990 Population",
                "2000 Population",
                "2010 Population",
                "2015 Population",
                "2020 Population",
                "2022 Population"
               ]
              ],
              "y": [
               [
                4585693,
                5736088,
                7096194,
                8592656,
                10223270,
                11090085,
                11936162,
                12224110
               ]
              ]
             },
             [
              0
             ]
            ],
            "label": "Bolivia",
            "method": "restyle",
            "visible": true
           },
           {
            "args": [
             {
              "fill": "tozeroy",
              "type": "line",
              "x": [
               [
                "1970 Population",
                "1980 Population",
                "1990 Population",
                "2000 Population",
                "2010 Population",
                "2015 Population",
                "2020 Population",
                "2022 Population"
               ]
              ],
              "y": [
               [
                3815561,
                4199820,
                4494310,
                4179350,
                3811088,
                3524324,
                3318407,
                3233526
               ]
              ]
             },
             [
              0
             ]
            ],
            "label": "Bosnia and Herzegovina",
            "method": "restyle",
            "visible": true
           },
           {
            "args": [
             {
              "fill": "tozeroy",
              "type": "line",
              "x": [
               [
                "1970 Population",
                "1980 Population",
                "1990 Population",
                "2000 Population",
                "2010 Population",
                "2015 Population",
                "2020 Population",
                "2022 Population"
               ]
              ],
              "y": [
               [
                592244,
                938578,
                1341474,
                1726985,
                2091664,
                2305171,
                2546402,
                2630296
               ]
              ]
             },
             [
              0
             ]
            ],
            "label": "Botswana",
            "method": "restyle",
            "visible": true
           },
           {
            "args": [
             {
              "fill": "tozeroy",
              "type": "line",
              "x": [
               [
                "1970 Population",
                "1980 Population",
                "1990 Population",
                "2000 Population",
                "2010 Population",
                "2015 Population",
                "2020 Population",
                "2022 Population"
               ]
              ],
              "y": [
               [
                96369875,
                122288383,
                150706446,
                175873720,
                196353492,
                205188205,
                213196304,
                215313498
               ]
              ]
             },
             [
              0
             ]
            ],
            "label": "Brazil",
            "method": "restyle",
            "visible": true
           },
           {
            "args": [
             {
              "fill": "tozeroy",
              "type": "line",
              "x": [
               [
                "1970 Population",
                "1980 Population",
                "1990 Population",
                "2000 Population",
                "2010 Population",
                "2015 Population",
                "2020 Population",
                "2022 Population"
               ]
              ],
              "y": [
               [
                9581,
                11109,
                15617,
                20104,
                27556,
                29366,
                30910,
                31305
               ]
              ]
             },
             [
              0
             ]
            ],
            "label": "British Virgin Islands",
            "method": "restyle",
            "visible": true
           },
           {
            "args": [
             {
              "fill": "tozeroy",
              "type": "line",
              "x": [
               [
                "1970 Population",
                "1980 Population",
                "1990 Population",
                "2000 Population",
                "2010 Population",
                "2015 Population",
                "2020 Population",
                "2022 Population"
               ]
              ],
              "y": [
               [
                133343,
                187921,
                261928,
                333926,
                396053,
                421437,
                441725,
                449002
               ]
              ]
             },
             [
              0
             ]
            ],
            "label": "Brunei",
            "method": "restyle",
            "visible": true
           },
           {
            "args": [
             {
              "fill": "tozeroy",
              "type": "line",
              "x": [
               [
                "1970 Population",
                "1980 Population",
                "1990 Population",
                "2000 Population",
                "2010 Population",
                "2015 Population",
                "2020 Population",
                "2022 Population"
               ]
              ],
              "y": [
               [
                8582950,
                8980606,
                8767778,
                8097691,
                7592273,
                7309253,
                6979175,
                6781953
               ]
              ]
             },
             [
              0
             ]
            ],
            "label": "Bulgaria",
            "method": "restyle",
            "visible": true
           },
           {
            "args": [
             {
              "fill": "tozeroy",
              "type": "line",
              "x": [
               [
                "1970 Population",
                "1980 Population",
                "1990 Population",
                "2000 Population",
                "2010 Population",
                "2015 Population",
                "2020 Population",
                "2022 Population"
               ]
              ],
              "y": [
               [
                5611666,
                6932967,
                9131361,
                11882888,
                16116845,
                18718019,
                21522626,
                22673762
               ]
              ]
             },
             [
              0
             ]
            ],
            "label": "Burkina Faso",
            "method": "restyle",
            "visible": true
           },
           {
            "args": [
             {
              "fill": "tozeroy",
              "type": "line",
              "x": [
               [
                "1970 Population",
                "1980 Population",
                "1990 Population",
                "2000 Population",
                "2010 Population",
                "2015 Population",
                "2020 Population",
                "2022 Population"
               ]
              ],
              "y": [
               [
                3497834,
                4312834,
                5483793,
                6307659,
                9126605,
                10727148,
                12220227,
                12889576
               ]
              ]
             },
             [
              0
             ]
            ],
            "label": "Burundi",
            "method": "restyle",
            "visible": true
           },
           {
            "args": [
             {
              "fill": "tozeroy",
              "type": "line",
              "x": [
               [
                "1970 Population",
                "1980 Population",
                "1990 Population",
                "2000 Population",
                "2010 Population",
                "2015 Population",
                "2020 Population",
                "2022 Population"
               ]
              ],
              "y": [
               [
                6708525,
                6198959,
                8910808,
                12118841,
                14363532,
                15417523,
                16396860,
                16767842
               ]
              ]
             },
             [
              0
             ]
            ],
            "label": "Cambodia",
            "method": "restyle",
            "visible": true
           },
           {
            "args": [
             {
              "fill": "tozeroy",
              "type": "line",
              "x": [
               [
                "1970 Population",
                "1980 Population",
                "1990 Population",
                "2000 Population",
                "2010 Population",
                "2015 Population",
                "2020 Population",
                "2022 Population"
               ]
              ],
              "y": [
               [
                6452787,
                8519891,
                11430520,
                15091594,
                19878036,
                23012646,
                26491087,
                27914536
               ]
              ]
             },
             [
              0
             ]
            ],
            "label": "Cameroon",
            "method": "restyle",
            "visible": true
           },
           {
            "args": [
             {
              "fill": "tozeroy",
              "type": "line",
              "x": [
               [
                "1970 Population",
                "1980 Population",
                "1990 Population",
                "2000 Population",
                "2010 Population",
                "2015 Population",
                "2020 Population",
                "2022 Population"
               ]
              ],
              "y": [
               [
                21434577,
                24511510,
                27657204,
                30683313,
                33963412,
                35732126,
                37888705,
                38454327
               ]
              ]
             },
             [
              0
             ]
            ],
            "label": "Canada",
            "method": "restyle",
            "visible": true
           },
           {
            "args": [
             {
              "fill": "tozeroy",
              "type": "line",
              "x": [
               [
                "1970 Population",
                "1980 Population",
                "1990 Population",
                "2000 Population",
                "2010 Population",
                "2015 Population",
                "2020 Population",
                "2022 Population"
               ]
              ],
              "y": [
               [
                287262,
                317234,
                364563,
                458251,
                521212,
                552166,
                582640,
                593149
               ]
              ]
             },
             [
              0
             ]
            ],
            "label": "Cape Verde",
            "method": "restyle",
            "visible": true
           },
           {
            "args": [
             {
              "fill": "tozeroy",
              "type": "line",
              "x": [
               [
                "1970 Population",
                "1980 Population",
                "1990 Population",
                "2000 Population",
                "2010 Population",
                "2015 Population",
                "2020 Population",
                "2022 Population"
               ]
              ],
              "y": [
               [
                10533,
                17100,
                26027,
                39658,
                54074,
                60911,
                67311,
                68706
               ]
              ]
             },
             [
              0
             ]
            ],
            "label": "Cayman Islands",
            "method": "restyle",
            "visible": true
           },
           {
            "args": [
             {
              "fill": "tozeroy",
              "type": "line",
              "x": [
               [
                "1970 Population",
                "1980 Population",
                "1990 Population",
                "2000 Population",
                "2010 Population",
                "2015 Population",
                "2020 Population",
                "2022 Population"
               ]
              ],
              "y": [
               [
                2067356,
                2415276,
                2809221,
                3759170,
                4660067,
                4819333,
                5343020,
                5579144
               ]
              ]
             },
             [
              0
             ]
            ],
            "label": "Central African Republic",
            "method": "restyle",
            "visible": true
           },
           {
            "args": [
             {
              "fill": "tozeroy",
              "type": "line",
              "x": [
               [
                "1970 Population",
                "1980 Population",
                "1990 Population",
                "2000 Population",
                "2010 Population",
                "2015 Population",
                "2020 Population",
                "2022 Population"
               ]
              ],
              "y": [
               [
                3667394,
                4408230,
                5827069,
                8259137,
                11894727,
                14140274,
                16644701,
                17723315
               ]
              ]
             },
             [
              0
             ]
            ],
            "label": "Chad",
            "method": "restyle",
            "visible": true
           },
           {
            "args": [
             {
              "fill": "tozeroy",
              "type": "line",
              "x": [
               [
                "1970 Population",
                "1980 Population",
                "1990 Population",
                "2000 Population",
                "2010 Population",
                "2015 Population",
                "2020 Population",
                "2022 Population"
               ]
              ],
              "y": [
               [
                9820481,
                11469828,
                13342868,
                15351799,
                17004162,
                17870124,
                19300315,
                19603733
               ]
              ]
             },
             [
              0
             ]
            ],
            "label": "Chile",
            "method": "restyle",
            "visible": true
           },
           {
            "args": [
             {
              "fill": "tozeroy",
              "type": "line",
              "x": [
               [
                "1970 Population",
                "1980 Population",
                "1990 Population",
                "2000 Population",
                "2010 Population",
                "2015 Population",
                "2020 Population",
                "2022 Population"
               ]
              ],
              "y": [
               [
                822534450,
                982372466,
                1153704252,
                1264099069,
                1348191368,
                1393715448,
                1424929781,
                1425887337
               ]
              ]
             },
             [
              0
             ]
            ],
            "label": "China",
            "method": "restyle",
            "visible": true
           },
           {
            "args": [
             {
              "fill": "tozeroy",
              "type": "line",
              "x": [
               [
                "1970 Population",
                "1980 Population",
                "1990 Population",
                "2000 Population",
                "2010 Population",
                "2015 Population",
                "2020 Population",
                "2022 Population"
               ]
              ],
              "y": [
               [
                20905254,
                26176195,
                32601393,
                39215135,
                44816108,
                47119728,
                50930662,
                51874024
               ]
              ]
             },
             [
              0
             ]
            ],
            "label": "Colombia",
            "method": "restyle",
            "visible": true
           },
           {
            "args": [
             {
              "fill": "tozeroy",
              "type": "line",
              "x": [
               [
                "1970 Population",
                "1980 Population",
                "1990 Population",
                "2000 Population",
                "2010 Population",
                "2015 Population",
                "2020 Population",
                "2022 Population"
               ]
              ],
              "y": [
               [
                242351,
                328328,
                431119,
                536758,
                656024,
                730216,
                806166,
                836774
               ]
              ]
             },
             [
              0
             ]
            ],
            "label": "Comoros",
            "method": "restyle",
            "visible": true
           },
           {
            "args": [
             {
              "fill": "tozeroy",
              "type": "line",
              "x": [
               [
                "1970 Population",
                "1980 Population",
                "1990 Population",
                "2000 Population",
                "2010 Population",
                "2015 Population",
                "2020 Population",
                "2022 Population"
               ]
              ],
              "y": [
               [
                20470,
                17651,
                17123,
                15897,
                17212,
                17695,
                17029,
                17011
               ]
              ]
             },
             [
              0
             ]
            ],
            "label": "Cook Islands",
            "method": "restyle",
            "visible": true
           },
           {
            "args": [
             {
              "fill": "tozeroy",
              "type": "line",
              "x": [
               [
                "1970 Population",
                "1980 Population",
                "1990 Population",
                "2000 Population",
                "2010 Population",
                "2015 Population",
                "2020 Population",
                "2022 Population"
               ]
              ],
              "y": [
               [
                1855697,
                2414303,
                3158253,
                3979193,
                4622252,
                4895242,
                5123105,
                5180829
               ]
              ]
             },
             [
              0
             ]
            ],
            "label": "Costa Rica",
            "method": "restyle",
            "visible": true
           },
           {
            "args": [
             {
              "fill": "tozeroy",
              "type": "line",
              "x": [
               [
                "1970 Population",
                "1980 Population",
                "1990 Population",
                "2000 Population",
                "2010 Population",
                "2015 Population",
                "2020 Population",
                "2022 Population"
               ]
              ],
              "y": [
               [
                4492638,
                4680144,
                4873707,
                4548434,
                4368682,
                4254815,
                4096868,
                4030358
               ]
              ]
             },
             [
              0
             ]
            ],
            "label": "Croatia",
            "method": "restyle",
            "visible": true
           },
           {
            "args": [
             {
              "fill": "tozeroy",
              "type": "line",
              "x": [
               [
                "1970 Population",
                "1980 Population",
                "1990 Population",
                "2000 Population",
                "2010 Population",
                "2015 Population",
                "2020 Population",
                "2022 Population"
               ]
              ],
              "y": [
               [
                8869636,
                9809107,
                10626680,
                11105791,
                11290417,
                11339894,
                11300698,
                11212191
               ]
              ]
             },
             [
              0
             ]
            ],
            "label": "Cuba",
            "method": "restyle",
            "visible": true
           },
           {
            "args": [
             {
              "fill": "tozeroy",
              "type": "line",
              "x": [
               [
                "1970 Population",
                "1980 Population",
                "1990 Population",
                "2000 Population",
                "2010 Population",
                "2015 Population",
                "2020 Population",
                "2022 Population"
               ]
              ],
              "y": [
               [
                150385,
                156851,
                155446,
                141424,
                159380,
                169572,
                189288,
                191163
               ]
              ]
             },
             [
              0
             ]
            ],
            "label": "Curacao",
            "method": "restyle",
            "visible": true
           },
           {
            "args": [
             {
              "fill": "tozeroy",
              "type": "line",
              "x": [
               [
                "1970 Population",
                "1980 Population",
                "1990 Population",
                "2000 Population",
                "2010 Population",
                "2015 Population",
                "2020 Population",
                "2022 Population"
               ]
              ],
              "y": [
               [
                640804,
                679327,
                788500,
                948237,
                1129686,
                1187280,
                1237537,
                1251488
               ]
              ]
             },
             [
              0
             ]
            ],
            "label": "Cyprus",
            "method": "restyle",
            "visible": true
           },
           {
            "args": [
             {
              "fill": "tozeroy",
              "type": "line",
              "x": [
               [
                "1970 Population",
                "1980 Population",
                "1990 Population",
                "2000 Population",
                "2010 Population",
                "2015 Population",
                "2020 Population",
                "2022 Population"
               ]
              ],
              "y": [
               [
                9795744,
                10270060,
                10301192,
                10234710,
                10464749,
                10523798,
                10530953,
                10493986
               ]
              ]
             },
             [
              0
             ]
            ],
            "label": "Czech Republic",
            "method": "restyle",
            "visible": true
           },
           {
            "args": [
             {
              "fill": "tozeroy",
              "type": "line",
              "x": [
               [
                "1970 Population",
                "1980 Population",
                "1990 Population",
                "2000 Population",
                "2010 Population",
                "2015 Population",
                "2020 Population",
                "2022 Population"
               ]
              ],
              "y": [
               [
                4922963,
                5125392,
                5144623,
                5340655,
                5550849,
                5677796,
                5825641,
                5882261
               ]
              ]
             },
             [
              0
             ]
            ],
            "label": "Denmark",
            "method": "restyle",
            "visible": true
           },
           {
            "args": [
             {
              "fill": "tozeroy",
              "type": "line",
              "x": [
               [
                "1970 Population",
                "1980 Population",
                "1990 Population",
                "2000 Population",
                "2010 Population",
                "2015 Population",
                "2020 Population",
                "2022 Population"
               ]
              ],
              "y": [
               [
                144379,
                324121,
                577173,
                742033,
                919199,
                1006259,
                1090156,
                1120849
               ]
              ]
             },
             [
              0
             ]
            ],
            "label": "Djibouti",
            "method": "restyle",
            "visible": true
           },
           {
            "args": [
             {
              "fill": "tozeroy",
              "type": "line",
              "x": [
               [
                "1970 Population",
                "1980 Population",
                "1990 Population",
                "2000 Population",
                "2010 Population",
                "2015 Population",
                "2020 Population",
                "2022 Population"
               ]
              ],
              "y": [
               [
                68895,
                72978,
                69481,
                68346,
                68755,
                70007,
                71995,
                72737
               ]
              ]
             },
             [
              0
             ]
            ],
            "label": "Dominica",
            "method": "restyle",
            "visible": true
           },
           {
            "args": [
             {
              "fill": "tozeroy",
              "type": "line",
              "x": [
               [
                "1970 Population",
                "1980 Population",
                "1990 Population",
                "2000 Population",
                "2010 Population",
                "2015 Population",
                "2020 Population",
                "2022 Population"
               ]
              ],
              "y": [
               [
                4475871,
                5755800,
                7129004,
                8540791,
                9775755,
                10405832,
                10999664,
                11228821
               ]
              ]
             },
             [
              0
             ]
            ],
            "label": "Dominican Republic",
            "method": "restyle",
            "visible": true
           },
           {
            "args": [
             {
              "fill": "tozeroy",
              "type": "line",
              "x": [
               [
                "1970 Population",
                "1980 Population",
                "1990 Population",
                "2000 Population",
                "2010 Population",
                "2015 Population",
                "2020 Population",
                "2022 Population"
               ]
              ],
              "y": [
               [
                20151733,
                26708686,
                35987541,
                48616317,
                66391257,
                78656904,
                92853164,
                99010212
               ]
              ]
             },
             [
              0
             ]
            ],
            "label": "DR Congo",
            "method": "restyle",
            "visible": true
           },
           {
            "args": [
             {
              "fill": "tozeroy",
              "type": "line",
              "x": [
               [
                "1970 Population",
                "1980 Population",
                "1990 Population",
                "2000 Population",
                "2010 Population",
                "2015 Population",
                "2020 Population",
                "2022 Population"
               ]
              ],
              "y": [
               [
                6172215,
                8135845,
                10449837,
                12626507,
                14989585,
                16195902,
                17588595,
                18001000
               ]
              ]
             },
             [
              0
             ]
            ],
            "label": "Ecuador",
            "method": "restyle",
            "visible": true
           },
           {
            "args": [
             {
              "fill": "tozeroy",
              "type": "line",
              "x": [
               [
                "1970 Population",
                "1980 Population",
                "1990 Population",
                "2000 Population",
                "2010 Population",
                "2015 Population",
                "2020 Population",
                "2022 Population"
               ]
              ],
              "y": [
               [
                34781986,
                43748556,
                57214630,
                71371371,
                87252413,
                97723799,
                107465134,
                110990103
               ]
              ]
             },
             [
              0
             ]
            ],
            "label": "Egypt",
            "method": "restyle",
            "visible": true
           },
           {
            "args": [
             {
              "fill": "tozeroy",
              "type": "line",
              "x": [
               [
                "1970 Population",
                "1980 Population",
                "1990 Population",
                "2000 Population",
                "2010 Population",
                "2015 Population",
                "2020 Population",
                "2022 Population"
               ]
              ],
              "y": [
               [
                3619090,
                4508992,
                5367179,
                5958482,
                6114034,
                6231066,
                6292731,
                6336392
               ]
              ]
             },
             [
              0
             ]
            ],
            "label": "El Salvador",
            "method": "restyle",
            "visible": true
           },
           {
            "args": [
             {
              "fill": "tozeroy",
              "type": "line",
              "x": [
               [
                "1970 Population",
                "1980 Population",
                "1990 Population",
                "2000 Population",
                "2010 Population",
                "2015 Population",
                "2020 Population",
                "2022 Population"
               ]
              ],
              "y": [
               [
                316955,
                282509,
                465549,
                684977,
                1094524,
                1346973,
                1596049,
                1674908
               ]
              ]
             },
             [
              0
             ]
            ],
            "label": "Equatorial Guinea",
            "method": "restyle",
            "visible": true
           },
           {
            "args": [
             {
              "fill": "tozeroy",
              "type": "line",
              "x": [
               [
                "1970 Population",
                "1980 Population",
                "1990 Population",
                "2000 Population",
                "2010 Population",
                "2015 Population",
                "2020 Population",
                "2022 Population"
               ]
              ],
              "y": [
               [
                1272748,
                1657982,
                2149960,
                2392880,
                3147727,
                3340006,
                3555868,
                3684032
               ]
              ]
             },
             [
              0
             ]
            ],
            "label": "Eritrea",
            "method": "restyle",
            "visible": true
           },
           {
            "args": [
             {
              "fill": "tozeroy",
              "type": "line",
              "x": [
               [
                "1970 Population",
                "1980 Population",
                "1990 Population",
                "2000 Population",
                "2010 Population",
                "2015 Population",
                "2020 Population",
                "2022 Population"
               ]
              ],
              "y": [
               [
                1361999,
                1476983,
                1570674,
                1396877,
                1331535,
                1314657,
                1329444,
                1326062
               ]
              ]
             },
             [
              0
             ]
            ],
            "label": "Estonia",
            "method": "restyle",
            "visible": true
           },
           {
            "args": [
             {
              "fill": "tozeroy",
              "type": "line",
              "x": [
               [
                "1970 Population",
                "1980 Population",
                "1990 Population",
                "2000 Population",
                "2010 Population",
                "2015 Population",
                "2020 Population",
                "2022 Population"
               ]
              ],
              "y": [
               [
                442865,
                598564,
                854011,
                1030496,
                1099920,
                1133936,
                1180655,
                1201670
               ]
              ]
             },
             [
              0
             ]
            ],
            "label": "Eswatini",
            "method": "restyle",
            "visible": true
           },
           {
            "args": [
             {
              "fill": "tozeroy",
              "type": "line",
              "x": [
               [
                "1970 Population",
                "1980 Population",
                "1990 Population",
                "2000 Population",
                "2010 Population",
                "2015 Population",
                "2020 Population",
                "2022 Population"
               ]
              ],
              "y": [
               [
                28308246,
                34945469,
                47878073,
                67031867,
                89237791,
                102471895,
                117190911,
                123379924
               ]
              ]
             },
             [
              0
             ]
            ],
            "label": "Ethiopia",
            "method": "restyle",
            "visible": true
           },
           {
            "args": [
             {
              "fill": "tozeroy",
              "type": "line",
              "x": [
               [
                "1970 Population",
                "1980 Population",
                "1990 Population",
                "2000 Population",
                "2010 Population",
                "2015 Population",
                "2020 Population",
                "2022 Population"
               ]
              ],
              "y": [
               [
                2274,
                2240,
                2332,
                3080,
                3187,
                3408,
                3747,
                3780
               ]
              ]
             },
             [
              0
             ]
            ],
            "label": "Falkland Islands",
            "method": "restyle",
            "visible": true
           },
           {
            "args": [
             {
              "fill": "tozeroy",
              "type": "line",
              "x": [
               [
                "1970 Population",
                "1980 Population",
                "1990 Population",
                "2000 Population",
                "2010 Population",
                "2015 Population",
                "2020 Population",
                "2022 Population"
               ]
              ],
              "y": [
               [
                38416,
                43054,
                47479,
                45660,
                48410,
                48816,
                52415,
                53090
               ]
              ]
             },
             [
              0
             ]
            ],
            "label": "Faroe Islands",
            "method": "restyle",
            "visible": true
           },
           {
            "args": [
             {
              "fill": "tozeroy",
              "type": "line",
              "x": [
               [
                "1970 Population",
                "1980 Population",
                "1990 Population",
                "2000 Population",
                "2010 Population",
                "2015 Population",
                "2020 Population",
                "2022 Population"
               ]
              ],
              "y": [
               [
                527634,
                644582,
                780430,
                832509,
                905169,
                917200,
                920422,
                929766
               ]
              ]
             },
             [
              0
             ]
            ],
            "label": "Fiji",
            "method": "restyle",
            "visible": true
           },
           {
            "args": [
             {
              "fill": "tozeroy",
              "type": "line",
              "x": [
               [
                "1970 Population",
                "1980 Population",
                "1990 Population",
                "2000 Population",
                "2010 Population",
                "2015 Population",
                "2020 Population",
                "2022 Population"
               ]
              ],
              "y": [
               [
                4606621,
                4779418,
                4986545,
                5176209,
                5363271,
                5479461,
                5529468,
                5540745
               ]
              ]
             },
             [
              0
             ]
            ],
            "label": "Finland",
            "method": "restyle",
            "visible": true
           },
           {
            "args": [
             {
              "fill": "tozeroy",
              "type": "line",
              "x": [
               [
                "1970 Population",
                "1980 Population",
                "1990 Population",
                "2000 Population",
                "2010 Population",
                "2015 Population",
                "2020 Population",
                "2022 Population"
               ]
              ],
              "y": [
               [
                50523586,
                53713830,
                56412897,
                58665453,
                62444567,
                63809769,
                64480053,
                64626628
               ]
              ]
             },
             [
              0
             ]
            ],
            "label": "France",
            "method": "restyle",
            "visible": true
           },
           {
            "args": [
             {
              "fill": "tozeroy",
              "type": "line",
              "x": [
               [
                "1970 Population",
                "1980 Population",
                "1990 Population",
                "2000 Population",
                "2010 Population",
                "2015 Population",
                "2020 Population",
                "2022 Population"
               ]
              ],
              "y": [
               [
                46484,
                66825,
                113931,
                164351,
                228453,
                257026,
                290969,
                304557
               ]
              ]
             },
             [
              0
             ]
            ],
            "label": "French Guiana",
            "method": "restyle",
            "visible": true
           },
           {
            "args": [
             {
              "fill": "tozeroy",
              "type": "line",
              "x": [
               [
                "1970 Population",
                "1980 Population",
                "1990 Population",
                "2000 Population",
                "2010 Population",
                "2015 Population",
                "2020 Population",
                "2022 Population"
               ]
              ],
              "y": [
               [
                117891,
                163591,
                211089,
                250927,
                283788,
                291787,
                301920,
                306279
               ]
              ]
             },
             [
              0
             ]
            ],
            "label": "French Polynesia",
            "method": "restyle",
            "visible": true
           },
           {
            "args": [
             {
              "fill": "tozeroy",
              "type": "line",
              "x": [
               [
                "1970 Population",
                "1980 Population",
                "1990 Population",
                "2000 Population",
                "2010 Population",
                "2015 Population",
                "2020 Population",
                "2022 Population"
               ]
              ],
              "y": [
               [
                597192,
                749078,
                983028,
                1272935,
                1711105,
                2028517,
                2292573,
                2388992
               ]
              ]
             },
             [
              0
             ]
            ],
            "label": "Gabon",
            "method": "restyle",
            "visible": true
           },
           {
            "args": [
             {
              "fill": "tozeroy",
              "type": "line",
              "x": [
               [
                "1970 Population",
                "1980 Population",
                "1990 Population",
                "2000 Population",
                "2010 Population",
                "2015 Population",
                "2020 Population",
                "2022 Population"
               ]
              ],
              "y": [
               [
                528731,
                718586,
                1040616,
                1437539,
                1937275,
                2253133,
                2573995,
                2705992
               ]
              ]
             },
             [
              0
             ]
            ],
            "label": "Gambia",
            "method": "restyle",
            "visible": true
           },
           {
            "args": [
             {
              "fill": "tozeroy",
              "type": "line",
              "x": [
               [
                "1970 Population",
                "1980 Population",
                "1990 Population",
                "2000 Population",
                "2010 Population",
                "2015 Population",
                "2020 Population",
                "2022 Population"
               ]
              ],
              "y": [
               [
                4800426,
                5145843,
                5391636,
                4265172,
                3836831,
                3771132,
                3765912,
                3744385
               ]
              ]
             },
             [
              0
             ]
            ],
            "label": "Georgia",
            "method": "restyle",
            "visible": true
           },
           {
            "args": [
             {
              "fill": "tozeroy",
              "type": "line",
              "x": [
               [
                "1970 Population",
                "1980 Population",
                "1990 Population",
                "2000 Population",
                "2010 Population",
                "2015 Population",
                "2020 Population",
                "2022 Population"
               ]
              ],
              "y": [
               [
                78294583,
                77786703,
                79370196,
                81551677,
                81325090,
                82073226,
                83328988,
                83369843
               ]
              ]
             },
             [
              0
             ]
            ],
            "label": "Germany",
            "method": "restyle",
            "visible": true
           },
           {
            "args": [
             {
              "fill": "tozeroy",
              "type": "line",
              "x": [
               [
                "1970 Population",
                "1980 Population",
                "1990 Population",
                "2000 Population",
                "2010 Population",
                "2015 Population",
                "2020 Population",
                "2022 Population"
               ]
              ],
              "y": [
               [
                8861895,
                11865246,
                15446982,
                19665502,
                25574719,
                28870939,
                32180401,
                33475870
               ]
              ]
             },
             [
              0
             ]
            ],
            "label": "Ghana",
            "method": "restyle",
            "visible": true
           },
           {
            "args": [
             {
              "fill": "tozeroy",
              "type": "line",
              "x": [
               [
                "1970 Population",
                "1980 Population",
                "1990 Population",
                "2000 Population",
                "2010 Population",
                "2015 Population",
                "2020 Population",
                "2022 Population"
               ]
              ],
              "y": [
               [
                26685,
                28734,
                27317,
                27741,
                31262,
                32520,
                32709,
                32649
               ]
              ]
             },
             [
              0
             ]
            ],
            "label": "Gibraltar",
            "method": "restyle",
            "visible": true
           },
           {
            "args": [
             {
              "fill": "tozeroy",
              "type": "line",
              "x": [
               [
                "1970 Population",
                "1980 Population",
                "1990 Population",
                "2000 Population",
                "2010 Population",
                "2015 Population",
                "2020 Population",
                "2022 Population"
               ]
              ],
              "y": [
               [
                8544873,
                9307148,
                10302255,
                11038109,
                11033783,
                10806641,
                10512232,
                10384971
               ]
              ]
             },
             [
              0
             ]
            ],
            "label": "Greece",
            "method": "restyle",
            "visible": true
           },
           {
            "args": [
             {
              "fill": "tozeroy",
              "type": "line",
              "x": [
               [
                "1970 Population",
                "1980 Population",
                "1990 Population",
                "2000 Population",
                "2010 Population",
                "2015 Population",
                "2020 Population",
                "2022 Population"
               ]
              ],
              "y": [
               [
                45434,
                50106,
                55599,
                56184,
                56351,
                55895,
                56026,
                56466
               ]
              ]
             },
             [
              0
             ]
            ],
            "label": "Greenland",
            "method": "restyle",
            "visible": true
           },
           {
            "args": [
             {
              "fill": "tozeroy",
              "type": "line",
              "x": [
               [
                "1970 Population",
                "1980 Population",
                "1990 Population",
                "2000 Population",
                "2010 Population",
                "2015 Population",
                "2020 Population",
                "2022 Population"
               ]
              ],
              "y": [
               [
                98794,
                94838,
                99047,
                107432,
                114039,
                118980,
                123663,
                125438
               ]
              ]
             },
             [
              0
             ]
            ],
            "label": "Grenada",
            "method": "restyle",
            "visible": true
           },
           {
            "args": [
             {
              "fill": "tozeroy",
              "type": "line",
              "x": [
               [
                "1970 Population",
                "1980 Population",
                "1990 Population",
                "2000 Population",
                "2010 Population",
                "2015 Population",
                "2020 Population",
                "2022 Population"
               ]
              ],
              "y": [
               [
                318310,
                334234,
                391951,
                424067,
                403072,
                399089,
                395642,
                395752
               ]
              ]
             },
             [
              0
             ]
            ],
            "label": "Guadeloupe",
            "method": "restyle",
            "visible": true
           },
           {
            "args": [
             {
              "fill": "tozeroy",
              "type": "line",
              "x": [
               [
                "1970 Population",
                "1980 Population",
                "1990 Population",
                "2000 Population",
                "2010 Population",
                "2015 Population",
                "2020 Population",
                "2022 Population"
               ]
              ],
              "y": [
               [
                88300,
                110286,
                138263,
                160188,
                164905,
                167978,
                169231,
                171774
               ]
              ]
             },
             [
              0
             ]
            ],
            "label": "Guam",
            "method": "restyle",
            "visible": true
           },
           {
            "args": [
             {
              "fill": "tozeroy",
              "type": "line",
              "x": [
               [
                "1970 Population",
                "1980 Population",
                "1990 Population",
                "2000 Population",
                "2010 Population",
                "2015 Population",
                "2020 Population",
                "2022 Population"
               ]
              ],
              "y": [
               [
                5453208,
                6987767,
                9084780,
                11735894,
                14543121,
                16001107,
                17362718,
                17843908
               ]
              ]
             },
             [
              0
             ]
            ],
            "label": "Guatemala",
            "method": "restyle",
            "visible": true
           },
           {
            "args": [
             {
              "fill": "tozeroy",
              "type": "line",
              "x": [
               [
                "1970 Population",
                "1980 Population",
                "1990 Population",
                "2000 Population",
                "2010 Population",
                "2015 Population",
                "2020 Population",
                "2022 Population"
               ]
              ],
              "y": [
               [
                52656,
                52860,
                57727,
                59114,
                60782,
                61629,
                62794,
                63301
               ]
              ]
             },
             [
              0
             ]
            ],
            "label": "Guernsey",
            "method": "restyle",
            "visible": true
           },
           {
            "args": [
             {
              "fill": "tozeroy",
              "type": "line",
              "x": [
               [
                "1970 Population",
                "1980 Population",
                "1990 Population",
                "2000 Population",
                "2010 Population",
                "2015 Population",
                "2020 Population",
                "2022 Population"
               ]
              ],
              "y": [
               [
                4222374,
                4972609,
                6354145,
                8336967,
                10270728,
                11625998,
                13205153,
                13859341
               ]
              ]
             },
             [
              0
             ]
            ],
            "label": "Guinea",
            "method": "restyle",
            "visible": true
           },
           {
            "args": [
             {
              "fill": "tozeroy",
              "type": "line",
              "x": [
               [
                "1970 Population",
                "1980 Population",
                "1990 Population",
                "2000 Population",
                "2010 Population",
                "2015 Population",
                "2020 Population",
                "2022 Population"
               ]
              ],
              "y": [
               [
                591663,
                831462,
                973551,
                1230849,
                1567220,
                1788919,
                2015828,
                2105566
               ]
              ]
             },
             [
              0
             ]
            ],
            "label": "Guinea-Bissau",
            "method": "restyle",
            "visible": true
           },
           {
            "args": [
             {
              "fill": "tozeroy",
              "type": "line",
              "x": [
               [
                "1970 Population",
                "1980 Population",
                "1990 Population",
                "2000 Population",
                "2010 Population",
                "2015 Population",
                "2020 Population",
                "2022 Population"
               ]
              ],
              "y": [
               [
                705261,
                778176,
                747116,
                759051,
                747932,
                755031,
                797202,
                808726
               ]
              ]
             },
             [
              0
             ]
            ],
            "label": "Guyana",
            "method": "restyle",
            "visible": true
           },
           {
            "args": [
             {
              "fill": "tozeroy",
              "type": "line",
              "x": [
               [
                "1970 Population",
                "1980 Population",
                "1990 Population",
                "2000 Population",
                "2010 Population",
                "2015 Population",
                "2020 Population",
                "2022 Population"
               ]
              ],
              "y": [
               [
                4680812,
                5646676,
                6925331,
                8360225,
                9842880,
                10563757,
                11306801,
                11584996
               ]
              ]
             },
             [
              0
             ]
            ],
            "label": "Haiti",
            "method": "restyle",
            "visible": true
           },
           {
            "args": [
             {
              "fill": "tozeroy",
              "type": "line",
              "x": [
               [
                "1970 Population",
                "1980 Population",
                "1990 Population",
                "2000 Population",
                "2010 Population",
                "2015 Population",
                "2020 Population",
                "2022 Population"
               ]
              ],
              "y": [
               [
                2782753,
                3777990,
                5053234,
                6656725,
                8450933,
                9294505,
                10121763,
                10432860
               ]
              ]
             },
             [
              0
             ]
            ],
            "label": "Honduras",
            "method": "restyle",
            "visible": true
           },
           {
            "args": [
             {
              "fill": "tozeroy",
              "type": "line",
              "x": [
               [
                "1970 Population",
                "1980 Population",
                "1990 Population",
                "2000 Population",
                "2010 Population",
                "2015 Population",
                "2020 Population",
                "2022 Population"
               ]
              ],
              "y": [
               [
                3955072,
                4978544,
                5838574,
                6731195,
                7132438,
                7399838,
                7500958,
                7488865
               ]
              ]
             },
             [
              0
             ]
            ],
            "label": "Hong Kong",
            "method": "restyle",
            "visible": true
           },
           {
            "args": [
             {
              "fill": "tozeroy",
              "type": "line",
              "x": [
               [
                "1970 Population",
                "1980 Population",
                "1990 Population",
                "2000 Population",
                "2010 Population",
                "2015 Population",
                "2020 Population",
                "2022 Population"
               ]
              ],
              "y": [
               [
                10315366,
                10698679,
                10375989,
                10202055,
                9986825,
                9844246,
                9750573,
                9967308
               ]
              ]
             },
             [
              0
             ]
            ],
            "label": "Hungary",
            "method": "restyle",
            "visible": true
           },
           {
            "args": [
             {
              "fill": "tozeroy",
              "type": "line",
              "x": [
               [
                "1970 Population",
                "1980 Population",
                "1990 Population",
                "2000 Population",
                "2010 Population",
                "2015 Population",
                "2020 Population",
                "2022 Population"
               ]
              ],
              "y": [
               [
                204468,
                228263,
                255019,
                281462,
                318333,
                331060,
                366669,
                372899
               ]
              ]
             },
             [
              0
             ]
            ],
            "label": "Iceland",
            "method": "restyle",
            "visible": true
           },
           {
            "args": [
             {
              "fill": "tozeroy",
              "type": "line",
              "x": [
               [
                "1970 Population",
                "1980 Population",
                "1990 Population",
                "2000 Population",
                "2010 Population",
                "2015 Population",
                "2020 Population",
                "2022 Population"
               ]
              ],
              "y": [
               [
                557501301,
                696828385,
                870452165,
                1059633675,
                1240613620,
                1322866505,
                1396387127,
                1417173173
               ]
              ]
             },
             [
              0
             ]
            ],
            "label": "India",
            "method": "restyle",
            "visible": true
           },
           {
            "args": [
             {
              "fill": "tozeroy",
              "type": "line",
              "x": [
               [
                "1970 Population",
                "1980 Population",
                "1990 Population",
                "2000 Population",
                "2010 Population",
                "2015 Population",
                "2020 Population",
                "2022 Population"
               ]
              ],
              "y": [
               [
                115228394,
                148177096,
                182159874,
                214072421,
                244016173,
                259091970,
                271857970,
                275501339
               ]
              ]
             },
             [
              0
             ]
            ],
            "label": "Indonesia",
            "method": "restyle",
            "visible": true
           },
           {
            "args": [
             {
              "fill": "tozeroy",
              "type": "line",
              "x": [
               [
                "1970 Population",
                "1980 Population",
                "1990 Population",
                "2000 Population",
                "2010 Population",
                "2015 Population",
                "2020 Population",
                "2022 Population"
               ]
              ],
              "y": [
               [
                28449705,
                38520664,
                55793629,
                65544383,
                75373855,
                81790841,
                87290193,
                88550570
               ]
              ]
             },
             [
              0
             ]
            ],
            "label": "Iran",
            "method": "restyle",
            "visible": true
           },
           {
            "args": [
             {
              "fill": "tozeroy",
              "type": "line",
              "x": [
               [
                "1970 Population",
                "1980 Population",
                "1990 Population",
                "2000 Population",
                "2010 Population",
                "2015 Population",
                "2020 Population",
                "2022 Population"
               ]
              ],
              "y": [
               [
                9811347,
                13653369,
                17658381,
                24628858,
                31264875,
                37757813,
                42556984,
                44496122
               ]
              ]
             },
             [
              0
             ]
            ],
            "label": "Iraq",
            "method": "restyle",
            "visible": true
           },
           {
            "args": [
             {
              "fill": "tozeroy",
              "type": "line",
              "x": [
               [
                "1970 Population",
                "1980 Population",
                "1990 Population",
                "2000 Population",
                "2010 Population",
                "2015 Population",
                "2020 Population",
                "2022 Population"
               ]
              ],
              "y": [
               [
                2937637,
                3391387,
                3485374,
                3768950,
                4524585,
                4665760,
                4946119,
                5023109
               ]
              ]
             },
             [
              0
             ]
            ],
            "label": "Ireland",
            "method": "restyle",
            "visible": true
           },
           {
            "args": [
             {
              "fill": "tozeroy",
              "type": "line",
              "x": [
               [
                "1970 Population",
                "1980 Population",
                "1990 Population",
                "2000 Population",
                "2010 Population",
                "2015 Population",
                "2020 Population",
                "2022 Population"
               ]
              ],
              "y": [
               [
                55298,
                64022,
                68865,
                75562,
                83828,
                83593,
                84046,
                84519
               ]
              ]
             },
             [
              0
             ]
            ],
            "label": "Isle of Man",
            "method": "restyle",
            "visible": true
           },
           {
            "args": [
             {
              "fill": "tozeroy",
              "type": "line",
              "x": [
               [
                "1970 Population",
                "1980 Population",
                "1990 Population",
                "2000 Population",
                "2010 Population",
                "2015 Population",
                "2020 Population",
                "2022 Population"
               ]
              ],
              "y": [
               [
                2907307,
                3744608,
                4803254,
                6116958,
                7328445,
                8007778,
                8757489,
                9038309
               ]
              ]
             },
             [
              0
             ]
            ],
            "label": "Israel",
            "method": "restyle",
            "visible": true
           },
           {
            "args": [
             {
              "fill": "tozeroy",
              "type": "line",
              "x": [
               [
                "1970 Population",
                "1980 Population",
                "1990 Population",
                "2000 Population",
                "2010 Population",
                "2015 Population",
                "2020 Population",
                "2022 Population"
               ]
              ],
              "y": [
               [
                53324036,
                56329482,
                56756561,
                56966397,
                59822450,
                60232906,
                59500579,
                59037474
               ]
              ]
             },
             [
              0
             ]
            ],
            "label": "Italy",
            "method": "restyle",
            "visible": true
           },
           {
            "args": [
             {
              "fill": "tozeroy",
              "type": "line",
              "x": [
               [
                "1970 Population",
                "1980 Population",
                "1990 Population",
                "2000 Population",
                "2010 Population",
                "2015 Population",
                "2020 Population",
                "2022 Population"
               ]
              ],
              "y": [
               [
                5477086,
                8303809,
                11910540,
                16799670,
                21120042,
                23596741,
                26811790,
                28160542
               ]
              ]
             },
             [
              0
             ]
            ],
            "label": "Ivory Coast",
            "method": "restyle",
            "visible": true
           },
           {
            "args": [
             {
              "fill": "tozeroy",
              "type": "line",
              "x": [
               [
                "1970 Population",
                "1980 Population",
                "1990 Population",
                "2000 Population",
                "2010 Population",
                "2015 Population",
                "2020 Population",
                "2022 Population"
               ]
              ],
              "y": [
               [
                1859091,
                2135546,
                2392030,
                2612205,
                2733896,
                2794445,
                2820436,
                2827377
               ]
              ]
             },
             [
              0
             ]
            ],
            "label": "Jamaica",
            "method": "restyle",
            "visible": true
           },
           {
            "args": [
             {
              "fill": "tozeroy",
              "type": "line",
              "x": [
               [
                "1970 Population",
                "1980 Population",
                "1990 Population",
                "2000 Population",
                "2010 Population",
                "2015 Population",
                "2020 Population",
                "2022 Population"
               ]
              ],
              "y": [
               [
                105416839,
                117624196,
                123686321,
                126803861,
                128105431,
                127250933,
                125244761,
                123951692
               ]
              ]
             },
             [
              0
             ]
            ],
            "label": "Japan",
            "method": "restyle",
            "visible": true
           },
           {
            "args": [
             {
              "fill": "tozeroy",
              "type": "line",
              "x": [
               [
                "1970 Population",
                "1980 Population",
                "1990 Population",
                "2000 Population",
                "2010 Population",
                "2015 Population",
                "2020 Population",
                "2022 Population"
               ]
              ],
              "y": [
               [
                68347,
                75124,
                82874,
                86192,
                96151,
                100561,
                108319,
                110778
               ]
              ]
             },
             [
              0
             ]
            ],
            "label": "Jersey",
            "method": "restyle",
            "visible": true
           },
           {
            "args": [
             {
              "fill": "tozeroy",
              "type": "line",
              "x": [
               [
                "1970 Population",
                "1980 Population",
                "1990 Population",
                "2000 Population",
                "2010 Population",
                "2015 Population",
                "2020 Population",
                "2022 Population"
               ]
              ],
              "y": [
               [
                1557374,
                2216903,
                3480587,
                5056174,
                6931258,
                9494246,
                10928721,
                11285869
               ]
              ]
             },
             [
              0
             ]
            ],
            "label": "Jordan",
            "method": "restyle",
            "visible": true
           },
           {
            "args": [
             {
              "fill": "tozeroy",
              "type": "line",
              "x": [
               [
                "1970 Population",
                "1980 Population",
                "1990 Population",
                "2000 Population",
                "2010 Population",
                "2015 Population",
                "2020 Population",
                "2022 Population"
               ]
              ],
              "y": [
               [
                12265305,
                14172710,
                16866563,
                15236253,
                16627837,
                17835909,
                18979243,
                19397998
               ]
              ]
             },
             [
              0
             ]
            ],
            "label": "Kazakhstan",
            "method": "restyle",
            "visible": true
           },
           {
            "args": [
             {
              "fill": "tozeroy",
              "type": "line",
              "x": [
               [
                "1970 Population",
                "1980 Population",
                "1990 Population",
                "2000 Population",
                "2010 Population",
                "2015 Population",
                "2020 Population",
                "2022 Population"
               ]
              ],
              "y": [
               [
                11473087,
                16187124,
                23162269,
                30851606,
                41517895,
                46851488,
                51985780,
                54027487
               ]
              ]
             },
             [
              0
             ]
            ],
            "label": "Kenya",
            "method": "restyle",
            "visible": true
           },
           {
            "args": [
             {
              "fill": "tozeroy",
              "type": "line",
              "x": [
               [
                "1970 Population",
                "1980 Population",
                "1990 Population",
                "2000 Population",
                "2010 Population",
                "2015 Population",
                "2020 Population",
                "2022 Population"
               ]
              ],
              "y": [
               [
                57437,
                60813,
                75124,
                88826,
                107995,
                116707,
                126463,
                131232
               ]
              ]
             },
             [
              0
             ]
            ],
            "label": "Kiribati",
            "method": "restyle",
            "visible": true
           },
           {
            "args": [
             {
              "fill": "tozeroy",
              "type": "line",
              "x": [
               [
                "1970 Population",
                "1980 Population",
                "1990 Population",
                "2000 Population",
                "2010 Population",
                "2015 Population",
                "2020 Population",
                "2022 Population"
               ]
              ],
              "y": [
               [
                802786,
                1493870,
                1674938,
                1934901,
                2943356,
                3908743,
                4360444,
                4268873
               ]
              ]
             },
             [
              0
             ]
            ],
            "label": "Kuwait",
            "method": "restyle",
            "visible": true
           },
           {
            "args": [
             {
              "fill": "tozeroy",
              "type": "line",
              "x": [
               [
                "1970 Population",
                "1980 Population",
                "1990 Population",
                "2000 Population",
                "2010 Population",
                "2015 Population",
                "2020 Population",
                "2022 Population"
               ]
              ],
              "y": [
               [
                3016384,
                3691209,
                4394734,
                4935182,
                5483774,
                5914980,
                6424874,
                6630623
               ]
              ]
             },
             [
              0
             ]
            ],
            "label": "Kyrgyzstan",
            "method": "restyle",
            "visible": true
           },
           {
            "args": [
             {
              "fill": "tozeroy",
              "type": "line",
              "x": [
               [
                "1970 Population",
                "1980 Population",
                "1990 Population",
                "2000 Population",
                "2010 Population",
                "2015 Population",
                "2020 Population",
                "2022 Population"
               ]
              ],
              "y": [
               [
                2675283,
                3297519,
                4314443,
                5430853,
                6323418,
                6787419,
                7319399,
                7529475
               ]
              ]
             },
             [
              0
             ]
            ],
            "label": "Laos",
            "method": "restyle",
            "visible": true
           },
           {
            "args": [
             {
              "fill": "tozeroy",
              "type": "line",
              "x": [
               [
                "1970 Population",
                "1980 Population",
                "1990 Population",
                "2000 Population",
                "2010 Population",
                "2015 Population",
                "2020 Population",
                "2022 Population"
               ]
              ],
              "y": [
               [
                2397414,
                2572037,
                2689391,
                2392530,
                2101530,
                1991955,
                1897052,
                1850651
               ]
              ]
             },
             [
              0
             ]
            ],
            "label": "Latvia",
            "method": "restyle",
            "visible": true
           },
           {
            "args": [
             {
              "fill": "tozeroy",
              "type": "line",
              "x": [
               [
                "1970 Population",
                "1980 Population",
                "1990 Population",
                "2000 Population",
                "2010 Population",
                "2015 Population",
                "2020 Population",
                "2022 Population"
               ]
              ],
              "y": [
               [
                2381791,
                2963702,
                3593700,
                4320642,
                4995800,
                6398940,
                5662923,
                5489739
               ]
              ]
             },
             [
              0
             ]
            ],
            "label": "Lebanon",
            "method": "restyle",
            "visible": true
           },
           {
            "args": [
             {
              "fill": "tozeroy",
              "type": "line",
              "x": [
               [
                "1970 Population",
                "1980 Population",
                "1990 Population",
                "2000 Population",
                "2010 Population",
                "2015 Population",
                "2020 Population",
                "2022 Population"
               ]
              ],
              "y": [
               [
                1023481,
                1407672,
                1798997,
                1998630,
                2022747,
                2118521,
                2254100,
                2305825
               ]
              ]
             },
             [
              0
             ]
            ],
            "label": "Lesotho",
            "method": "restyle",
            "visible": true
           },
           {
            "args": [
             {
              "fill": "tozeroy",
              "type": "line",
              "x": [
               [
                "1970 Population",
                "1980 Population",
                "1990 Population",
                "2000 Population",
                "2010 Population",
                "2015 Population",
                "2020 Population",
                "2022 Population"
               ]
              ],
              "y": [
               [
                1463563,
                1932169,
                2209731,
                2895224,
                4019956,
                4612329,
                5087584,
                5302681
               ]
              ]
             },
             [
              0
             ]
            ],
            "label": "Liberia",
            "method": "restyle",
            "visible": true
           },
           {
            "args": [
             {
              "fill": "tozeroy",
              "type": "line",
              "x": [
               [
                "1970 Population",
                "1980 Population",
                "1990 Population",
                "2000 Population",
                "2010 Population",
                "2015 Population",
                "2020 Population",
                "2022 Population"
               ]
              ],
              "y": [
               [
                1909177,
                2962720,
                4236983,
                5154790,
                6491988,
                6192235,
                6653942,
                6812341
               ]
              ]
             },
             [
              0
             ]
            ],
            "label": "Libya",
            "method": "restyle",
            "visible": true
           },
           {
            "args": [
             {
              "fill": "tozeroy",
              "type": "line",
              "x": [
               [
                "1970 Population",
                "1980 Population",
                "1990 Population",
                "2000 Population",
                "2010 Population",
                "2015 Population",
                "2020 Population",
                "2022 Population"
               ]
              ],
              "y": [
               [
                21089,
                25003,
                28765,
                33026,
                35926,
                37355,
                38756,
                39327
               ]
              ]
             },
             [
              0
             ]
            ],
            "label": "Liechtenstein",
            "method": "restyle",
            "visible": true
           },
           {
            "args": [
             {
              "fill": "tozeroy",
              "type": "line",
              "x": [
               [
                "1970 Population",
                "1980 Population",
                "1990 Population",
                "2000 Population",
                "2010 Population",
                "2015 Population",
                "2020 Population",
                "2022 Population"
               ]
              ],
              "y": [
               [
                3210147,
                3521206,
                3785847,
                3599637,
                3139019,
                2963765,
                2820267,
                2750055
               ]
              ]
             },
             [
              0
             ]
            ],
            "label": "Lithuania",
            "method": "restyle",
            "visible": true
           },
           {
            "args": [
             {
              "fill": "tozeroy",
              "type": "line",
              "x": [
               [
                "1970 Population",
                "1980 Population",
                "1990 Population",
                "2000 Population",
                "2010 Population",
                "2015 Population",
                "2020 Population",
                "2022 Population"
               ]
              ],
              "y": [
               [
                339342,
                363741,
                381267,
                435628,
                507070,
                569408,
                630399,
                647599
               ]
              ]
             },
             [
              0
             ]
            ],
            "label": "Luxembourg",
            "method": "restyle",
            "visible": true
           },
           {
            "args": [
             {
              "fill": "tozeroy",
              "type": "line",
              "x": [
               [
                "1970 Population",
                "1980 Population",
                "1990 Population",
                "2000 Population",
                "2010 Population",
                "2015 Population",
                "2020 Population",
                "2022 Population"
               ]
              ],
              "y": [
               [
                247284,
                245332,
                350227,
                431896,
                557297,
                615239,
                676283,
                695168
               ]
              ]
             },
             [
              0
             ]
            ],
            "label": "Macau",
            "method": "restyle",
            "visible": true
           },
           {
            "args": [
             {
              "fill": "tozeroy",
              "type": "line",
              "x": [
               [
                "1970 Population",
                "1980 Population",
                "1990 Population",
                "2000 Population",
                "2010 Population",
                "2015 Population",
                "2020 Population",
                "2022 Population"
               ]
              ],
              "y": [
               [
                6639751,
                8948162,
                11882762,
                16216431,
                21731053,
                24850912,
                28225177,
                29611714
               ]
              ]
             },
             [
              0
             ]
            ],
            "label": "Madagascar",
            "method": "restyle",
            "visible": true
           },
           {
            "args": [
             {
              "fill": "tozeroy",
              "type": "line",
              "x": [
               [
                "1970 Population",
                "1980 Population",
                "1990 Population",
                "2000 Population",
                "2010 Population",
                "2015 Population",
                "2020 Population",
                "2022 Population"
               ]
              ],
              "y": [
               [
                4625141,
                6267369,
                9539665,
                11229387,
                14718422,
                16938942,
                19377061,
                20405317
               ]
              ]
             },
             [
              0
             ]
            ],
            "label": "Malawi",
            "method": "restyle",
            "visible": true
           },
           {
            "args": [
             {
              "fill": "tozeroy",
              "type": "line",
              "x": [
               [
                "1970 Population",
                "1980 Population",
                "1990 Population",
                "2000 Population",
                "2010 Population",
                "2015 Population",
                "2020 Population",
                "2022 Population"
               ]
              ],
              "y": [
               [
                10306508,
                13215707,
                17517054,
                22945150,
                28717731,
                31068833,
                33199993,
                33938221
               ]
              ]
             },
             [
              0
             ]
            ],
            "label": "Malaysia",
            "method": "restyle",
            "visible": true
           },
           {
            "args": [
             {
              "fill": "tozeroy",
              "type": "line",
              "x": [
               [
                "1970 Population",
                "1980 Population",
                "1990 Population",
                "2000 Population",
                "2010 Population",
                "2015 Population",
                "2020 Population",
                "2022 Population"
               ]
              ],
              "y": [
               [
                123243,
                164887,
                224957,
                282507,
                361575,
                435582,
                514438,
                523787
               ]
              ]
             },
             [
              0
             ]
            ],
            "label": "Maldives",
            "method": "restyle",
            "visible": true
           },
           {
            "args": [
             {
              "fill": "tozeroy",
              "type": "line",
              "x": [
               [
                "1970 Population",
                "1980 Population",
                "1990 Population",
                "2000 Population",
                "2010 Population",
                "2015 Population",
                "2020 Population",
                "2022 Population"
               ]
              ],
              "y": [
               [
                6153587,
                7372581,
                8945026,
                11239101,
                15529181,
                18112907,
                21224040,
                22593590
               ]
              ]
             },
             [
              0
             ]
            ],
            "label": "Mali",
            "method": "restyle",
            "visible": true
           },
           {
            "args": [
             {
              "fill": "tozeroy",
              "type": "line",
              "x": [
               [
                "1970 Population",
                "1980 Population",
                "1990 Population",
                "2000 Population",
                "2010 Population",
                "2015 Population",
                "2020 Population",
                "2022 Population"
               ]
              ],
              "y": [
               [
                315414,
                333587,
                365392,
                399212,
                418755,
                456579,
                515357,
                533286
               ]
              ]
             },
             [
              0
             ]
            ],
            "label": "Malta",
            "method": "restyle",
            "visible": true
           },
           {
            "args": [
             {
              "fill": "tozeroy",
              "type": "line",
              "x": [
               [
                "1970 Population",
                "1980 Population",
                "1990 Population",
                "2000 Population",
                "2010 Population",
                "2015 Population",
                "2020 Population",
                "2022 Population"
               ]
              ],
              "y": [
               [
                23969,
                31988,
                46047,
                54224,
                53416,
                49410,
                43413,
                41569
               ]
              ]
             },
             [
              0
             ]
            ],
            "label": "Marshall Islands",
            "method": "restyle",
            "visible": true
           },
           {
            "args": [
             {
              "fill": "tozeroy",
              "type": "line",
              "x": [
               [
                "1970 Population",
                "1980 Population",
                "1990 Population",
                "2000 Population",
                "2010 Population",
                "2015 Population",
                "2020 Population",
                "2022 Population"
               ]
              ],
              "y": [
               [
                326428,
                333786,
                374271,
                432543,
                392181,
                383515,
                370391,
                367507
               ]
              ]
             },
             [
              0
             ]
            ],
            "label": "Martinique",
            "method": "restyle",
            "visible": true
           },
           {
            "args": [
             {
              "fill": "tozeroy",
              "type": "line",
              "x": [
               [
                "1970 Population",
                "1980 Population",
                "1990 Population",
                "2000 Population",
                "2010 Population",
                "2015 Population",
                "2020 Population",
                "2022 Population"
               ]
              ],
              "y": [
               [
                1122198,
                1506694,
                2006027,
                2695003,
                3419461,
                3946220,
                4498604,
                4736139
               ]
              ]
             },
             [
              0
             ]
            ],
            "label": "Mauritania",
            "method": "restyle",
            "visible": true
           },
           {
            "args": [
             {
              "fill": "tozeroy",
              "type": "line",
              "x": [
               [
                "1970 Population",
                "1980 Population",
                "1990 Population",
                "2000 Population",
                "2010 Population",
                "2015 Population",
                "2020 Population",
                "2022 Population"
               ]
              ],
              "y": [
               [
                830115,
                954865,
                1090290,
                1215930,
                1283330,
                1293153,
                1297828,
                1299469
               ]
              ]
             },
             [
              0
             ]
            ],
            "label": "Mauritius",
            "method": "restyle",
            "visible": true
           },
           {
            "args": [
             {
              "fill": "tozeroy",
              "type": "line",
              "x": [
               [
                "1970 Population",
                "1980 Population",
                "1990 Population",
                "2000 Population",
                "2010 Population",
                "2015 Population",
                "2020 Population",
                "2022 Population"
               ]
              ],
              "y": [
               [
                35383,
                52233,
                92659,
                159215,
                211786,
                249545,
                305587,
                326101
               ]
              ]
             },
             [
              0
             ]
            ],
            "label": "Mayotte",
            "method": "restyle",
            "visible": true
           },
           {
            "args": [
             {
              "fill": "tozeroy",
              "type": "line",
              "x": [
               [
                "1970 Population",
                "1980 Population",
                "1990 Population",
                "2000 Population",
                "2010 Population",
                "2015 Population",
                "2020 Population",
                "2022 Population"
               ]
              ],
              "y": [
               [
                50289306,
                67705186,
                81720428,
                97873442,
                112532401,
                120149897,
                125998302,
                127504125
               ]
              ]
             },
             [
              0
             ]
            ],
            "label": "Mexico",
            "method": "restyle",
            "visible": true
           },
           {
            "args": [
             {
              "fill": "tozeroy",
              "type": "line",
              "x": [
               [
                "1970 Population",
                "1980 Population",
                "1990 Population",
                "2000 Population",
                "2010 Population",
                "2015 Population",
                "2020 Population",
                "2022 Population"
               ]
              ],
              "y": [
               [
                58989,
                76299,
                98603,
                111709,
                107588,
                109462,
                112106,
                114164
               ]
              ]
             },
             [
              0
             ]
            ],
            "label": "Micronesia",
            "method": "restyle",
            "visible": true
           },
           {
            "args": [
             {
              "fill": "tozeroy",
              "type": "line",
              "x": [
               [
                "1970 Population",
                "1980 Population",
                "1990 Population",
                "2000 Population",
                "2010 Population",
                "2015 Population",
                "2020 Population",
                "2022 Population"
               ]
              ],
              "y": [
               [
                3711140,
                4103240,
                4480199,
                4251573,
                3678186,
                3277388,
                3084847,
                3272996
               ]
              ]
             },
             [
              0
             ]
            ],
            "label": "Moldova",
            "method": "restyle",
            "visible": true
           },
           {
            "args": [
             {
              "fill": "tozeroy",
              "type": "line",
              "x": [
               [
                "1970 Population",
                "1980 Population",
                "1990 Population",
                "2000 Population",
                "2010 Population",
                "2015 Population",
                "2020 Population",
                "2022 Population"
               ]
              ],
              "y": [
               [
                24270,
                27076,
                30329,
                32465,
                33178,
                36760,
                36922,
                36469
               ]
              ]
             },
             [
              0
             ]
            ],
            "label": "Monaco",
            "method": "restyle",
            "visible": true
           },
           {
            "args": [
             {
              "fill": "tozeroy",
              "type": "line",
              "x": [
               [
                "1970 Population",
                "1980 Population",
                "1990 Population",
                "2000 Population",
                "2010 Population",
                "2015 Population",
                "2020 Population",
                "2022 Population"
               ]
              ],
              "y": [
               [
                1293880,
                1697780,
                2161433,
                2450979,
                2702520,
                2964749,
                3294335,
                3398366
               ]
              ]
             },
             [
              0
             ]
            ],
            "label": "Mongolia",
            "method": "restyle",
            "visible": true
           },
           {
            "args": [
             {
              "fill": "tozeroy",
              "type": "line",
              "x": [
               [
                "1970 Population",
                "1980 Population",
                "1990 Population",
                "2000 Population",
                "2010 Population",
                "2015 Population",
                "2020 Population",
                "2022 Population"
               ]
              ],
              "y": [
               [
                530268,
                589324,
                621442,
                633324,
                631044,
                633966,
                629048,
                627082
               ]
              ]
             },
             [
              0
             ]
            ],
            "label": "Montenegro",
            "method": "restyle",
            "visible": true
           },
           {
            "args": [
             {
              "fill": "tozeroy",
              "type": "line",
              "x": [
               [
                "1970 Population",
                "1980 Population",
                "1990 Population",
                "2000 Population",
                "2010 Population",
                "2015 Population",
                "2020 Population",
                "2022 Population"
               ]
              ],
              "y": [
               [
                11402,
                11452,
                10805,
                5138,
                4938,
                5059,
                4500,
                4390
               ]
              ]
             },
             [
              0
             ]
            ],
            "label": "Montserrat",
            "method": "restyle",
            "visible": true
           },
           {
            "args": [
             {
              "fill": "tozeroy",
              "type": "line",
              "x": [
               [
                "1970 Population",
                "1980 Population",
                "1990 Population",
                "2000 Population",
                "2010 Population",
                "2015 Population",
                "2020 Population",
                "2022 Population"
               ]
              ],
              "y": [
               [
                15274351,
                19678444,
                24570814,
                28554415,
                32464865,
                34680458,
                36688772,
                37457971
               ]
              ]
             },
             [
              0
             ]
            ],
            "label": "Morocco",
            "method": "restyle",
            "visible": true
           },
           {
            "args": [
             {
              "fill": "tozeroy",
              "type": "line",
              "x": [
               [
                "1970 Population",
                "1980 Population",
                "1990 Population",
                "2000 Population",
                "2010 Population",
                "2015 Population",
                "2020 Population",
                "2022 Population"
               ]
              ],
              "y": [
               [
                8411676,
                11413587,
                13303459,
                17768505,
                23073723,
                26843246,
                31178239,
                32969517
               ]
              ]
             },
             [
              0
             ]
            ],
            "label": "Mozambique",
            "method": "restyle",
            "visible": true
           },
           {
            "args": [
             {
              "fill": "tozeroy",
              "type": "line",
              "x": [
               [
                "1970 Population",
                "1980 Population",
                "1990 Population",
                "2000 Population",
                "2010 Population",
                "2015 Population",
                "2020 Population",
                "2022 Population"
               ]
              ],
              "y": [
               [
                27284112,
                33465781,
                40099553,
                45538332,
                49390988,
                51483949,
                53423198,
                54179306
               ]
              ]
             },
             [
              0
             ]
            ],
            "label": "Myanmar",
            "method": "restyle",
            "visible": true
           },
           {
            "args": [
             {
              "fill": "tozeroy",
              "type": "line",
              "x": [
               [
                "1970 Population",
                "1980 Population",
                "1990 Population",
                "2000 Population",
                "2010 Population",
                "2015 Population",
                "2020 Population",
                "2022 Population"
               ]
              ],
              "y": [
               [
                754467,
                975994,
                1369011,
                1819141,
                2099271,
                2282704,
                2489098,
                2567012
               ]
              ]
             },
             [
              0
             ]
            ],
            "label": "Namibia",
            "method": "restyle",
            "visible": true
           },
           {
            "args": [
             {
              "fill": "tozeroy",
              "type": "line",
              "x": [
               [
                "1970 Population",
                "1980 Population",
                "1990 Population",
                "2000 Population",
                "2010 Population",
                "2015 Population",
                "2020 Population",
                "2022 Population"
               ]
              ],
              "y": [
               [
                6663,
                7635,
                9598,
                10377,
                10241,
                11185,
                12315,
                12668
               ]
              ]
             },
             [
              0
             ]
            ],
            "label": "Nauru",
            "method": "restyle",
            "visible": true
           },
           {
            "args": [
             {
              "fill": "tozeroy",
              "type": "line",
              "x": [
               [
                "1970 Population",
                "1980 Population",
                "1990 Population",
                "2000 Population",
                "2010 Population",
                "2015 Population",
                "2020 Population",
                "2022 Population"
               ]
              ],
              "y": [
               [
                12501285,
                15600442,
                19616530,
                24559500,
                27161567,
                27610325,
                29348627,
                30547580
               ]
              ]
             },
             [
              0
             ]
            ],
            "label": "Nepal",
            "method": "restyle",
            "visible": true
           },
           {
            "args": [
             {
              "fill": "tozeroy",
              "type": "line",
              "x": [
               [
                "1970 Population",
                "1980 Population",
                "1990 Population",
                "2000 Population",
                "2010 Population",
                "2015 Population",
                "2020 Population",
                "2022 Population"
               ]
              ],
              "y": [
               [
                13037686,
                14130387,
                14944548,
                15899135,
                16617116,
                17041107,
                17434557,
                17564014
               ]
              ]
             },
             [
              0
             ]
            ],
            "label": "Netherlands",
            "method": "restyle",
            "visible": true
           },
           {
            "args": [
             {
              "fill": "tozeroy",
              "type": "line",
              "x": [
               [
                "1970 Population",
                "1980 Population",
                "1990 Population",
                "2000 Population",
                "2010 Population",
                "2015 Population",
                "2020 Population",
                "2022 Population"
               ]
              ],
              "y": [
               [
                110982,
                148599,
                177264,
                221537,
                261426,
                283032,
                286403,
                289950
               ]
              ]
             },
             [
              0
             ]
            ],
            "label": "New Caledonia",
            "method": "restyle",
            "visible": true
           },
           {
            "args": [
             {
              "fill": "tozeroy",
              "type": "line",
              "x": [
               [
                "1970 Population",
                "1980 Population",
                "1990 Population",
                "2000 Population",
                "2010 Population",
                "2015 Population",
                "2020 Population",
                "2022 Population"
               ]
              ],
              "y": [
               [
                2824061,
                3147168,
                3397389,
                3855266,
                4346338,
                4590590,
                5061133,
                5185288
               ]
              ]
             },
             [
              0
             ]
            ],
            "label": "New Zealand",
            "method": "restyle",
            "visible": true
           },
           {
            "args": [
             {
              "fill": "tozeroy",
              "type": "line",
              "x": [
               [
                "1970 Population",
                "1980 Population",
                "1990 Population",
                "2000 Population",
                "2010 Population",
                "2015 Population",
                "2020 Population",
                "2022 Population"
               ]
              ],
              "y": [
               [
                2444767,
                3303309,
                4227820,
                5123222,
                5855734,
                6298598,
                6755895,
                6948392
               ]
              ]
             },
             [
              0
             ]
            ],
            "label": "Nicaragua",
            "method": "restyle",
            "visible": true
           },
           {
            "args": [
             {
              "fill": "tozeroy",
              "type": "line",
              "x": [
               [
                "1970 Population",
                "1980 Population",
                "1990 Population",
                "2000 Population",
                "2010 Population",
                "2015 Population",
                "2020 Population",
                "2022 Population"
               ]
              ],
              "y": [
               [
                4669708,
                6173177,
                8370647,
                11622665,
                16647543,
                20128124,
                24333639,
                26207977
               ]
              ]
             },
             [
              0
             ]
            ],
            "label": "Niger",
            "method": "restyle",
            "visible": true
           },
           {
            "args": [
             {
              "fill": "tozeroy",
              "type": "line",
              "x": [
               [
                "1970 Population",
                "1980 Population",
                "1990 Population",
                "2000 Population",
                "2010 Population",
                "2015 Population",
                "2020 Population",
                "2022 Population"
               ]
              ],
              "y": [
               [
                55569264,
                72951439,
                95214257,
                122851984,
                160952853,
                183995785,
                208327405,
                218541212
               ]
              ]
             },
             [
              0
             ]
            ],
            "label": "Nigeria",
            "method": "restyle",
            "visible": true
           },
           {
            "args": [
             {
              "fill": "tozeroy",
              "type": "line",
              "x": [
               [
                "1970 Population",
                "1980 Population",
                "1990 Population",
                "2000 Population",
                "2010 Population",
                "2015 Population",
                "2020 Population",
                "2022 Population"
               ]
              ],
              "y": [
               [
                5185,
                3637,
                2533,
                2074,
                1812,
                1847,
                1942,
                1934
               ]
              ]
             },
             [
              0
             ]
            ],
            "label": "Niue",
            "method": "restyle",
            "visible": true
           },
           {
            "args": [
             {
              "fill": "tozeroy",
              "type": "line",
              "x": [
               [
                "1970 Population",
                "1980 Population",
                "1990 Population",
                "2000 Population",
                "2010 Population",
                "2015 Population",
                "2020 Population",
                "2022 Population"
               ]
              ],
              "y": [
               [
                14996879,
                17973650,
                20799523,
                23367059,
                24686435,
                25258015,
                25867467,
                26069416
               ]
              ]
             },
             [
              0
             ]
            ],
            "label": "North Korea",
            "method": "restyle",
            "visible": true
           },
           {
            "args": [
             {
              "fill": "tozeroy",
              "type": "line",
              "x": [
               [
                "1970 Population",
                "1980 Population",
                "1990 Population",
                "2000 Population",
                "2010 Population",
                "2015 Population",
                "2020 Population",
                "2022 Population"
               ]
              ],
              "y": [
               [
                1656783,
                1907023,
                2044174,
                2037936,
                2093828,
                2107962,
                2111072,
                2093599
               ]
              ]
             },
             [
              0
             ]
            ],
            "label": "North Macedonia",
            "method": "restyle",
            "visible": true
           },
           {
            "args": [
             {
              "fill": "tozeroy",
              "type": "line",
              "x": [
               [
                "1970 Population",
                "1980 Population",
                "1990 Population",
                "2000 Population",
                "2010 Population",
                "2015 Population",
                "2020 Population",
                "2022 Population"
               ]
              ],
              "y": [
               [
                10143,
                17613,
                48002,
                80338,
                54087,
                51514,
                49587,
                49551
               ]
              ]
             },
             [
              0
             ]
            ],
            "label": "Northern Mariana Islands",
            "method": "restyle",
            "visible": true
           },
           {
            "args": [
             {
              "fill": "tozeroy",
              "type": "line",
              "x": [
               [
                "1970 Population",
                "1980 Population",
                "1990 Population",
                "2000 Population",
                "2010 Population",
                "2015 Population",
                "2020 Population",
                "2022 Population"
               ]
              ],
              "y": [
               [
                3875546,
                4085776,
                4241636,
                4491202,
                4889741,
                5190356,
                5379839,
                5434319
               ]
              ]
             },
             [
              0
             ]
            ],
            "label": "Norway",
            "method": "restyle",
            "visible": true
           },
           {
            "args": [
             {
              "fill": "tozeroy",
              "type": "line",
              "x": [
               [
                "1970 Population",
                "1980 Population",
                "1990 Population",
                "2000 Population",
                "2010 Population",
                "2015 Population",
                "2020 Population",
                "2022 Population"
               ]
              ],
              "y": [
               [
                670693,
                1017462,
                1804524,
                2344253,
                2881914,
                4191776,
                4543399,
                4576298
               ]
              ]
             },
             [
              0
             ]
            ],
            "label": "Oman",
            "method": "restyle",
            "visible": true
           },
           {
            "args": [
             {
              "fill": "tozeroy",
              "type": "line",
              "x": [
               [
                "1970 Population",
                "1980 Population",
                "1990 Population",
                "2000 Population",
                "2010 Population",
                "2015 Population",
                "2020 Population",
                "2022 Population"
               ]
              ],
              "y": [
               [
                59290872,
                80624057,
                115414069,
                154369924,
                194454498,
                210969298,
                227196741,
                235824862
               ]
              ]
             },
             [
              0
             ]
            ],
            "label": "Pakistan",
            "method": "restyle",
            "visible": true
           },
           {
            "args": [
             {
              "fill": "tozeroy",
              "type": "line",
              "x": [
               [
                "1970 Population",
                "1980 Population",
                "1990 Population",
                "2000 Population",
                "2010 Population",
                "2015 Population",
                "2020 Population",
                "2022 Population"
               ]
              ],
              "y": [
               [
                11366,
                12252,
                15293,
                19726,
                18540,
                17794,
                17972,
                18055
               ]
              ]
             },
             [
              0
             ]
            ],
            "label": "Palau",
            "method": "restyle",
            "visible": true
           },
           {
            "args": [
             {
              "fill": "tozeroy",
              "type": "line",
              "x": [
               [
                "1970 Population",
                "1980 Population",
                "1990 Population",
                "2000 Population",
                "2010 Population",
                "2015 Population",
                "2020 Population",
                "2022 Population"
               ]
              ],
              "y": [
               [
                1118241,
                1453620,
                2124609,
                3139954,
                3992278,
                4484614,
                5019401,
                5250072
               ]
              ]
             },
             [
              0
             ]
            ],
            "label": "Palestine",
            "method": "restyle",
            "visible": true
           },
           {
            "args": [
             {
              "fill": "tozeroy",
              "type": "line",
              "x": [
               [
                "1970 Population",
                "1980 Population",
                "1990 Population",
                "2000 Population",
                "2010 Population",
                "2015 Population",
                "2020 Population",
                "2022 Population"
               ]
              ],
              "y": [
               [
                1516188,
                1956987,
                2449968,
                3001731,
                3623617,
                3957099,
                4294396,
                4408581
               ]
              ]
             },
             [
              0
             ]
            ],
            "label": "Panama",
            "method": "restyle",
            "visible": true
           },
           {
            "args": [
             {
              "fill": "tozeroy",
              "type": "line",
              "x": [
               [
                "1970 Population",
                "1980 Population",
                "1990 Population",
                "2000 Population",
                "2010 Population",
                "2015 Population",
                "2020 Population",
                "2022 Population"
               ]
              ],
              "y": [
               [
                2489059,
                3104788,
                3864972,
                5508297,
                7583269,
                8682174,
                9749640,
                10142619
               ]
              ]
             },
             [
              0
             ]
            ],
            "label": "Papua New Guinea",
            "method": "restyle",
            "visible": true
           },
           {
            "args": [
             {
              "fill": "tozeroy",
              "type": "line",
              "x": [
               [
                "1970 Population",
                "1980 Population",
                "1990 Population",
                "2000 Population",
                "2010 Population",
                "2015 Population",
                "2020 Population",
                "2022 Population"
               ]
              ],
              "y": [
               [
                2408787,
                3078912,
                4059195,
                5123819,
                5768613,
                6177950,
                6618695,
                6780744
               ]
              ]
             },
             [
              0
             ]
            ],
            "label": "Paraguay",
            "method": "restyle",
            "visible": true
           },
           {
            "args": [
             {
              "fill": "tozeroy",
              "type": "line",
              "x": [
               [
                "1970 Population",
                "1980 Population",
                "1990 Population",
                "2000 Population",
                "2010 Population",
                "2015 Population",
                "2020 Population",
                "2022 Population"
               ]
              ],
              "y": [
               [
                13562371,
                17492406,
                22109099,
                26654439,
                29229572,
                30711863,
                33304756,
                34049588
               ]
              ]
             },
             [
              0
             ]
            ],
            "label": "Peru",
            "method": "restyle",
            "visible": true
           },
           {
            "args": [
             {
              "fill": "tozeroy",
              "type": "line",
              "x": [
               [
                "1970 Population",
                "1980 Population",
                "1990 Population",
                "2000 Population",
                "2010 Population",
                "2015 Population",
                "2020 Population",
                "2022 Population"
               ]
              ],
              "y": [
               [
                37435586,
                48419546,
                61558898,
                77958223,
                94636700,
                103031365,
                112190977,
                115559009
               ]
              ]
             },
             [
              0
             ]
            ],
            "label": "Philippines",
            "method": "restyle",
            "visible": true
           },
           {
            "args": [
             {
              "fill": "tozeroy",
              "type": "line",
              "x": [
               [
                "1970 Population",
                "1980 Population",
                "1990 Population",
                "2000 Population",
                "2010 Population",
                "2015 Population",
                "2020 Population",
                "2022 Population"
               ]
              ],
              "y": [
               [
                32482943,
                35521429,
                38064255,
                38504431,
                38597353,
                38553146,
                38428366,
                39857145
               ]
              ]
             },
             [
              0
             ]
            ],
            "label": "Poland",
            "method": "restyle",
            "visible": true
           },
           {
            "args": [
             {
              "fill": "tozeroy",
              "type": "line",
              "x": [
               [
                "1970 Population",
                "1980 Population",
                "1990 Population",
                "2000 Population",
                "2010 Population",
                "2015 Population",
                "2020 Population",
                "2022 Population"
               ]
              ],
              "y": [
               [
                8683631,
                9785252,
                10007346,
                10300626,
                10588401,
                10365435,
                10298192,
                10270865
               ]
              ]
             },
             [
              0
             ]
            ],
            "label": "Portugal",
            "method": "restyle",
            "visible": true
           },
           {
            "args": [
             {
              "fill": "tozeroy",
              "type": "line",
              "x": [
               [
                "1970 Population",
                "1980 Population",
                "1990 Population",
                "2000 Population",
                "2010 Population",
                "2015 Population",
                "2020 Population",
                "2022 Population"
               ]
              ],
              "y": [
               [
                2737619,
                3214568,
                3543776,
                3827108,
                3717922,
                3497335,
                3271564,
                3252407
               ]
              ]
             },
             [
              0
             ]
            ],
            "label": "Puerto Rico",
            "method": "restyle",
            "visible": true
           },
           {
            "args": [
             {
              "fill": "tozeroy",
              "type": "line",
              "x": [
               [
                "1970 Population",
                "1980 Population",
                "1990 Population",
                "2000 Population",
                "2010 Population",
                "2015 Population",
                "2020 Population",
                "2022 Population"
               ]
              ],
              "y": [
               [
                118007,
                277450,
                441675,
                645937,
                1713504,
                2414573,
                2760385,
                2695122
               ]
              ]
             },
             [
              0
             ]
            ],
            "label": "Qatar",
            "method": "restyle",
            "visible": true
           },
           {
            "args": [
             {
              "fill": "tozeroy",
              "type": "line",
              "x": [
               [
                "1970 Population",
                "1980 Population",
                "1990 Population",
                "2000 Population",
                "2010 Population",
                "2015 Population",
                "2020 Population",
                "2022 Population"
               ]
              ],
              "y": [
               [
                1396989,
                1829256,
                2385435,
                3134030,
                4437884,
                5064386,
                5702174,
                5970424
               ]
              ]
             },
             [
              0
             ]
            ],
            "label": "Republic of the Congo",
            "method": "restyle",
            "visible": true
           },
           {
            "args": [
             {
              "fill": "tozeroy",
              "type": "line",
              "x": [
               [
                "1970 Population",
                "1980 Population",
                "1990 Population",
                "2000 Population",
                "2010 Population",
                "2015 Population",
                "2020 Population",
                "2022 Population"
               ]
              ],
              "y": [
               [
                473925,
                551674,
                658992,
                785424,
                890130,
                922495,
                957822,
                974052
               ]
              ]
             },
             [
              0
             ]
            ],
            "label": "Reunion",
            "method": "restyle",
            "visible": true
           },
           {
            "args": [
             {
              "fill": "tozeroy",
              "type": "line",
              "x": [
               [
                "1970 Population",
                "1980 Population",
                "1990 Population",
                "2000 Population",
                "2010 Population",
                "2015 Population",
                "2020 Population",
                "2022 Population"
               ]
              ],
              "y": [
               [
                19922618,
                22125224,
                22836234,
                21919876,
                20335211,
                19906079,
                19442038,
                19659267
               ]
              ]
             },
             [
              0
             ]
            ],
            "label": "Romania",
            "method": "restyle",
            "visible": true
           },
           {
            "args": [
             {
              "fill": "tozeroy",
              "type": "line",
              "x": [
               [
                "1970 Population",
                "1980 Population",
                "1990 Population",
                "2000 Population",
                "2010 Population",
                "2015 Population",
                "2020 Population",
                "2022 Population"
               ]
              ],
              "y": [
               [
                130093010,
                138257420,
                148005704,
                146844839,
                143242599,
                144668389,
                145617329,
                144713314
               ]
              ]
             },
             [
              0
             ]
            ],
            "label": "Russia",
            "method": "restyle",
            "visible": true
           },
           {
            "args": [
             {
              "fill": "tozeroy",
              "type": "line",
              "x": [
               [
                "1970 Population",
                "1980 Population",
                "1990 Population",
                "2000 Population",
                "2010 Population",
                "2015 Population",
                "2020 Population",
                "2022 Population"
               ]
              ],
              "y": [
               [
                3896367,
                5247532,
                7319962,
                8109989,
                10309031,
                11642959,
                13146362,
                13776698
               ]
              ]
             },
             [
              0
             ]
            ],
            "label": "Rwanda",
            "method": "restyle",
            "visible": true
           },
           {
            "args": [
             {
              "fill": "tozeroy",
              "type": "line",
              "x": [
               [
                "1970 Population",
                "1980 Population",
                "1990 Population",
                "2000 Population",
                "2010 Population",
                "2015 Population",
                "2020 Population",
                "2022 Population"
               ]
              ],
              "y": [
               [
                2417,
                2983,
                5168,
                7082,
                8988,
                9643,
                10681,
                10967
               ]
              ]
             },
             [
              0
             ]
            ],
            "label": "Saint Barthelemy",
            "method": "restyle",
            "visible": true
           },
           {
            "args": [
             {
              "fill": "tozeroy",
              "type": "line",
              "x": [
               [
                "1970 Population",
                "1980 Population",
                "1990 Population",
                "2000 Population",
                "2010 Population",
                "2015 Population",
                "2020 Population",
                "2022 Population"
               ]
              ],
              "y": [
               [
                44968,
                43097,
                40636,
                45461,
                47403,
                47790,
                47642,
                47657
               ]
              ]
             },
             [
              0
             ]
            ],
            "label": "Saint Kitts and Nevis",
            "method": "restyle",
            "visible": true
           },
           {
            "args": [
             {
              "fill": "tozeroy",
              "type": "line",
              "x": [
               [
                "1970 Population",
                "1980 Population",
                "1990 Population",
                "2000 Population",
                "2010 Population",
                "2015 Population",
                "2020 Population",
                "2022 Population"
               ]
              ],
              "y": [
               [
                103090,
                121633,
                142301,
                159500,
                170935,
                175623,
                179237,
                179857
               ]
              ]
             },
             [
              0
             ]
            ],
            "label": "Saint Lucia",
            "method": "restyle",
            "visible": true
           },
           {
            "args": [
             {
              "fill": "tozeroy",
              "type": "line",
              "x": [
               [
                "1970 Population",
                "1980 Population",
                "1990 Population",
                "2000 Population",
                "2010 Population",
                "2015 Population",
                "2020 Population",
                "2022 Population"
               ]
              ],
              "y": [
               [
                5802,
                7776,
                28127,
                29610,
                36458,
                35020,
                32552,
                31791
               ]
              ]
             },
             [
              0
             ]
            ],
            "label": "Saint Martin",
            "method": "restyle",
            "visible": true
           },
           {
            "args": [
             {
              "fill": "tozeroy",
              "type": "line",
              "x": [
               [
                "1970 Population",
                "1980 Population",
                "1990 Population",
                "2000 Population",
                "2010 Population",
                "2015 Population",
                "2020 Population",
                "2022 Population"
               ]
              ],
              "y": [
               [
                5537,
                6106,
                6324,
                6274,
                6052,
                5978,
                5906,
                5862
               ]
              ]
             },
             [
              0
             ]
            ],
            "label": "Saint Pierre and Miquelon",
            "method": "restyle",
            "visible": true
           },
           {
            "args": [
             {
              "fill": "tozeroy",
              "type": "line",
              "x": [
               [
                "1970 Population",
                "1980 Population",
                "1990 Population",
                "2000 Population",
                "2010 Population",
                "2015 Population",
                "2020 Population",
                "2022 Population"
               ]
              ],
              "y": [
               [
                98459,
                107480,
                112487,
                113813,
                109308,
                106482,
                104632,
                103948
               ]
              ]
             },
             [
              0
             ]
            ],
            "label": "Saint Vincent and the Grenadines",
            "method": "restyle",
            "visible": true
           },
           {
            "args": [
             {
              "fill": "tozeroy",
              "type": "line",
              "x": [
               [
                "1970 Population",
                "1980 Population",
                "1990 Population",
                "2000 Population",
                "2010 Population",
                "2015 Population",
                "2020 Population",
                "2022 Population"
               ]
              ],
              "y": [
               [
                142771,
                164905,
                168186,
                184008,
                194672,
                203571,
                214929,
                222382
               ]
              ]
             },
             [
              0
             ]
            ],
            "label": "Samoa",
            "method": "restyle",
            "visible": true
           },
           {
            "args": [
             {
              "fill": "tozeroy",
              "type": "line",
              "x": [
               [
                "1970 Population",
                "1980 Population",
                "1990 Population",
                "2000 Population",
                "2010 Population",
                "2015 Population",
                "2020 Population",
                "2022 Population"
               ]
              ],
              "y": [
               [
                18169,
                21346,
                23132,
                26823,
                31608,
                33570,
                34007,
                33660
               ]
              ]
             },
             [
              0
             ]
            ],
            "label": "San Marino",
            "method": "restyle",
            "visible": true
           },
           {
            "args": [
             {
              "fill": "tozeroy",
              "type": "line",
              "x": [
               [
                "1970 Population",
                "1980 Population",
                "1990 Population",
                "2000 Population",
                "2010 Population",
                "2015 Population",
                "2020 Population",
                "2022 Population"
               ]
              ],
              "y": [
               [
                77583,
                97210,
                120343,
                143714,
                182138,
                201124,
                218641,
                227380
               ]
              ]
             },
             [
              0
             ]
            ],
            "label": "Sao Tome and Principe",
            "method": "restyle",
            "visible": true
           },
           {
            "args": [
             {
              "fill": "tozeroy",
              "type": "line",
              "x": [
               [
                "1970 Population",
                "1980 Population",
                "1990 Population",
                "2000 Population",
                "2010 Population",
                "2015 Population",
                "2020 Population",
                "2022 Population"
               ]
              ],
              "y": [
               [
                6106191,
                10171710,
                16004763,
                21547390,
                29411929,
                32749848,
                35997107,
                36408820
               ]
              ]
             },
             [
              0
             ]
            ],
            "label": "Saudi Arabia",
            "method": "restyle",
            "visible": true
           },
           {
            "args": [
             {
              "fill": "tozeroy",
              "type": "line",
              "x": [
               [
                "1970 Population",
                "1980 Population",
                "1990 Population",
                "2000 Population",
                "2010 Population",
                "2015 Population",
                "2020 Population",
                "2022 Population"
               ]
              ],
              "y": [
               [
                4367744,
                5703869,
                7536001,
                9704287,
                12530121,
                14356181,
                16436119,
                17316449
               ]
              ]
             },
             [
              0
             ]
            ],
            "label": "Senegal",
            "method": "restyle",
            "visible": true
           },
           {
            "args": [
             {
              "fill": "tozeroy",
              "type": "line",
              "x": [
               [
                "1970 Population",
                "1980 Population",
                "1990 Population",
                "2000 Population",
                "2010 Population",
                "2015 Population",
                "2020 Population",
                "2022 Population"
               ]
              ],
              "y": [
               [
                7193533,
                7777010,
                7987529,
                7935022,
                7653748,
                7519496,
                7358005,
                7221365
               ]
              ]
             },
             [
              0
             ]
            ],
            "label": "Serbia",
            "method": "restyle",
            "visible": true
           },
           {
            "args": [
             {
              "fill": "tozeroy",
              "type": "line",
              "x": [
               [
                "1970 Population",
                "1980 Population",
                "1990 Population",
                "2000 Population",
                "2010 Population",
                "2015 Population",
                "2020 Population",
                "2022 Population"
               ]
              ],
              "y": [
               [
                54379,
                65290,
                71057,
                80060,
                92409,
                99240,
                105530,
                107118
               ]
              ]
             },
             [
              0
             ]
            ],
            "label": "Seychelles",
            "method": "restyle",
            "visible": true
           },
           {
            "args": [
             {
              "fill": "tozeroy",
              "type": "line",
              "x": [
               [
                "1970 Population",
                "1980 Population",
                "1990 Population",
                "2000 Population",
                "2010 Population",
                "2015 Population",
                "2020 Population",
                "2022 Population"
               ]
              ],
              "y": [
               [
                2778557,
                3367477,
                4325388,
                4584067,
                6436698,
                7314773,
                8233969,
                8605718
               ]
              ]
             },
             [
              0
             ]
            ],
            "label": "Sierra Leone",
            "method": "restyle",
            "visible": true
           },
           {
            "args": [
             {
              "fill": "tozeroy",
              "type": "line",
              "x": [
               [
                "1970 Population",
                "1980 Population",
                "1990 Population",
                "2000 Population",
                "2010 Population",
                "2015 Population",
                "2020 Population",
                "2022 Population"
               ]
              ],
              "y": [
               [
                2061831,
                2400729,
                3022209,
                4053602,
                5163590,
                5650018,
                5909869,
                5975689
               ]
              ]
             },
             [
              0
             ]
            ],
            "label": "Singapore",
            "method": "restyle",
            "visible": true
           },
           {
            "args": [
             {
              "fill": "tozeroy",
              "type": "line",
              "x": [
               [
                "1970 Population",
                "1980 Population",
                "1990 Population",
                "2000 Population",
                "2010 Population",
                "2015 Population",
                "2020 Population",
                "2022 Population"
               ]
              ],
              "y": [
               [
                6260,
                12243,
                27845,
                30489,
                33034,
                40205,
                43621,
                44175
               ]
              ]
             },
             [
              0
             ]
            ],
            "label": "Sint Maarten",
            "method": "restyle",
            "visible": true
           },
           {
            "args": [
             {
              "fill": "tozeroy",
              "type": "line",
              "x": [
               [
                "1970 Population",
                "1980 Population",
                "1990 Population",
                "2000 Population",
                "2010 Population",
                "2015 Population",
                "2020 Population",
                "2022 Population"
               ]
              ],
              "y": [
               [
                4522867,
                4973883,
                5261305,
                5376690,
                5396424,
                5424444,
                5456681,
                5643453
               ]
              ]
             },
             [
              0
             ]
            ],
            "label": "Slovakia",
            "method": "restyle",
            "visible": true
           },
           {
            "args": [
             {
              "fill": "tozeroy",
              "type": "line",
              "x": [
               [
                "1970 Population",
                "1980 Population",
                "1990 Population",
                "2000 Population",
                "2010 Population",
                "2015 Population",
                "2020 Population",
                "2022 Population"
               ]
              ],
              "y": [
               [
                1741286,
                1901570,
                1986024,
                1984339,
                2057286,
                2080862,
                2117641,
                2119844
               ]
              ]
             },
             [
              0
             ]
            ],
            "label": "Slovenia",
            "method": "restyle",
            "visible": true
           },
           {
            "args": [
             {
              "fill": "tozeroy",
              "type": "line",
              "x": [
               [
                "1970 Population",
                "1980 Population",
                "1990 Population",
                "2000 Population",
                "2010 Population",
                "2015 Population",
                "2020 Population",
                "2022 Population"
               ]
              ],
              "y": [
               [
                172833,
                233668,
                324171,
                429978,
                540394,
                612660,
                691191,
                724273
               ]
              ]
             },
             [
              0
             ]
            ],
            "label": "Solomon Islands",
            "method": "restyle",
            "visible": true
           },
           {
            "args": [
             {
              "fill": "tozeroy",
              "type": "line",
              "x": [
               [
                "1970 Population",
                "1980 Population",
                "1990 Population",
                "2000 Population",
                "2010 Population",
                "2015 Population",
                "2020 Population",
                "2022 Population"
               ]
              ],
              "y": [
               [
                3720977,
                5892224,
                6999096,
                8721465,
                12026649,
                13763906,
                16537016,
                17597511
               ]
              ]
             },
             [
              0
             ]
            ],
            "label": "Somalia",
            "method": "restyle",
            "visible": true
           },
           {
            "args": [
             {
              "fill": "tozeroy",
              "type": "line",
              "x": [
               [
                "1970 Population",
                "1980 Population",
                "1990 Population",
                "2000 Population",
                "2010 Population",
                "2015 Population",
                "2020 Population",
                "2022 Population"
               ]
              ],
              "y": [
               [
                22368306,
                29463549,
                39877570,
                46813266,
                51784921,
                55876504,
                58801927,
                59893885
               ]
              ]
             },
             [
              0
             ]
            ],
            "label": "South Africa",
            "method": "restyle",
            "visible": true
           },
           {
            "args": [
             {
              "fill": "tozeroy",
              "type": "line",
              "x": [
               [
                "1970 Population",
                "1980 Population",
                "1990 Population",
                "2000 Population",
                "2010 Population",
                "2015 Population",
                "2020 Population",
                "2022 Population"
               ]
              ],
              "y": [
               [
                32601143,
                38170501,
                44120039,
                46788591,
                48813042,
                50994401,
                51844690,
                51815810
               ]
              ]
             },
             [
              0
             ]
            ],
            "label": "South Korea",
            "method": "restyle",
            "visible": true
           },
           {
            "args": [
             {
              "fill": "tozeroy",
              "type": "line",
              "x": [
               [
                "1970 Population",
                "1980 Population",
                "1990 Population",
                "2000 Population",
                "2010 Population",
                "2015 Population",
                "2020 Population",
                "2022 Population"
               ]
              ],
              "y": [
               [
                3342410,
                4192011,
                4750817,
                6114440,
                9714419,
                11194299,
                10606227,
                10913164
               ]
              ]
             },
             [
              0
             ]
            ],
            "label": "South Sudan",
            "method": "restyle",
            "visible": true
           },
           {
            "args": [
             {
              "fill": "tozeroy",
              "type": "line",
              "x": [
               [
                "1970 Population",
                "1980 Population",
                "1990 Population",
                "2000 Population",
                "2010 Population",
                "2015 Population",
                "2020 Population",
                "2022 Population"
               ]
              ],
              "y": [
               [
                33792617,
                37491666,
                38889889,
                40741651,
                46572772,
                46431342,
                47363807,
                47558630
               ]
              ]
             },
             [
              0
             ]
            ],
            "label": "Spain",
            "method": "restyle",
            "visible": true
           },
           {
            "args": [
             {
              "fill": "tozeroy",
              "type": "line",
              "x": [
               [
                "1970 Population",
                "1980 Population",
                "1990 Population",
                "2000 Population",
                "2010 Population",
                "2015 Population",
                "2020 Population",
                "2022 Population"
               ]
              ],
              "y": [
               [
                12388769,
                14943645,
                17204094,
                18776371,
                20668557,
                21336697,
                21715079,
                21832143
               ]
              ]
             },
             [
              0
             ]
            ],
            "label": "Sri Lanka",
            "method": "restyle",
            "visible": true
           },
           {
            "args": [
             {
              "fill": "tozeroy",
              "type": "line",
              "x": [
               [
                "1970 Population",
                "1980 Population",
                "1990 Population",
                "2000 Population",
                "2010 Population",
                "2015 Population",
                "2020 Population",
                "2022 Population"
               ]
              ],
              "y": [
               [
                11305206,
                16673586,
                21090886,
                26298773,
                33739933,
                38171178,
                44440486,
                46874204
               ]
              ]
             },
             [
              0
             ]
            ],
            "label": "Sudan",
            "method": "restyle",
            "visible": true
           },
           {
            "args": [
             {
              "fill": "tozeroy",
              "type": "line",
              "x": [
               [
                "1970 Population",
                "1980 Population",
                "1990 Population",
                "2000 Population",
                "2010 Population",
                "2015 Population",
                "2020 Population",
                "2022 Population"
               ]
              ],
              "y": [
               [
                379918,
                375112,
                412756,
                478998,
                546080,
                575475,
                607065,
                618040
               ]
              ]
             },
             [
              0
             ]
            ],
            "label": "Suriname",
            "method": "restyle",
            "visible": true
           },
           {
            "args": [
             {
              "fill": "tozeroy",
              "type": "line",
              "x": [
               [
                "1970 Population",
                "1980 Population",
                "1990 Population",
                "2000 Population",
                "2010 Population",
                "2015 Population",
                "2020 Population",
                "2022 Population"
               ]
              ],
              "y": [
               [
                8027702,
                8311763,
                8548406,
                8871043,
                9381729,
                9849349,
                10368969,
                10549347
               ]
              ]
             },
             [
              0
             ]
            ],
            "label": "Sweden",
            "method": "restyle",
            "visible": true
           },
           {
            "args": [
             {
              "fill": "tozeroy",
              "type": "line",
              "x": [
               [
                "1970 Population",
                "1980 Population",
                "1990 Population",
                "2000 Population",
                "2010 Population",
                "2015 Population",
                "2020 Population",
                "2022 Population"
               ]
              ],
              "y": [
               [
                6181227,
                6319113,
                6711693,
                7182059,
                7822435,
                8281732,
                8638613,
                8740472
               ]
              ]
             },
             [
              0
             ]
            ],
            "label": "Switzerland",
            "method": "restyle",
            "visible": true
           },
           {
            "args": [
             {
              "fill": "tozeroy",
              "type": "line",
              "x": [
               [
                "1970 Population",
                "1980 Population",
                "1990 Population",
                "2000 Population",
                "2010 Population",
                "2015 Population",
                "2020 Population",
                "2022 Population"
               ]
              ],
              "y": [
               [
                6319199,
                8898954,
                12408996,
                16307654,
                22337563,
                19205178,
                20772595,
                22125249
               ]
              ]
             },
             [
              0
             ]
            ],
            "label": "Syria",
            "method": "restyle",
            "visible": true
           },
           {
            "args": [
             {
              "fill": "tozeroy",
              "type": "line",
              "x": [
               [
                "1970 Population",
                "1980 Population",
                "1990 Population",
                "2000 Population",
                "2010 Population",
                "2015 Population",
                "2020 Population",
                "2022 Population"
               ]
              ],
              "y": [
               [
                14957870,
                18100281,
                20586174,
                22194731,
                23083083,
                23512136,
                23821464,
                23893394
               ]
              ]
             },
             [
              0
             ]
            ],
            "label": "Taiwan",
            "method": "restyle",
            "visible": true
           },
           {
            "args": [
             {
              "fill": "tozeroy",
              "type": "line",
              "x": [
               [
                "1970 Population",
                "1980 Population",
                "1990 Population",
                "2000 Population",
                "2010 Population",
                "2015 Population",
                "2020 Population",
                "2022 Population"
               ]
              ],
              "y": [
               [
                2993019,
                4045965,
                5417860,
                6272998,
                7621779,
                8524063,
                9543207,
                9952787
               ]
              ]
             },
             [
              0
             ]
            ],
            "label": "Tajikistan",
            "method": "restyle",
            "visible": true
           },
           {
            "args": [
             {
              "fill": "tozeroy",
              "type": "line",
              "x": [
               [
                "1970 Population",
                "1980 Population",
                "1990 Population",
                "2000 Population",
                "2010 Population",
                "2015 Population",
                "2020 Population",
                "2022 Population"
               ]
              ],
              "y": [
               [
                13618192,
                19297659,
                26206012,
                34463704,
                45110527,
                52542823,
                61704518,
                65497748
               ]
              ]
             },
             [
              0
             ]
            ],
            "label": "Tanzania",
            "method": "restyle",
            "visible": true
           },
           {
            "args": [
             {
              "fill": "tozeroy",
              "type": "line",
              "x": [
               [
                "1970 Population",
                "1980 Population",
                "1990 Population",
                "2000 Population",
                "2010 Population",
                "2015 Population",
                "2020 Population",
                "2022 Population"
               ]
              ],
              "y": [
               [
                35791728,
                45737753,
                55228410,
                63066603,
                68270489,
                70294397,
                71475664,
                71697030
               ]
              ]
             },
             [
              0
             ]
            ],
            "label": "Thailand",
            "method": "restyle",
            "visible": true
           },
           {
            "args": [
             {
              "fill": "tozeroy",
              "type": "line",
              "x": [
               [
                "1970 Population",
                "1980 Population",
                "1990 Population",
                "2000 Population",
                "2010 Population",
                "2015 Population",
                "2020 Population",
                "2022 Population"
               ]
              ],
              "y": [
               [
                554021,
                642224,
                758106,
                878360,
                1088486,
                1205813,
                1299995,
                1341296
               ]
              ]
             },
             [
              0
             ]
            ],
            "label": "Timor-Leste",
            "method": "restyle",
            "visible": true
           },
           {
            "args": [
             {
              "fill": "tozeroy",
              "type": "line",
              "x": [
               [
                "1970 Population",
                "1980 Population",
                "1990 Population",
                "2000 Population",
                "2010 Population",
                "2015 Population",
                "2020 Population",
                "2022 Population"
               ]
              ],
              "y": [
               [
                2197383,
                2838110,
                3875947,
                5008035,
                6571855,
                7473229,
                8442580,
                8848699
               ]
              ]
             },
             [
              0
             ]
            ],
            "label": "Togo",
            "method": "restyle",
            "visible": true
           },
           {
            "args": [
             {
              "fill": "tozeroy",
              "type": "line",
              "x": [
               [
                "1970 Population",
                "1980 Population",
                "1990 Population",
                "2000 Population",
                "2010 Population",
                "2015 Population",
                "2020 Population",
                "2022 Population"
               ]
              ],
              "y": [
               [
                1714,
                1647,
                1669,
                1666,
                1367,
                1454,
                1827,
                1871
               ]
              ]
             },
             [
              0
             ]
            ],
            "label": "Tokelau",
            "method": "restyle",
            "visible": true
           },
           {
            "args": [
             {
              "fill": "tozeroy",
              "type": "line",
              "x": [
               [
                "1970 Population",
                "1980 Population",
                "1990 Population",
                "2000 Population",
                "2010 Population",
                "2015 Population",
                "2020 Population",
                "2022 Population"
               ]
              ],
              "y": [
               [
                86484,
                96708,
                98727,
                102603,
                107383,
                106122,
                105254,
                106858
               ]
              ]
             },
             [
              0
             ]
            ],
            "label": "Tonga",
            "method": "restyle",
            "visible": true
           },
           {
            "args": [
             {
              "fill": "tozeroy",
              "type": "line",
              "x": [
               [
                "1970 Population",
                "1980 Population",
                "1990 Population",
                "2000 Population",
                "2010 Population",
                "2015 Population",
                "2020 Population",
                "2022 Population"
               ]
              ],
              "y": [
               [
                988890,
                1127852,
                1266518,
                1332203,
                1410296,
                1460177,
                1518147,
                1531044
               ]
              ]
             },
             [
              0
             ]
            ],
            "label": "Trinidad and Tobago",
            "method": "restyle",
            "visible": true
           },
           {
            "args": [
             {
              "fill": "tozeroy",
              "type": "line",
              "x": [
               [
                "1970 Population",
                "1980 Population",
                "1990 Population",
                "2000 Population",
                "2010 Population",
                "2015 Population",
                "2020 Population",
                "2022 Population"
               ]
              ],
              "y": [
               [
                5047404,
                6578156,
                8440023,
                9893316,
                10895063,
                11557779,
                12161723,
                12356117
               ]
              ]
             },
             [
              0
             ]
            ],
            "label": "Tunisia",
            "method": "restyle",
            "visible": true
           },
           {
            "args": [
             {
              "fill": "tozeroy",
              "type": "line",
              "x": [
               [
                "1970 Population",
                "1980 Population",
                "1990 Population",
                "2000 Population",
                "2010 Population",
                "2015 Population",
                "2020 Population",
                "2022 Population"
               ]
              ],
              "y": [
               [
                35540990,
                44089069,
                54324142,
                64113547,
                73195345,
                79646178,
                84135428,
                85341241
               ]
              ]
             },
             [
              0
             ]
            ],
            "label": "Turkey",
            "method": "restyle",
            "visible": true
           },
           {
            "args": [
             {
              "fill": "tozeroy",
              "type": "line",
              "x": [
               [
                "1970 Population",
                "1980 Population",
                "1990 Population",
                "2000 Population",
                "2010 Population",
                "2015 Population",
                "2020 Population",
                "2022 Population"
               ]
              ],
              "y": [
               [
                2201432,
                2862903,
                3720278,
                4569132,
                5267970,
                5766431,
                6250438,
                6430770
               ]
              ]
             },
             [
              0
             ]
            ],
            "label": "Turkmenistan",
            "method": "restyle",
            "visible": true
           },
           {
            "args": [
             {
              "fill": "tozeroy",
              "type": "line",
              "x": [
               [
                "1970 Population",
                "1980 Population",
                "1990 Population",
                "2000 Population",
                "2010 Population",
                "2015 Population",
                "2020 Population",
                "2022 Population"
               ]
              ],
              "y": [
               [
                5665,
                7598,
                11709,
                18744,
                29726,
                36538,
                44276,
                45703
               ]
              ]
             },
             [
              0
             ]
            ],
            "label": "Turks and Caicos Islands",
            "method": "restyle",
            "visible": true
           },
           {
            "args": [
             {
              "fill": "tozeroy",
              "type": "line",
              "x": [
               [
                "1970 Population",
                "1980 Population",
                "1990 Population",
                "2000 Population",
                "2010 Population",
                "2015 Population",
                "2020 Population",
                "2022 Population"
               ]
              ],
              "y": [
               [
                5814,
                7731,
                9182,
                9638,
                10550,
                10877,
                11069,
                11312
               ]
              ]
             },
             [
              0
             ]
            ],
            "label": "Tuvalu",
            "method": "restyle",
            "visible": true
           },
           {
            "args": [
             {
              "fill": "tozeroy",
              "type": "line",
              "x": [
               [
                "1970 Population",
                "1980 Population",
                "1990 Population",
                "2000 Population",
                "2010 Population",
                "2015 Population",
                "2020 Population",
                "2022 Population"
               ]
              ],
              "y": [
               [
                10317212,
                13284026,
                17586630,
                24020697,
                32341728,
                37477356,
                44404611,
                47249585
               ]
              ]
             },
             [
              0
             ]
            ],
            "label": "Uganda",
            "method": "restyle",
            "visible": true
           },
           {
            "args": [
             {
              "fill": "tozeroy",
              "type": "line",
              "x": [
               [
                "1970 Population",
                "1980 Population",
                "1990 Population",
                "2000 Population",
                "2010 Population",
                "2015 Population",
                "2020 Population",
                "2022 Population"
               ]
              ],
              "y": [
               [
                47279086,
                49973920,
                51589817,
                48879755,
                45683020,
                44982564,
                43909666,
                39701739
               ]
              ]
             },
             [
              0
             ]
            ],
            "label": "Ukraine",
            "method": "restyle",
            "visible": true
           },
           {
            "args": [
             {
              "fill": "tozeroy",
              "type": "line",
              "x": [
               [
                "1970 Population",
                "1980 Population",
                "1990 Population",
                "2000 Population",
                "2010 Population",
                "2015 Population",
                "2020 Population",
                "2022 Population"
               ]
              ],
              "y": [
               [
                298084,
                1014048,
                1900151,
                3275333,
                8481771,
                8916899,
                9287289,
                9441129
               ]
              ]
             },
             [
              0
             ]
            ],
            "label": "United Arab Emirates",
            "method": "restyle",
            "visible": true
           },
           {
            "args": [
             {
              "fill": "tozeroy",
              "type": "line",
              "x": [
               [
                "1970 Population",
                "1980 Population",
                "1990 Population",
                "2000 Population",
                "2010 Population",
                "2015 Population",
                "2020 Population",
                "2022 Population"
               ]
              ],
              "y": [
               [
                55650166,
                56326328,
                57210442,
                58850043,
                62760039,
                65224364,
                67059474,
                67508936
               ]
              ]
             },
             [
              0
             ]
            ],
            "label": "United Kingdom",
            "method": "restyle",
            "visible": true
           },
           {
            "args": [
             {
              "fill": "tozeroy",
              "type": "line",
              "x": [
               [
                "1970 Population",
                "1980 Population",
                "1990 Population",
                "2000 Population",
                "2010 Population",
                "2015 Population",
                "2020 Population",
                "2022 Population"
               ]
              ],
              "y": [
               [
                200328340,
                223140018,
                248083732,
                282398554,
                311182845,
                324607776,
                335942003,
                338289857
               ]
              ]
             },
             [
              0
             ]
            ],
            "label": "United States",
            "method": "restyle",
            "visible": true
           },
           {
            "args": [
             {
              "fill": "tozeroy",
              "type": "line",
              "x": [
               [
                "1970 Population",
                "1980 Population",
                "1990 Population",
                "2000 Population",
                "2010 Population",
                "2015 Population",
                "2020 Population",
                "2022 Population"
               ]
              ],
              "y": [
               [
                63446,
                96640,
                100685,
                108185,
                106142,
                102803,
                100442,
                99465
               ]
              ]
             },
             [
              0
             ]
            ],
            "label": "United States Virgin Islands",
            "method": "restyle",
            "visible": true
           },
           {
            "args": [
             {
              "fill": "tozeroy",
              "type": "line",
              "x": [
               [
                "1970 Population",
                "1980 Population",
                "1990 Population",
                "2000 Population",
                "2010 Population",
                "2015 Population",
                "2020 Population",
                "2022 Population"
               ]
              ],
              "y": [
               [
                2790265,
                2953750,
                3117012,
                3292224,
                3352651,
                3402818,
                3429086,
                3422794
               ]
              ]
             },
             [
              0
             ]
            ],
            "label": "Uruguay",
            "method": "restyle",
            "visible": true
           },
           {
            "args": [
             {
              "fill": "tozeroy",
              "type": "line",
              "x": [
               [
                "1970 Population",
                "1980 Population",
                "1990 Population",
                "2000 Population",
                "2010 Population",
                "2015 Population",
                "2020 Population",
                "2022 Population"
               ]
              ],
              "y": [
               [
                12011361,
                15947129,
                20579100,
                24925554,
                28614227,
                30949417,
                33526656,
                34627652
               ]
              ]
             },
             [
              0
             ]
            ],
            "label": "Uzbekistan",
            "method": "restyle",
            "visible": true
           },
           {
            "args": [
             {
              "fill": "tozeroy",
              "type": "line",
              "x": [
               [
                "1970 Population",
                "1980 Population",
                "1990 Population",
                "2000 Population",
                "2010 Population",
                "2015 Population",
                "2020 Population",
                "2022 Population"
               ]
              ],
              "y": [
               [
                87019,
                118156,
                150882,
                192074,
                245453,
                276438,
                311685,
                326740
               ]
              ]
             },
             [
              0
             ]
            ],
            "label": "Vanuatu",
            "method": "restyle",
            "visible": true
           },
           {
            "args": [
             {
              "fill": "tozeroy",
              "type": "line",
              "x": [
               [
                "1970 Population",
                "1980 Population",
                "1990 Population",
                "2000 Population",
                "2010 Population",
                "2015 Population",
                "2020 Population",
                "2022 Population"
               ]
              ],
              "y": [
               [
                752,
                733,
                700,
                651,
                596,
                564,
                520,
                510
               ]
              ]
             },
             [
              0
             ]
            ],
            "label": "Vatican City",
            "method": "restyle",
            "visible": true
           },
           {
            "args": [
             {
              "fill": "tozeroy",
              "type": "line",
              "x": [
               [
                "1970 Population",
                "1980 Population",
                "1990 Population",
                "2000 Population",
                "2010 Population",
                "2015 Population",
                "2020 Population",
                "2022 Population"
               ]
              ],
              "y": [
               [
                11355475,
                15210443,
                19750579,
                24427729,
                28715022,
                30529716,
                28490453,
                28301696
               ]
              ]
             },
             [
              0
             ]
            ],
            "label": "Venezuela",
            "method": "restyle",
            "visible": true
           },
           {
            "args": [
             {
              "fill": "tozeroy",
              "type": "line",
              "x": [
               [
                "1970 Population",
                "1980 Population",
                "1990 Population",
                "2000 Population",
                "2010 Population",
                "2015 Population",
                "2020 Population",
                "2022 Population"
               ]
              ],
              "y": [
               [
                41928849,
                52968270,
                66912613,
                79001142,
                87411012,
                92191398,
                96648685,
                98186856
               ]
              ]
             },
             [
              0
             ]
            ],
            "label": "Vietnam",
            "method": "restyle",
            "visible": true
           },
           {
            "args": [
             {
              "fill": "tozeroy",
              "type": "line",
              "x": [
               [
                "1970 Population",
                "1980 Population",
                "1990 Population",
                "2000 Population",
                "2010 Population",
                "2015 Population",
                "2020 Population",
                "2022 Population"
               ]
              ],
              "y": [
               [
                9377,
                11315,
                13454,
                14723,
                13142,
                12182,
                11655,
                11572
               ]
              ]
             },
             [
              0
             ]
            ],
            "label": "Wallis and Futuna",
            "method": "restyle",
            "visible": true
           },
           {
            "args": [
             {
              "fill": "tozeroy",
              "type": "line",
              "x": [
               [
                "1970 Population",
                "1980 Population",
                "1990 Population",
                "2000 Population",
                "2010 Population",
                "2015 Population",
                "2020 Population",
                "2022 Population"
               ]
              ],
              "y": [
               [
                76371,
                116775,
                178529,
                270375,
                413296,
                491824,
                556048,
                575986
               ]
              ]
             },
             [
              0
             ]
            ],
            "label": "Western Sahara",
            "method": "restyle",
            "visible": true
           },
           {
            "args": [
             {
              "fill": "tozeroy",
              "type": "line",
              "x": [
               [
                "1970 Population",
                "1980 Population",
                "1990 Population",
                "2000 Population",
                "2010 Population",
                "2015 Population",
                "2020 Population",
                "2022 Population"
               ]
              ],
              "y": [
               [
                6843607,
                9204938,
                13375121,
                18628700,
                24743946,
                28516545,
                32284046,
                33696614
               ]
              ]
             },
             [
              0
             ]
            ],
            "label": "Yemen",
            "method": "restyle",
            "visible": true
           },
           {
            "args": [
             {
              "fill": "tozeroy",
              "type": "line",
              "x": [
               [
                "1970 Population",
                "1980 Population",
                "1990 Population",
                "2000 Population",
                "2010 Population",
                "2015 Population",
                "2020 Population",
                "2022 Population"
               ]
              ],
              "y": [
               [
                4281671,
                5720438,
                7686401,
                9891136,
                13792086,
                16248230,
                18927715,
                20017675
               ]
              ]
             },
             [
              0
             ]
            ],
            "label": "Zambia",
            "method": "restyle",
            "visible": true
           },
           {
            "args": [
             {
              "fill": "tozeroy",
              "type": "line",
              "x": [
               [
                "1970 Population",
                "1980 Population",
                "1990 Population",
                "2000 Population",
                "2010 Population",
                "2015 Population",
                "2020 Population",
                "2022 Population"
               ]
              ],
              "y": [
               [
                5202918,
                7049926,
                10113893,
                11834676,
                12839771,
                14154937,
                15669666,
                16320537
               ]
              ]
             },
             [
              0
             ]
            ],
            "label": "Zimbabwe",
            "method": "restyle",
            "visible": true
           }
          ],
          "direction": "down",
          "showactive": true
         }
        ]
       }
      },
      "text/html": [
       "<div>                            <div id=\"8c800e5a-2308-438e-a76c-58b5405e1422\" class=\"plotly-graph-div\" style=\"height:525px; width:100%;\"></div>            <script type=\"text/javascript\">                require([\"plotly\"], function(Plotly) {                    window.PLOTLYENV=window.PLOTLYENV || {};                                    if (document.getElementById(\"8c800e5a-2308-438e-a76c-58b5405e1422\")) {                    Plotly.newPlot(                        \"8c800e5a-2308-438e-a76c-58b5405e1422\",                        [{\"fill\":\"tozeroy\",\"visible\":true,\"x\":[\"1970 Population\",\"1980 Population\",\"1990 Population\",\"2000 Population\",\"2010 Population\",\"2015 Population\",\"2020 Population\",\"2022 Population\"],\"y\":[10752971,12486631,10694796,19542982,28189672,33753499,38972230,41128771],\"type\":\"scatter\"}],                        {\"template\":{\"data\":{\"histogram2dcontour\":[{\"type\":\"histogram2dcontour\",\"colorbar\":{\"outlinewidth\":0,\"ticks\":\"\"},\"colorscale\":[[0.0,\"#0d0887\"],[0.1111111111111111,\"#46039f\"],[0.2222222222222222,\"#7201a8\"],[0.3333333333333333,\"#9c179e\"],[0.4444444444444444,\"#bd3786\"],[0.5555555555555556,\"#d8576b\"],[0.6666666666666666,\"#ed7953\"],[0.7777777777777778,\"#fb9f3a\"],[0.8888888888888888,\"#fdca26\"],[1.0,\"#f0f921\"]]}],\"choropleth\":[{\"type\":\"choropleth\",\"colorbar\":{\"outlinewidth\":0,\"ticks\":\"\"}}],\"histogram2d\":[{\"type\":\"histogram2d\",\"colorbar\":{\"outlinewidth\":0,\"ticks\":\"\"},\"colorscale\":[[0.0,\"#0d0887\"],[0.1111111111111111,\"#46039f\"],[0.2222222222222222,\"#7201a8\"],[0.3333333333333333,\"#9c179e\"],[0.4444444444444444,\"#bd3786\"],[0.5555555555555556,\"#d8576b\"],[0.6666666666666666,\"#ed7953\"],[0.7777777777777778,\"#fb9f3a\"],[0.8888888888888888,\"#fdca26\"],[1.0,\"#f0f921\"]]}],\"heatmap\":[{\"type\":\"heatmap\",\"colorbar\":{\"outlinewidth\":0,\"ticks\":\"\"},\"colorscale\":[[0.0,\"#0d0887\"],[0.1111111111111111,\"#46039f\"],[0.2222222222222222,\"#7201a8\"],[0.3333333333333333,\"#9c179e\"],[0.4444444444444444,\"#bd3786\"],[0.5555555555555556,\"#d8576b\"],[0.6666666666666666,\"#ed7953\"],[0.7777777777777778,\"#fb9f3a\"],[0.8888888888888888,\"#fdca26\"],[1.0,\"#f0f921\"]]}],\"heatmapgl\":[{\"type\":\"heatmapgl\",\"colorbar\":{\"outlinewidth\":0,\"ticks\":\"\"},\"colorscale\":[[0.0,\"#0d0887\"],[0.1111111111111111,\"#46039f\"],[0.2222222222222222,\"#7201a8\"],[0.3333333333333333,\"#9c179e\"],[0.4444444444444444,\"#bd3786\"],[0.5555555555555556,\"#d8576b\"],[0.6666666666666666,\"#ed7953\"],[0.7777777777777778,\"#fb9f3a\"],[0.8888888888888888,\"#fdca26\"],[1.0,\"#f0f921\"]]}],\"contourcarpet\":[{\"type\":\"contourcarpet\",\"colorbar\":{\"outlinewidth\":0,\"ticks\":\"\"}}],\"contour\":[{\"type\":\"contour\",\"colorbar\":{\"outlinewidth\":0,\"ticks\":\"\"},\"colorscale\":[[0.0,\"#0d0887\"],[0.1111111111111111,\"#46039f\"],[0.2222222222222222,\"#7201a8\"],[0.3333333333333333,\"#9c179e\"],[0.4444444444444444,\"#bd3786\"],[0.5555555555555556,\"#d8576b\"],[0.6666666666666666,\"#ed7953\"],[0.7777777777777778,\"#fb9f3a\"],[0.8888888888888888,\"#fdca26\"],[1.0,\"#f0f921\"]]}],\"surface\":[{\"type\":\"surface\",\"colorbar\":{\"outlinewidth\":0,\"ticks\":\"\"},\"colorscale\":[[0.0,\"#0d0887\"],[0.1111111111111111,\"#46039f\"],[0.2222222222222222,\"#7201a8\"],[0.3333333333333333,\"#9c179e\"],[0.4444444444444444,\"#bd3786\"],[0.5555555555555556,\"#d8576b\"],[0.6666666666666666,\"#ed7953\"],[0.7777777777777778,\"#fb9f3a\"],[0.8888888888888888,\"#fdca26\"],[1.0,\"#f0f921\"]]}],\"mesh3d\":[{\"type\":\"mesh3d\",\"colorbar\":{\"outlinewidth\":0,\"ticks\":\"\"}}],\"scatter\":[{\"fillpattern\":{\"fillmode\":\"overlay\",\"size\":10,\"solidity\":0.2},\"type\":\"scatter\"}],\"parcoords\":[{\"type\":\"parcoords\",\"line\":{\"colorbar\":{\"outlinewidth\":0,\"ticks\":\"\"}}}],\"scatterpolargl\":[{\"type\":\"scatterpolargl\",\"marker\":{\"colorbar\":{\"outlinewidth\":0,\"ticks\":\"\"}}}],\"bar\":[{\"error_x\":{\"color\":\"#2a3f5f\"},\"error_y\":{\"color\":\"#2a3f5f\"},\"marker\":{\"line\":{\"color\":\"#E5ECF6\",\"width\":0.5},\"pattern\":{\"fillmode\":\"overlay\",\"size\":10,\"solidity\":0.2}},\"type\":\"bar\"}],\"scattergeo\":[{\"type\":\"scattergeo\",\"marker\":{\"colorbar\":{\"outlinewidth\":0,\"ticks\":\"\"}}}],\"scatterpolar\":[{\"type\":\"scatterpolar\",\"marker\":{\"colorbar\":{\"outlinewidth\":0,\"ticks\":\"\"}}}],\"histogram\":[{\"marker\":{\"pattern\":{\"fillmode\":\"overlay\",\"size\":10,\"solidity\":0.2}},\"type\":\"histogram\"}],\"scattergl\":[{\"type\":\"scattergl\",\"marker\":{\"colorbar\":{\"outlinewidth\":0,\"ticks\":\"\"}}}],\"scatter3d\":[{\"type\":\"scatter3d\",\"line\":{\"colorbar\":{\"outlinewidth\":0,\"ticks\":\"\"}},\"marker\":{\"colorbar\":{\"outlinewidth\":0,\"ticks\":\"\"}}}],\"scattermapbox\":[{\"type\":\"scattermapbox\",\"marker\":{\"colorbar\":{\"outlinewidth\":0,\"ticks\":\"\"}}}],\"scatterternary\":[{\"type\":\"scatterternary\",\"marker\":{\"colorbar\":{\"outlinewidth\":0,\"ticks\":\"\"}}}],\"scattercarpet\":[{\"type\":\"scattercarpet\",\"marker\":{\"colorbar\":{\"outlinewidth\":0,\"ticks\":\"\"}}}],\"carpet\":[{\"aaxis\":{\"endlinecolor\":\"#2a3f5f\",\"gridcolor\":\"white\",\"linecolor\":\"white\",\"minorgridcolor\":\"white\",\"startlinecolor\":\"#2a3f5f\"},\"baxis\":{\"endlinecolor\":\"#2a3f5f\",\"gridcolor\":\"white\",\"linecolor\":\"white\",\"minorgridcolor\":\"white\",\"startlinecolor\":\"#2a3f5f\"},\"type\":\"carpet\"}],\"table\":[{\"cells\":{\"fill\":{\"color\":\"#EBF0F8\"},\"line\":{\"color\":\"white\"}},\"header\":{\"fill\":{\"color\":\"#C8D4E3\"},\"line\":{\"color\":\"white\"}},\"type\":\"table\"}],\"barpolar\":[{\"marker\":{\"line\":{\"color\":\"#E5ECF6\",\"width\":0.5},\"pattern\":{\"fillmode\":\"overlay\",\"size\":10,\"solidity\":0.2}},\"type\":\"barpolar\"}],\"pie\":[{\"automargin\":true,\"type\":\"pie\"}]},\"layout\":{\"autotypenumbers\":\"strict\",\"colorway\":[\"#636efa\",\"#EF553B\",\"#00cc96\",\"#ab63fa\",\"#FFA15A\",\"#19d3f3\",\"#FF6692\",\"#B6E880\",\"#FF97FF\",\"#FECB52\"],\"font\":{\"color\":\"#2a3f5f\"},\"hovermode\":\"closest\",\"hoverlabel\":{\"align\":\"left\"},\"paper_bgcolor\":\"white\",\"plot_bgcolor\":\"#E5ECF6\",\"polar\":{\"bgcolor\":\"#E5ECF6\",\"angularaxis\":{\"gridcolor\":\"white\",\"linecolor\":\"white\",\"ticks\":\"\"},\"radialaxis\":{\"gridcolor\":\"white\",\"linecolor\":\"white\",\"ticks\":\"\"}},\"ternary\":{\"bgcolor\":\"#E5ECF6\",\"aaxis\":{\"gridcolor\":\"white\",\"linecolor\":\"white\",\"ticks\":\"\"},\"baxis\":{\"gridcolor\":\"white\",\"linecolor\":\"white\",\"ticks\":\"\"},\"caxis\":{\"gridcolor\":\"white\",\"linecolor\":\"white\",\"ticks\":\"\"}},\"coloraxis\":{\"colorbar\":{\"outlinewidth\":0,\"ticks\":\"\"}},\"colorscale\":{\"sequential\":[[0.0,\"#0d0887\"],[0.1111111111111111,\"#46039f\"],[0.2222222222222222,\"#7201a8\"],[0.3333333333333333,\"#9c179e\"],[0.4444444444444444,\"#bd3786\"],[0.5555555555555556,\"#d8576b\"],[0.6666666666666666,\"#ed7953\"],[0.7777777777777778,\"#fb9f3a\"],[0.8888888888888888,\"#fdca26\"],[1.0,\"#f0f921\"]],\"sequentialminus\":[[0.0,\"#0d0887\"],[0.1111111111111111,\"#46039f\"],[0.2222222222222222,\"#7201a8\"],[0.3333333333333333,\"#9c179e\"],[0.4444444444444444,\"#bd3786\"],[0.5555555555555556,\"#d8576b\"],[0.6666666666666666,\"#ed7953\"],[0.7777777777777778,\"#fb9f3a\"],[0.8888888888888888,\"#fdca26\"],[1.0,\"#f0f921\"]],\"diverging\":[[0,\"#8e0152\"],[0.1,\"#c51b7d\"],[0.2,\"#de77ae\"],[0.3,\"#f1b6da\"],[0.4,\"#fde0ef\"],[0.5,\"#f7f7f7\"],[0.6,\"#e6f5d0\"],[0.7,\"#b8e186\"],[0.8,\"#7fbc41\"],[0.9,\"#4d9221\"],[1,\"#276419\"]]},\"xaxis\":{\"gridcolor\":\"white\",\"linecolor\":\"white\",\"ticks\":\"\",\"title\":{\"standoff\":15},\"zerolinecolor\":\"white\",\"automargin\":true,\"zerolinewidth\":2},\"yaxis\":{\"gridcolor\":\"white\",\"linecolor\":\"white\",\"ticks\":\"\",\"title\":{\"standoff\":15},\"zerolinecolor\":\"white\",\"automargin\":true,\"zerolinewidth\":2},\"scene\":{\"xaxis\":{\"backgroundcolor\":\"#E5ECF6\",\"gridcolor\":\"white\",\"linecolor\":\"white\",\"showbackground\":true,\"ticks\":\"\",\"zerolinecolor\":\"white\",\"gridwidth\":2},\"yaxis\":{\"backgroundcolor\":\"#E5ECF6\",\"gridcolor\":\"white\",\"linecolor\":\"white\",\"showbackground\":true,\"ticks\":\"\",\"zerolinecolor\":\"white\",\"gridwidth\":2},\"zaxis\":{\"backgroundcolor\":\"#E5ECF6\",\"gridcolor\":\"white\",\"linecolor\":\"white\",\"showbackground\":true,\"ticks\":\"\",\"zerolinecolor\":\"white\",\"gridwidth\":2}},\"shapedefaults\":{\"line\":{\"color\":\"#2a3f5f\"}},\"annotationdefaults\":{\"arrowcolor\":\"#2a3f5f\",\"arrowhead\":0,\"arrowwidth\":1},\"geo\":{\"bgcolor\":\"white\",\"landcolor\":\"#E5ECF6\",\"subunitcolor\":\"white\",\"showland\":true,\"showlakes\":true,\"lakecolor\":\"white\"},\"title\":{\"x\":0.05},\"mapbox\":{\"style\":\"light\"}}},\"showlegend\":false,\"updatemenus\":[{\"buttons\":[{\"args\":[{\"y\":[[10752971,12486631,10694796,19542982,28189672,33753499,38972230,41128771]],\"x\":[[\"1970 Population\",\"1980 Population\",\"1990 Population\",\"2000 Population\",\"2010 Population\",\"2015 Population\",\"2020 Population\",\"2022 Population\"]],\"type\":\"line\",\"fill\":\"tozeroy\"},[0]],\"label\":\"Afghanistan\",\"method\":\"restyle\",\"visible\":true},{\"args\":[{\"y\":[[2324731,2941651,3295066,3182021,2913399,2882481,2866849,2842321]],\"x\":[[\"1970 Population\",\"1980 Population\",\"1990 Population\",\"2000 Population\",\"2010 Population\",\"2015 Population\",\"2020 Population\",\"2022 Population\"]],\"type\":\"line\",\"fill\":\"tozeroy\"},[0]],\"label\":\"Albania\",\"method\":\"restyle\",\"visible\":true},{\"args\":[{\"y\":[[13795915,18739378,25518074,30774621,35856344,39543154,43451666,44903225]],\"x\":[[\"1970 Population\",\"1980 Population\",\"1990 Population\",\"2000 Population\",\"2010 Population\",\"2015 Population\",\"2020 Population\",\"2022 Population\"]],\"type\":\"line\",\"fill\":\"tozeroy\"},[0]],\"label\":\"Algeria\",\"method\":\"restyle\",\"visible\":true},{\"args\":[{\"y\":[[27075,32886,47818,58230,54849,51368,46189,44273]],\"x\":[[\"1970 Population\",\"1980 Population\",\"1990 Population\",\"2000 Population\",\"2010 Population\",\"2015 Population\",\"2020 Population\",\"2022 Population\"]],\"type\":\"line\",\"fill\":\"tozeroy\"},[0]],\"label\":\"American Samoa\",\"method\":\"restyle\",\"visible\":true},{\"args\":[{\"y\":[[19860,35611,53569,66097,71519,71746,77700,79824]],\"x\":[[\"1970 Population\",\"1980 Population\",\"1990 Population\",\"2000 Population\",\"2010 Population\",\"2015 Population\",\"2020 Population\",\"2022 Population\"]],\"type\":\"line\",\"fill\":\"tozeroy\"},[0]],\"label\":\"Andorra\",\"method\":\"restyle\",\"visible\":true},{\"args\":[{\"y\":[[6029700,8330047,11828638,16394062,23364185,28127721,33428485,35588987]],\"x\":[[\"1970 Population\",\"1980 Population\",\"1990 Population\",\"2000 Population\",\"2010 Population\",\"2015 Population\",\"2020 Population\",\"2022 Population\"]],\"type\":\"line\",\"fill\":\"tozeroy\"},[0]],\"label\":\"Angola\",\"method\":\"restyle\",\"visible\":true},{\"args\":[{\"y\":[[6283,6560,8316,11047,13172,14525,15585,15857]],\"x\":[[\"1970 Population\",\"1980 Population\",\"1990 Population\",\"2000 Population\",\"2010 Population\",\"2015 Population\",\"2020 Population\",\"2022 Population\"]],\"type\":\"line\",\"fill\":\"tozeroy\"},[0]],\"label\":\"Anguilla\",\"method\":\"restyle\",\"visible\":true},{\"args\":[{\"y\":[[64516,64888,63328,75055,85695,89941,92664,93763]],\"x\":[[\"1970 Population\",\"1980 Population\",\"1990 Population\",\"2000 Population\",\"2010 Population\",\"2015 Population\",\"2020 Population\",\"2022 Population\"]],\"type\":\"line\",\"fill\":\"tozeroy\"},[0]],\"label\":\"Antigua and Barbuda\",\"method\":\"restyle\",\"visible\":true},{\"args\":[{\"y\":[[23842803,28024803,32637657,37070774,41100123,43257065,45036032,45510318]],\"x\":[[\"1970 Population\",\"1980 Population\",\"1990 Population\",\"2000 Population\",\"2010 Population\",\"2015 Population\",\"2020 Population\",\"2022 Population\"]],\"type\":\"line\",\"fill\":\"tozeroy\"},[0]],\"label\":\"Argentina\",\"method\":\"restyle\",\"visible\":true},{\"args\":[{\"y\":[[2534377,3135123,3556539,3168523,2946293,2878595,2805608,2780469]],\"x\":[[\"1970 Population\",\"1980 Population\",\"1990 Population\",\"2000 Population\",\"2010 Population\",\"2015 Population\",\"2020 Population\",\"2022 Population\"]],\"type\":\"line\",\"fill\":\"tozeroy\"},[0]],\"label\":\"Armenia\",\"method\":\"restyle\",\"visible\":true},{\"args\":[{\"y\":[[59106,62267,65712,89101,100341,104257,106585,106445]],\"x\":[[\"1970 Population\",\"1980 Population\",\"1990 Population\",\"2000 Population\",\"2010 Population\",\"2015 Population\",\"2020 Population\",\"2022 Population\"]],\"type\":\"line\",\"fill\":\"tozeroy\"},[0]],\"label\":\"Aruba\",\"method\":\"restyle\",\"visible\":true},{\"args\":[{\"y\":[[12595034,14706322,17048003,19017963,22019168,23820236,25670051,26177413]],\"x\":[[\"1970 Population\",\"1980 Population\",\"1990 Population\",\"2000 Population\",\"2010 Population\",\"2015 Population\",\"2020 Population\",\"2022 Population\"]],\"type\":\"line\",\"fill\":\"tozeroy\"},[0]],\"label\":\"Australia\",\"method\":\"restyle\",\"visible\":true},{\"args\":[{\"y\":[[7465301,7547561,7678729,8010428,8362829,8642421,8907777,8939617]],\"x\":[[\"1970 Population\",\"1980 Population\",\"1990 Population\",\"2000 Population\",\"2010 Population\",\"2015 Population\",\"2020 Population\",\"2022 Population\"]],\"type\":\"line\",\"fill\":\"tozeroy\"},[0]],\"label\":\"Austria\",\"method\":\"restyle\",\"visible\":true},{\"args\":[{\"y\":[[5425317,6383060,7427836,8190337,9237202,9863480,10284951,10358074]],\"x\":[[\"1970 Population\",\"1980 Population\",\"1990 Population\",\"2000 Population\",\"2010 Population\",\"2015 Population\",\"2020 Population\",\"2022 Population\"]],\"type\":\"line\",\"fill\":\"tozeroy\"},[0]],\"label\":\"Azerbaijan\",\"method\":\"restyle\",\"visible\":true},{\"args\":[{\"y\":[[179129,223752,270679,325014,373272,392697,406471,409984]],\"x\":[[\"1970 Population\",\"1980 Population\",\"1990 Population\",\"2000 Population\",\"2010 Population\",\"2015 Population\",\"2020 Population\",\"2022 Population\"]],\"type\":\"line\",\"fill\":\"tozeroy\"},[0]],\"label\":\"Bahamas\",\"method\":\"restyle\",\"visible\":true},{\"args\":[{\"y\":[[222555,362595,517418,711442,1213645,1362142,1477469,1472233]],\"x\":[[\"1970 Population\",\"1980 Population\",\"1990 Population\",\"2000 Population\",\"2010 Population\",\"2015 Population\",\"2020 Population\",\"2022 Population\"]],\"type\":\"line\",\"fill\":\"tozeroy\"},[0]],\"label\":\"Bahrain\",\"method\":\"restyle\",\"visible\":true},{\"args\":[{\"y\":[[67541860,83929765,107147651,129193327,148391139,157830000,167420951,171186372]],\"x\":[[\"1970 Population\",\"1980 Population\",\"1990 Population\",\"2000 Population\",\"2010 Population\",\"2015 Population\",\"2020 Population\",\"2022 Population\"]],\"type\":\"line\",\"fill\":\"tozeroy\"},[0]],\"label\":\"Bangladesh\",\"method\":\"restyle\",\"visible\":true},{\"args\":[{\"y\":[[241397,253575,258868,264657,274711,278083,280693,281635]],\"x\":[[\"1970 Population\",\"1980 Population\",\"1990 Population\",\"2000 Population\",\"2010 Population\",\"2015 Population\",\"2020 Population\",\"2022 Population\"]],\"type\":\"line\",\"fill\":\"tozeroy\"},[0]],\"label\":\"Barbados\",\"method\":\"restyle\",\"visible\":true},{\"args\":[{\"y\":[[9170786,9817257,10428525,10256483,9731427,9700609,9633740,9534954]],\"x\":[[\"1970 Population\",\"1980 Population\",\"1990 Population\",\"2000 Population\",\"2010 Population\",\"2015 Population\",\"2020 Population\",\"2022 Population\"]],\"type\":\"line\",\"fill\":\"tozeroy\"},[0]],\"label\":\"Belarus\",\"method\":\"restyle\",\"visible\":true},{\"args\":[{\"y\":[[9629376,9828986,9959560,10264343,10877947,11248303,11561717,11655930]],\"x\":[[\"1970 Population\",\"1980 Population\",\"1990 Population\",\"2000 Population\",\"2010 Population\",\"2015 Population\",\"2020 Population\",\"2022 Population\"]],\"type\":\"line\",\"fill\":\"tozeroy\"},[0]],\"label\":\"Belgium\",\"method\":\"restyle\",\"visible\":true},{\"args\":[{\"y\":[[120905,145133,182589,240406,322106,359871,394921,405272]],\"x\":[[\"1970 Population\",\"1980 Population\",\"1990 Population\",\"2000 Population\",\"2010 Population\",\"2015 Population\",\"2020 Population\",\"2022 Population\"]],\"type\":\"line\",\"fill\":\"tozeroy\"},[0]],\"label\":\"Belize\",\"method\":\"restyle\",\"visible\":true},{\"args\":[{\"y\":[[3023443,3833939,5133419,6998023,9445710,10932783,12643123,13352864]],\"x\":[[\"1970 Population\",\"1980 Population\",\"1990 Population\",\"2000 Population\",\"2010 Population\",\"2015 Population\",\"2020 Population\",\"2022 Population\"]],\"type\":\"line\",\"fill\":\"tozeroy\"},[0]],\"label\":\"Benin\",\"method\":\"restyle\",\"visible\":true},{\"args\":[{\"y\":[[52019,53565,57470,61371,63447,63144,64031,64184]],\"x\":[[\"1970 Population\",\"1980 Population\",\"1990 Population\",\"2000 Population\",\"2010 Population\",\"2015 Population\",\"2020 Population\",\"2022 Population\"]],\"type\":\"line\",\"fill\":\"tozeroy\"},[0]],\"label\":\"Bermuda\",\"method\":\"restyle\",\"visible\":true},{\"args\":[{\"y\":[[298894,415257,558442,587207,705516,743274,772506,782455]],\"x\":[[\"1970 Population\",\"1980 Population\",\"1990 Population\",\"2000 Population\",\"2010 Population\",\"2015 Population\",\"2020 Population\",\"2022 Population\"]],\"type\":\"line\",\"fill\":\"tozeroy\"},[0]],\"label\":\"Bhutan\",\"method\":\"restyle\",\"visible\":true},{\"args\":[{\"y\":[[4585693,5736088,7096194,8592656,10223270,11090085,11936162,12224110]],\"x\":[[\"1970 Population\",\"1980 Population\",\"1990 Population\",\"2000 Population\",\"2010 Population\",\"2015 Population\",\"2020 Population\",\"2022 Population\"]],\"type\":\"line\",\"fill\":\"tozeroy\"},[0]],\"label\":\"Bolivia\",\"method\":\"restyle\",\"visible\":true},{\"args\":[{\"y\":[[3815561,4199820,4494310,4179350,3811088,3524324,3318407,3233526]],\"x\":[[\"1970 Population\",\"1980 Population\",\"1990 Population\",\"2000 Population\",\"2010 Population\",\"2015 Population\",\"2020 Population\",\"2022 Population\"]],\"type\":\"line\",\"fill\":\"tozeroy\"},[0]],\"label\":\"Bosnia and Herzegovina\",\"method\":\"restyle\",\"visible\":true},{\"args\":[{\"y\":[[592244,938578,1341474,1726985,2091664,2305171,2546402,2630296]],\"x\":[[\"1970 Population\",\"1980 Population\",\"1990 Population\",\"2000 Population\",\"2010 Population\",\"2015 Population\",\"2020 Population\",\"2022 Population\"]],\"type\":\"line\",\"fill\":\"tozeroy\"},[0]],\"label\":\"Botswana\",\"method\":\"restyle\",\"visible\":true},{\"args\":[{\"y\":[[96369875,122288383,150706446,175873720,196353492,205188205,213196304,215313498]],\"x\":[[\"1970 Population\",\"1980 Population\",\"1990 Population\",\"2000 Population\",\"2010 Population\",\"2015 Population\",\"2020 Population\",\"2022 Population\"]],\"type\":\"line\",\"fill\":\"tozeroy\"},[0]],\"label\":\"Brazil\",\"method\":\"restyle\",\"visible\":true},{\"args\":[{\"y\":[[9581,11109,15617,20104,27556,29366,30910,31305]],\"x\":[[\"1970 Population\",\"1980 Population\",\"1990 Population\",\"2000 Population\",\"2010 Population\",\"2015 Population\",\"2020 Population\",\"2022 Population\"]],\"type\":\"line\",\"fill\":\"tozeroy\"},[0]],\"label\":\"British Virgin Islands\",\"method\":\"restyle\",\"visible\":true},{\"args\":[{\"y\":[[133343,187921,261928,333926,396053,421437,441725,449002]],\"x\":[[\"1970 Population\",\"1980 Population\",\"1990 Population\",\"2000 Population\",\"2010 Population\",\"2015 Population\",\"2020 Population\",\"2022 Population\"]],\"type\":\"line\",\"fill\":\"tozeroy\"},[0]],\"label\":\"Brunei\",\"method\":\"restyle\",\"visible\":true},{\"args\":[{\"y\":[[8582950,8980606,8767778,8097691,7592273,7309253,6979175,6781953]],\"x\":[[\"1970 Population\",\"1980 Population\",\"1990 Population\",\"2000 Population\",\"2010 Population\",\"2015 Population\",\"2020 Population\",\"2022 Population\"]],\"type\":\"line\",\"fill\":\"tozeroy\"},[0]],\"label\":\"Bulgaria\",\"method\":\"restyle\",\"visible\":true},{\"args\":[{\"y\":[[5611666,6932967,9131361,11882888,16116845,18718019,21522626,22673762]],\"x\":[[\"1970 Population\",\"1980 Population\",\"1990 Population\",\"2000 Population\",\"2010 Population\",\"2015 Population\",\"2020 Population\",\"2022 Population\"]],\"type\":\"line\",\"fill\":\"tozeroy\"},[0]],\"label\":\"Burkina Faso\",\"method\":\"restyle\",\"visible\":true},{\"args\":[{\"y\":[[3497834,4312834,5483793,6307659,9126605,10727148,12220227,12889576]],\"x\":[[\"1970 Population\",\"1980 Population\",\"1990 Population\",\"2000 Population\",\"2010 Population\",\"2015 Population\",\"2020 Population\",\"2022 Population\"]],\"type\":\"line\",\"fill\":\"tozeroy\"},[0]],\"label\":\"Burundi\",\"method\":\"restyle\",\"visible\":true},{\"args\":[{\"y\":[[6708525,6198959,8910808,12118841,14363532,15417523,16396860,16767842]],\"x\":[[\"1970 Population\",\"1980 Population\",\"1990 Population\",\"2000 Population\",\"2010 Population\",\"2015 Population\",\"2020 Population\",\"2022 Population\"]],\"type\":\"line\",\"fill\":\"tozeroy\"},[0]],\"label\":\"Cambodia\",\"method\":\"restyle\",\"visible\":true},{\"args\":[{\"y\":[[6452787,8519891,11430520,15091594,19878036,23012646,26491087,27914536]],\"x\":[[\"1970 Population\",\"1980 Population\",\"1990 Population\",\"2000 Population\",\"2010 Population\",\"2015 Population\",\"2020 Population\",\"2022 Population\"]],\"type\":\"line\",\"fill\":\"tozeroy\"},[0]],\"label\":\"Cameroon\",\"method\":\"restyle\",\"visible\":true},{\"args\":[{\"y\":[[21434577,24511510,27657204,30683313,33963412,35732126,37888705,38454327]],\"x\":[[\"1970 Population\",\"1980 Population\",\"1990 Population\",\"2000 Population\",\"2010 Population\",\"2015 Population\",\"2020 Population\",\"2022 Population\"]],\"type\":\"line\",\"fill\":\"tozeroy\"},[0]],\"label\":\"Canada\",\"method\":\"restyle\",\"visible\":true},{\"args\":[{\"y\":[[287262,317234,364563,458251,521212,552166,582640,593149]],\"x\":[[\"1970 Population\",\"1980 Population\",\"1990 Population\",\"2000 Population\",\"2010 Population\",\"2015 Population\",\"2020 Population\",\"2022 Population\"]],\"type\":\"line\",\"fill\":\"tozeroy\"},[0]],\"label\":\"Cape Verde\",\"method\":\"restyle\",\"visible\":true},{\"args\":[{\"y\":[[10533,17100,26027,39658,54074,60911,67311,68706]],\"x\":[[\"1970 Population\",\"1980 Population\",\"1990 Population\",\"2000 Population\",\"2010 Population\",\"2015 Population\",\"2020 Population\",\"2022 Population\"]],\"type\":\"line\",\"fill\":\"tozeroy\"},[0]],\"label\":\"Cayman Islands\",\"method\":\"restyle\",\"visible\":true},{\"args\":[{\"y\":[[2067356,2415276,2809221,3759170,4660067,4819333,5343020,5579144]],\"x\":[[\"1970 Population\",\"1980 Population\",\"1990 Population\",\"2000 Population\",\"2010 Population\",\"2015 Population\",\"2020 Population\",\"2022 Population\"]],\"type\":\"line\",\"fill\":\"tozeroy\"},[0]],\"label\":\"Central African Republic\",\"method\":\"restyle\",\"visible\":true},{\"args\":[{\"y\":[[3667394,4408230,5827069,8259137,11894727,14140274,16644701,17723315]],\"x\":[[\"1970 Population\",\"1980 Population\",\"1990 Population\",\"2000 Population\",\"2010 Population\",\"2015 Population\",\"2020 Population\",\"2022 Population\"]],\"type\":\"line\",\"fill\":\"tozeroy\"},[0]],\"label\":\"Chad\",\"method\":\"restyle\",\"visible\":true},{\"args\":[{\"y\":[[9820481,11469828,13342868,15351799,17004162,17870124,19300315,19603733]],\"x\":[[\"1970 Population\",\"1980 Population\",\"1990 Population\",\"2000 Population\",\"2010 Population\",\"2015 Population\",\"2020 Population\",\"2022 Population\"]],\"type\":\"line\",\"fill\":\"tozeroy\"},[0]],\"label\":\"Chile\",\"method\":\"restyle\",\"visible\":true},{\"args\":[{\"y\":[[822534450,982372466,1153704252,1264099069,1348191368,1393715448,1424929781,1425887337]],\"x\":[[\"1970 Population\",\"1980 Population\",\"1990 Population\",\"2000 Population\",\"2010 Population\",\"2015 Population\",\"2020 Population\",\"2022 Population\"]],\"type\":\"line\",\"fill\":\"tozeroy\"},[0]],\"label\":\"China\",\"method\":\"restyle\",\"visible\":true},{\"args\":[{\"y\":[[20905254,26176195,32601393,39215135,44816108,47119728,50930662,51874024]],\"x\":[[\"1970 Population\",\"1980 Population\",\"1990 Population\",\"2000 Population\",\"2010 Population\",\"2015 Population\",\"2020 Population\",\"2022 Population\"]],\"type\":\"line\",\"fill\":\"tozeroy\"},[0]],\"label\":\"Colombia\",\"method\":\"restyle\",\"visible\":true},{\"args\":[{\"y\":[[242351,328328,431119,536758,656024,730216,806166,836774]],\"x\":[[\"1970 Population\",\"1980 Population\",\"1990 Population\",\"2000 Population\",\"2010 Population\",\"2015 Population\",\"2020 Population\",\"2022 Population\"]],\"type\":\"line\",\"fill\":\"tozeroy\"},[0]],\"label\":\"Comoros\",\"method\":\"restyle\",\"visible\":true},{\"args\":[{\"y\":[[20470,17651,17123,15897,17212,17695,17029,17011]],\"x\":[[\"1970 Population\",\"1980 Population\",\"1990 Population\",\"2000 Population\",\"2010 Population\",\"2015 Population\",\"2020 Population\",\"2022 Population\"]],\"type\":\"line\",\"fill\":\"tozeroy\"},[0]],\"label\":\"Cook Islands\",\"method\":\"restyle\",\"visible\":true},{\"args\":[{\"y\":[[1855697,2414303,3158253,3979193,4622252,4895242,5123105,5180829]],\"x\":[[\"1970 Population\",\"1980 Population\",\"1990 Population\",\"2000 Population\",\"2010 Population\",\"2015 Population\",\"2020 Population\",\"2022 Population\"]],\"type\":\"line\",\"fill\":\"tozeroy\"},[0]],\"label\":\"Costa Rica\",\"method\":\"restyle\",\"visible\":true},{\"args\":[{\"y\":[[4492638,4680144,4873707,4548434,4368682,4254815,4096868,4030358]],\"x\":[[\"1970 Population\",\"1980 Population\",\"1990 Population\",\"2000 Population\",\"2010 Population\",\"2015 Population\",\"2020 Population\",\"2022 Population\"]],\"type\":\"line\",\"fill\":\"tozeroy\"},[0]],\"label\":\"Croatia\",\"method\":\"restyle\",\"visible\":true},{\"args\":[{\"y\":[[8869636,9809107,10626680,11105791,11290417,11339894,11300698,11212191]],\"x\":[[\"1970 Population\",\"1980 Population\",\"1990 Population\",\"2000 Population\",\"2010 Population\",\"2015 Population\",\"2020 Population\",\"2022 Population\"]],\"type\":\"line\",\"fill\":\"tozeroy\"},[0]],\"label\":\"Cuba\",\"method\":\"restyle\",\"visible\":true},{\"args\":[{\"y\":[[150385,156851,155446,141424,159380,169572,189288,191163]],\"x\":[[\"1970 Population\",\"1980 Population\",\"1990 Population\",\"2000 Population\",\"2010 Population\",\"2015 Population\",\"2020 Population\",\"2022 Population\"]],\"type\":\"line\",\"fill\":\"tozeroy\"},[0]],\"label\":\"Curacao\",\"method\":\"restyle\",\"visible\":true},{\"args\":[{\"y\":[[640804,679327,788500,948237,1129686,1187280,1237537,1251488]],\"x\":[[\"1970 Population\",\"1980 Population\",\"1990 Population\",\"2000 Population\",\"2010 Population\",\"2015 Population\",\"2020 Population\",\"2022 Population\"]],\"type\":\"line\",\"fill\":\"tozeroy\"},[0]],\"label\":\"Cyprus\",\"method\":\"restyle\",\"visible\":true},{\"args\":[{\"y\":[[9795744,10270060,10301192,10234710,10464749,10523798,10530953,10493986]],\"x\":[[\"1970 Population\",\"1980 Population\",\"1990 Population\",\"2000 Population\",\"2010 Population\",\"2015 Population\",\"2020 Population\",\"2022 Population\"]],\"type\":\"line\",\"fill\":\"tozeroy\"},[0]],\"label\":\"Czech Republic\",\"method\":\"restyle\",\"visible\":true},{\"args\":[{\"y\":[[4922963,5125392,5144623,5340655,5550849,5677796,5825641,5882261]],\"x\":[[\"1970 Population\",\"1980 Population\",\"1990 Population\",\"2000 Population\",\"2010 Population\",\"2015 Population\",\"2020 Population\",\"2022 Population\"]],\"type\":\"line\",\"fill\":\"tozeroy\"},[0]],\"label\":\"Denmark\",\"method\":\"restyle\",\"visible\":true},{\"args\":[{\"y\":[[144379,324121,577173,742033,919199,1006259,1090156,1120849]],\"x\":[[\"1970 Population\",\"1980 Population\",\"1990 Population\",\"2000 Population\",\"2010 Population\",\"2015 Population\",\"2020 Population\",\"2022 Population\"]],\"type\":\"line\",\"fill\":\"tozeroy\"},[0]],\"label\":\"Djibouti\",\"method\":\"restyle\",\"visible\":true},{\"args\":[{\"y\":[[68895,72978,69481,68346,68755,70007,71995,72737]],\"x\":[[\"1970 Population\",\"1980 Population\",\"1990 Population\",\"2000 Population\",\"2010 Population\",\"2015 Population\",\"2020 Population\",\"2022 Population\"]],\"type\":\"line\",\"fill\":\"tozeroy\"},[0]],\"label\":\"Dominica\",\"method\":\"restyle\",\"visible\":true},{\"args\":[{\"y\":[[4475871,5755800,7129004,8540791,9775755,10405832,10999664,11228821]],\"x\":[[\"1970 Population\",\"1980 Population\",\"1990 Population\",\"2000 Population\",\"2010 Population\",\"2015 Population\",\"2020 Population\",\"2022 Population\"]],\"type\":\"line\",\"fill\":\"tozeroy\"},[0]],\"label\":\"Dominican Republic\",\"method\":\"restyle\",\"visible\":true},{\"args\":[{\"y\":[[20151733,26708686,35987541,48616317,66391257,78656904,92853164,99010212]],\"x\":[[\"1970 Population\",\"1980 Population\",\"1990 Population\",\"2000 Population\",\"2010 Population\",\"2015 Population\",\"2020 Population\",\"2022 Population\"]],\"type\":\"line\",\"fill\":\"tozeroy\"},[0]],\"label\":\"DR Congo\",\"method\":\"restyle\",\"visible\":true},{\"args\":[{\"y\":[[6172215,8135845,10449837,12626507,14989585,16195902,17588595,18001000]],\"x\":[[\"1970 Population\",\"1980 Population\",\"1990 Population\",\"2000 Population\",\"2010 Population\",\"2015 Population\",\"2020 Population\",\"2022 Population\"]],\"type\":\"line\",\"fill\":\"tozeroy\"},[0]],\"label\":\"Ecuador\",\"method\":\"restyle\",\"visible\":true},{\"args\":[{\"y\":[[34781986,43748556,57214630,71371371,87252413,97723799,107465134,110990103]],\"x\":[[\"1970 Population\",\"1980 Population\",\"1990 Population\",\"2000 Population\",\"2010 Population\",\"2015 Population\",\"2020 Population\",\"2022 Population\"]],\"type\":\"line\",\"fill\":\"tozeroy\"},[0]],\"label\":\"Egypt\",\"method\":\"restyle\",\"visible\":true},{\"args\":[{\"y\":[[3619090,4508992,5367179,5958482,6114034,6231066,6292731,6336392]],\"x\":[[\"1970 Population\",\"1980 Population\",\"1990 Population\",\"2000 Population\",\"2010 Population\",\"2015 Population\",\"2020 Population\",\"2022 Population\"]],\"type\":\"line\",\"fill\":\"tozeroy\"},[0]],\"label\":\"El Salvador\",\"method\":\"restyle\",\"visible\":true},{\"args\":[{\"y\":[[316955,282509,465549,684977,1094524,1346973,1596049,1674908]],\"x\":[[\"1970 Population\",\"1980 Population\",\"1990 Population\",\"2000 Population\",\"2010 Population\",\"2015 Population\",\"2020 Population\",\"2022 Population\"]],\"type\":\"line\",\"fill\":\"tozeroy\"},[0]],\"label\":\"Equatorial Guinea\",\"method\":\"restyle\",\"visible\":true},{\"args\":[{\"y\":[[1272748,1657982,2149960,2392880,3147727,3340006,3555868,3684032]],\"x\":[[\"1970 Population\",\"1980 Population\",\"1990 Population\",\"2000 Population\",\"2010 Population\",\"2015 Population\",\"2020 Population\",\"2022 Population\"]],\"type\":\"line\",\"fill\":\"tozeroy\"},[0]],\"label\":\"Eritrea\",\"method\":\"restyle\",\"visible\":true},{\"args\":[{\"y\":[[1361999,1476983,1570674,1396877,1331535,1314657,1329444,1326062]],\"x\":[[\"1970 Population\",\"1980 Population\",\"1990 Population\",\"2000 Population\",\"2010 Population\",\"2015 Population\",\"2020 Population\",\"2022 Population\"]],\"type\":\"line\",\"fill\":\"tozeroy\"},[0]],\"label\":\"Estonia\",\"method\":\"restyle\",\"visible\":true},{\"args\":[{\"y\":[[442865,598564,854011,1030496,1099920,1133936,1180655,1201670]],\"x\":[[\"1970 Population\",\"1980 Population\",\"1990 Population\",\"2000 Population\",\"2010 Population\",\"2015 Population\",\"2020 Population\",\"2022 Population\"]],\"type\":\"line\",\"fill\":\"tozeroy\"},[0]],\"label\":\"Eswatini\",\"method\":\"restyle\",\"visible\":true},{\"args\":[{\"y\":[[28308246,34945469,47878073,67031867,89237791,102471895,117190911,123379924]],\"x\":[[\"1970 Population\",\"1980 Population\",\"1990 Population\",\"2000 Population\",\"2010 Population\",\"2015 Population\",\"2020 Population\",\"2022 Population\"]],\"type\":\"line\",\"fill\":\"tozeroy\"},[0]],\"label\":\"Ethiopia\",\"method\":\"restyle\",\"visible\":true},{\"args\":[{\"y\":[[2274,2240,2332,3080,3187,3408,3747,3780]],\"x\":[[\"1970 Population\",\"1980 Population\",\"1990 Population\",\"2000 Population\",\"2010 Population\",\"2015 Population\",\"2020 Population\",\"2022 Population\"]],\"type\":\"line\",\"fill\":\"tozeroy\"},[0]],\"label\":\"Falkland Islands\",\"method\":\"restyle\",\"visible\":true},{\"args\":[{\"y\":[[38416,43054,47479,45660,48410,48816,52415,53090]],\"x\":[[\"1970 Population\",\"1980 Population\",\"1990 Population\",\"2000 Population\",\"2010 Population\",\"2015 Population\",\"2020 Population\",\"2022 Population\"]],\"type\":\"line\",\"fill\":\"tozeroy\"},[0]],\"label\":\"Faroe Islands\",\"method\":\"restyle\",\"visible\":true},{\"args\":[{\"y\":[[527634,644582,780430,832509,905169,917200,920422,929766]],\"x\":[[\"1970 Population\",\"1980 Population\",\"1990 Population\",\"2000 Population\",\"2010 Population\",\"2015 Population\",\"2020 Population\",\"2022 Population\"]],\"type\":\"line\",\"fill\":\"tozeroy\"},[0]],\"label\":\"Fiji\",\"method\":\"restyle\",\"visible\":true},{\"args\":[{\"y\":[[4606621,4779418,4986545,5176209,5363271,5479461,5529468,5540745]],\"x\":[[\"1970 Population\",\"1980 Population\",\"1990 Population\",\"2000 Population\",\"2010 Population\",\"2015 Population\",\"2020 Population\",\"2022 Population\"]],\"type\":\"line\",\"fill\":\"tozeroy\"},[0]],\"label\":\"Finland\",\"method\":\"restyle\",\"visible\":true},{\"args\":[{\"y\":[[50523586,53713830,56412897,58665453,62444567,63809769,64480053,64626628]],\"x\":[[\"1970 Population\",\"1980 Population\",\"1990 Population\",\"2000 Population\",\"2010 Population\",\"2015 Population\",\"2020 Population\",\"2022 Population\"]],\"type\":\"line\",\"fill\":\"tozeroy\"},[0]],\"label\":\"France\",\"method\":\"restyle\",\"visible\":true},{\"args\":[{\"y\":[[46484,66825,113931,164351,228453,257026,290969,304557]],\"x\":[[\"1970 Population\",\"1980 Population\",\"1990 Population\",\"2000 Population\",\"2010 Population\",\"2015 Population\",\"2020 Population\",\"2022 Population\"]],\"type\":\"line\",\"fill\":\"tozeroy\"},[0]],\"label\":\"French Guiana\",\"method\":\"restyle\",\"visible\":true},{\"args\":[{\"y\":[[117891,163591,211089,250927,283788,291787,301920,306279]],\"x\":[[\"1970 Population\",\"1980 Population\",\"1990 Population\",\"2000 Population\",\"2010 Population\",\"2015 Population\",\"2020 Population\",\"2022 Population\"]],\"type\":\"line\",\"fill\":\"tozeroy\"},[0]],\"label\":\"French Polynesia\",\"method\":\"restyle\",\"visible\":true},{\"args\":[{\"y\":[[597192,749078,983028,1272935,1711105,2028517,2292573,2388992]],\"x\":[[\"1970 Population\",\"1980 Population\",\"1990 Population\",\"2000 Population\",\"2010 Population\",\"2015 Population\",\"2020 Population\",\"2022 Population\"]],\"type\":\"line\",\"fill\":\"tozeroy\"},[0]],\"label\":\"Gabon\",\"method\":\"restyle\",\"visible\":true},{\"args\":[{\"y\":[[528731,718586,1040616,1437539,1937275,2253133,2573995,2705992]],\"x\":[[\"1970 Population\",\"1980 Population\",\"1990 Population\",\"2000 Population\",\"2010 Population\",\"2015 Population\",\"2020 Population\",\"2022 Population\"]],\"type\":\"line\",\"fill\":\"tozeroy\"},[0]],\"label\":\"Gambia\",\"method\":\"restyle\",\"visible\":true},{\"args\":[{\"y\":[[4800426,5145843,5391636,4265172,3836831,3771132,3765912,3744385]],\"x\":[[\"1970 Population\",\"1980 Population\",\"1990 Population\",\"2000 Population\",\"2010 Population\",\"2015 Population\",\"2020 Population\",\"2022 Population\"]],\"type\":\"line\",\"fill\":\"tozeroy\"},[0]],\"label\":\"Georgia\",\"method\":\"restyle\",\"visible\":true},{\"args\":[{\"y\":[[78294583,77786703,79370196,81551677,81325090,82073226,83328988,83369843]],\"x\":[[\"1970 Population\",\"1980 Population\",\"1990 Population\",\"2000 Population\",\"2010 Population\",\"2015 Population\",\"2020 Population\",\"2022 Population\"]],\"type\":\"line\",\"fill\":\"tozeroy\"},[0]],\"label\":\"Germany\",\"method\":\"restyle\",\"visible\":true},{\"args\":[{\"y\":[[8861895,11865246,15446982,19665502,25574719,28870939,32180401,33475870]],\"x\":[[\"1970 Population\",\"1980 Population\",\"1990 Population\",\"2000 Population\",\"2010 Population\",\"2015 Population\",\"2020 Population\",\"2022 Population\"]],\"type\":\"line\",\"fill\":\"tozeroy\"},[0]],\"label\":\"Ghana\",\"method\":\"restyle\",\"visible\":true},{\"args\":[{\"y\":[[26685,28734,27317,27741,31262,32520,32709,32649]],\"x\":[[\"1970 Population\",\"1980 Population\",\"1990 Population\",\"2000 Population\",\"2010 Population\",\"2015 Population\",\"2020 Population\",\"2022 Population\"]],\"type\":\"line\",\"fill\":\"tozeroy\"},[0]],\"label\":\"Gibraltar\",\"method\":\"restyle\",\"visible\":true},{\"args\":[{\"y\":[[8544873,9307148,10302255,11038109,11033783,10806641,10512232,10384971]],\"x\":[[\"1970 Population\",\"1980 Population\",\"1990 Population\",\"2000 Population\",\"2010 Population\",\"2015 Population\",\"2020 Population\",\"2022 Population\"]],\"type\":\"line\",\"fill\":\"tozeroy\"},[0]],\"label\":\"Greece\",\"method\":\"restyle\",\"visible\":true},{\"args\":[{\"y\":[[45434,50106,55599,56184,56351,55895,56026,56466]],\"x\":[[\"1970 Population\",\"1980 Population\",\"1990 Population\",\"2000 Population\",\"2010 Population\",\"2015 Population\",\"2020 Population\",\"2022 Population\"]],\"type\":\"line\",\"fill\":\"tozeroy\"},[0]],\"label\":\"Greenland\",\"method\":\"restyle\",\"visible\":true},{\"args\":[{\"y\":[[98794,94838,99047,107432,114039,118980,123663,125438]],\"x\":[[\"1970 Population\",\"1980 Population\",\"1990 Population\",\"2000 Population\",\"2010 Population\",\"2015 Population\",\"2020 Population\",\"2022 Population\"]],\"type\":\"line\",\"fill\":\"tozeroy\"},[0]],\"label\":\"Grenada\",\"method\":\"restyle\",\"visible\":true},{\"args\":[{\"y\":[[318310,334234,391951,424067,403072,399089,395642,395752]],\"x\":[[\"1970 Population\",\"1980 Population\",\"1990 Population\",\"2000 Population\",\"2010 Population\",\"2015 Population\",\"2020 Population\",\"2022 Population\"]],\"type\":\"line\",\"fill\":\"tozeroy\"},[0]],\"label\":\"Guadeloupe\",\"method\":\"restyle\",\"visible\":true},{\"args\":[{\"y\":[[88300,110286,138263,160188,164905,167978,169231,171774]],\"x\":[[\"1970 Population\",\"1980 Population\",\"1990 Population\",\"2000 Population\",\"2010 Population\",\"2015 Population\",\"2020 Population\",\"2022 Population\"]],\"type\":\"line\",\"fill\":\"tozeroy\"},[0]],\"label\":\"Guam\",\"method\":\"restyle\",\"visible\":true},{\"args\":[{\"y\":[[5453208,6987767,9084780,11735894,14543121,16001107,17362718,17843908]],\"x\":[[\"1970 Population\",\"1980 Population\",\"1990 Population\",\"2000 Population\",\"2010 Population\",\"2015 Population\",\"2020 Population\",\"2022 Population\"]],\"type\":\"line\",\"fill\":\"tozeroy\"},[0]],\"label\":\"Guatemala\",\"method\":\"restyle\",\"visible\":true},{\"args\":[{\"y\":[[52656,52860,57727,59114,60782,61629,62794,63301]],\"x\":[[\"1970 Population\",\"1980 Population\",\"1990 Population\",\"2000 Population\",\"2010 Population\",\"2015 Population\",\"2020 Population\",\"2022 Population\"]],\"type\":\"line\",\"fill\":\"tozeroy\"},[0]],\"label\":\"Guernsey\",\"method\":\"restyle\",\"visible\":true},{\"args\":[{\"y\":[[4222374,4972609,6354145,8336967,10270728,11625998,13205153,13859341]],\"x\":[[\"1970 Population\",\"1980 Population\",\"1990 Population\",\"2000 Population\",\"2010 Population\",\"2015 Population\",\"2020 Population\",\"2022 Population\"]],\"type\":\"line\",\"fill\":\"tozeroy\"},[0]],\"label\":\"Guinea\",\"method\":\"restyle\",\"visible\":true},{\"args\":[{\"y\":[[591663,831462,973551,1230849,1567220,1788919,2015828,2105566]],\"x\":[[\"1970 Population\",\"1980 Population\",\"1990 Population\",\"2000 Population\",\"2010 Population\",\"2015 Population\",\"2020 Population\",\"2022 Population\"]],\"type\":\"line\",\"fill\":\"tozeroy\"},[0]],\"label\":\"Guinea-Bissau\",\"method\":\"restyle\",\"visible\":true},{\"args\":[{\"y\":[[705261,778176,747116,759051,747932,755031,797202,808726]],\"x\":[[\"1970 Population\",\"1980 Population\",\"1990 Population\",\"2000 Population\",\"2010 Population\",\"2015 Population\",\"2020 Population\",\"2022 Population\"]],\"type\":\"line\",\"fill\":\"tozeroy\"},[0]],\"label\":\"Guyana\",\"method\":\"restyle\",\"visible\":true},{\"args\":[{\"y\":[[4680812,5646676,6925331,8360225,9842880,10563757,11306801,11584996]],\"x\":[[\"1970 Population\",\"1980 Population\",\"1990 Population\",\"2000 Population\",\"2010 Population\",\"2015 Population\",\"2020 Population\",\"2022 Population\"]],\"type\":\"line\",\"fill\":\"tozeroy\"},[0]],\"label\":\"Haiti\",\"method\":\"restyle\",\"visible\":true},{\"args\":[{\"y\":[[2782753,3777990,5053234,6656725,8450933,9294505,10121763,10432860]],\"x\":[[\"1970 Population\",\"1980 Population\",\"1990 Population\",\"2000 Population\",\"2010 Population\",\"2015 Population\",\"2020 Population\",\"2022 Population\"]],\"type\":\"line\",\"fill\":\"tozeroy\"},[0]],\"label\":\"Honduras\",\"method\":\"restyle\",\"visible\":true},{\"args\":[{\"y\":[[3955072,4978544,5838574,6731195,7132438,7399838,7500958,7488865]],\"x\":[[\"1970 Population\",\"1980 Population\",\"1990 Population\",\"2000 Population\",\"2010 Population\",\"2015 Population\",\"2020 Population\",\"2022 Population\"]],\"type\":\"line\",\"fill\":\"tozeroy\"},[0]],\"label\":\"Hong Kong\",\"method\":\"restyle\",\"visible\":true},{\"args\":[{\"y\":[[10315366,10698679,10375989,10202055,9986825,9844246,9750573,9967308]],\"x\":[[\"1970 Population\",\"1980 Population\",\"1990 Population\",\"2000 Population\",\"2010 Population\",\"2015 Population\",\"2020 Population\",\"2022 Population\"]],\"type\":\"line\",\"fill\":\"tozeroy\"},[0]],\"label\":\"Hungary\",\"method\":\"restyle\",\"visible\":true},{\"args\":[{\"y\":[[204468,228263,255019,281462,318333,331060,366669,372899]],\"x\":[[\"1970 Population\",\"1980 Population\",\"1990 Population\",\"2000 Population\",\"2010 Population\",\"2015 Population\",\"2020 Population\",\"2022 Population\"]],\"type\":\"line\",\"fill\":\"tozeroy\"},[0]],\"label\":\"Iceland\",\"method\":\"restyle\",\"visible\":true},{\"args\":[{\"y\":[[557501301,696828385,870452165,1059633675,1240613620,1322866505,1396387127,1417173173]],\"x\":[[\"1970 Population\",\"1980 Population\",\"1990 Population\",\"2000 Population\",\"2010 Population\",\"2015 Population\",\"2020 Population\",\"2022 Population\"]],\"type\":\"line\",\"fill\":\"tozeroy\"},[0]],\"label\":\"India\",\"method\":\"restyle\",\"visible\":true},{\"args\":[{\"y\":[[115228394,148177096,182159874,214072421,244016173,259091970,271857970,275501339]],\"x\":[[\"1970 Population\",\"1980 Population\",\"1990 Population\",\"2000 Population\",\"2010 Population\",\"2015 Population\",\"2020 Population\",\"2022 Population\"]],\"type\":\"line\",\"fill\":\"tozeroy\"},[0]],\"label\":\"Indonesia\",\"method\":\"restyle\",\"visible\":true},{\"args\":[{\"y\":[[28449705,38520664,55793629,65544383,75373855,81790841,87290193,88550570]],\"x\":[[\"1970 Population\",\"1980 Population\",\"1990 Population\",\"2000 Population\",\"2010 Population\",\"2015 Population\",\"2020 Population\",\"2022 Population\"]],\"type\":\"line\",\"fill\":\"tozeroy\"},[0]],\"label\":\"Iran\",\"method\":\"restyle\",\"visible\":true},{\"args\":[{\"y\":[[9811347,13653369,17658381,24628858,31264875,37757813,42556984,44496122]],\"x\":[[\"1970 Population\",\"1980 Population\",\"1990 Population\",\"2000 Population\",\"2010 Population\",\"2015 Population\",\"2020 Population\",\"2022 Population\"]],\"type\":\"line\",\"fill\":\"tozeroy\"},[0]],\"label\":\"Iraq\",\"method\":\"restyle\",\"visible\":true},{\"args\":[{\"y\":[[2937637,3391387,3485374,3768950,4524585,4665760,4946119,5023109]],\"x\":[[\"1970 Population\",\"1980 Population\",\"1990 Population\",\"2000 Population\",\"2010 Population\",\"2015 Population\",\"2020 Population\",\"2022 Population\"]],\"type\":\"line\",\"fill\":\"tozeroy\"},[0]],\"label\":\"Ireland\",\"method\":\"restyle\",\"visible\":true},{\"args\":[{\"y\":[[55298,64022,68865,75562,83828,83593,84046,84519]],\"x\":[[\"1970 Population\",\"1980 Population\",\"1990 Population\",\"2000 Population\",\"2010 Population\",\"2015 Population\",\"2020 Population\",\"2022 Population\"]],\"type\":\"line\",\"fill\":\"tozeroy\"},[0]],\"label\":\"Isle of Man\",\"method\":\"restyle\",\"visible\":true},{\"args\":[{\"y\":[[2907307,3744608,4803254,6116958,7328445,8007778,8757489,9038309]],\"x\":[[\"1970 Population\",\"1980 Population\",\"1990 Population\",\"2000 Population\",\"2010 Population\",\"2015 Population\",\"2020 Population\",\"2022 Population\"]],\"type\":\"line\",\"fill\":\"tozeroy\"},[0]],\"label\":\"Israel\",\"method\":\"restyle\",\"visible\":true},{\"args\":[{\"y\":[[53324036,56329482,56756561,56966397,59822450,60232906,59500579,59037474]],\"x\":[[\"1970 Population\",\"1980 Population\",\"1990 Population\",\"2000 Population\",\"2010 Population\",\"2015 Population\",\"2020 Population\",\"2022 Population\"]],\"type\":\"line\",\"fill\":\"tozeroy\"},[0]],\"label\":\"Italy\",\"method\":\"restyle\",\"visible\":true},{\"args\":[{\"y\":[[5477086,8303809,11910540,16799670,21120042,23596741,26811790,28160542]],\"x\":[[\"1970 Population\",\"1980 Population\",\"1990 Population\",\"2000 Population\",\"2010 Population\",\"2015 Population\",\"2020 Population\",\"2022 Population\"]],\"type\":\"line\",\"fill\":\"tozeroy\"},[0]],\"label\":\"Ivory Coast\",\"method\":\"restyle\",\"visible\":true},{\"args\":[{\"y\":[[1859091,2135546,2392030,2612205,2733896,2794445,2820436,2827377]],\"x\":[[\"1970 Population\",\"1980 Population\",\"1990 Population\",\"2000 Population\",\"2010 Population\",\"2015 Population\",\"2020 Population\",\"2022 Population\"]],\"type\":\"line\",\"fill\":\"tozeroy\"},[0]],\"label\":\"Jamaica\",\"method\":\"restyle\",\"visible\":true},{\"args\":[{\"y\":[[105416839,117624196,123686321,126803861,128105431,127250933,125244761,123951692]],\"x\":[[\"1970 Population\",\"1980 Population\",\"1990 Population\",\"2000 Population\",\"2010 Population\",\"2015 Population\",\"2020 Population\",\"2022 Population\"]],\"type\":\"line\",\"fill\":\"tozeroy\"},[0]],\"label\":\"Japan\",\"method\":\"restyle\",\"visible\":true},{\"args\":[{\"y\":[[68347,75124,82874,86192,96151,100561,108319,110778]],\"x\":[[\"1970 Population\",\"1980 Population\",\"1990 Population\",\"2000 Population\",\"2010 Population\",\"2015 Population\",\"2020 Population\",\"2022 Population\"]],\"type\":\"line\",\"fill\":\"tozeroy\"},[0]],\"label\":\"Jersey\",\"method\":\"restyle\",\"visible\":true},{\"args\":[{\"y\":[[1557374,2216903,3480587,5056174,6931258,9494246,10928721,11285869]],\"x\":[[\"1970 Population\",\"1980 Population\",\"1990 Population\",\"2000 Population\",\"2010 Population\",\"2015 Population\",\"2020 Population\",\"2022 Population\"]],\"type\":\"line\",\"fill\":\"tozeroy\"},[0]],\"label\":\"Jordan\",\"method\":\"restyle\",\"visible\":true},{\"args\":[{\"y\":[[12265305,14172710,16866563,15236253,16627837,17835909,18979243,19397998]],\"x\":[[\"1970 Population\",\"1980 Population\",\"1990 Population\",\"2000 Population\",\"2010 Population\",\"2015 Population\",\"2020 Population\",\"2022 Population\"]],\"type\":\"line\",\"fill\":\"tozeroy\"},[0]],\"label\":\"Kazakhstan\",\"method\":\"restyle\",\"visible\":true},{\"args\":[{\"y\":[[11473087,16187124,23162269,30851606,41517895,46851488,51985780,54027487]],\"x\":[[\"1970 Population\",\"1980 Population\",\"1990 Population\",\"2000 Population\",\"2010 Population\",\"2015 Population\",\"2020 Population\",\"2022 Population\"]],\"type\":\"line\",\"fill\":\"tozeroy\"},[0]],\"label\":\"Kenya\",\"method\":\"restyle\",\"visible\":true},{\"args\":[{\"y\":[[57437,60813,75124,88826,107995,116707,126463,131232]],\"x\":[[\"1970 Population\",\"1980 Population\",\"1990 Population\",\"2000 Population\",\"2010 Population\",\"2015 Population\",\"2020 Population\",\"2022 Population\"]],\"type\":\"line\",\"fill\":\"tozeroy\"},[0]],\"label\":\"Kiribati\",\"method\":\"restyle\",\"visible\":true},{\"args\":[{\"y\":[[802786,1493870,1674938,1934901,2943356,3908743,4360444,4268873]],\"x\":[[\"1970 Population\",\"1980 Population\",\"1990 Population\",\"2000 Population\",\"2010 Population\",\"2015 Population\",\"2020 Population\",\"2022 Population\"]],\"type\":\"line\",\"fill\":\"tozeroy\"},[0]],\"label\":\"Kuwait\",\"method\":\"restyle\",\"visible\":true},{\"args\":[{\"y\":[[3016384,3691209,4394734,4935182,5483774,5914980,6424874,6630623]],\"x\":[[\"1970 Population\",\"1980 Population\",\"1990 Population\",\"2000 Population\",\"2010 Population\",\"2015 Population\",\"2020 Population\",\"2022 Population\"]],\"type\":\"line\",\"fill\":\"tozeroy\"},[0]],\"label\":\"Kyrgyzstan\",\"method\":\"restyle\",\"visible\":true},{\"args\":[{\"y\":[[2675283,3297519,4314443,5430853,6323418,6787419,7319399,7529475]],\"x\":[[\"1970 Population\",\"1980 Population\",\"1990 Population\",\"2000 Population\",\"2010 Population\",\"2015 Population\",\"2020 Population\",\"2022 Population\"]],\"type\":\"line\",\"fill\":\"tozeroy\"},[0]],\"label\":\"Laos\",\"method\":\"restyle\",\"visible\":true},{\"args\":[{\"y\":[[2397414,2572037,2689391,2392530,2101530,1991955,1897052,1850651]],\"x\":[[\"1970 Population\",\"1980 Population\",\"1990 Population\",\"2000 Population\",\"2010 Population\",\"2015 Population\",\"2020 Population\",\"2022 Population\"]],\"type\":\"line\",\"fill\":\"tozeroy\"},[0]],\"label\":\"Latvia\",\"method\":\"restyle\",\"visible\":true},{\"args\":[{\"y\":[[2381791,2963702,3593700,4320642,4995800,6398940,5662923,5489739]],\"x\":[[\"1970 Population\",\"1980 Population\",\"1990 Population\",\"2000 Population\",\"2010 Population\",\"2015 Population\",\"2020 Population\",\"2022 Population\"]],\"type\":\"line\",\"fill\":\"tozeroy\"},[0]],\"label\":\"Lebanon\",\"method\":\"restyle\",\"visible\":true},{\"args\":[{\"y\":[[1023481,1407672,1798997,1998630,2022747,2118521,2254100,2305825]],\"x\":[[\"1970 Population\",\"1980 Population\",\"1990 Population\",\"2000 Population\",\"2010 Population\",\"2015 Population\",\"2020 Population\",\"2022 Population\"]],\"type\":\"line\",\"fill\":\"tozeroy\"},[0]],\"label\":\"Lesotho\",\"method\":\"restyle\",\"visible\":true},{\"args\":[{\"y\":[[1463563,1932169,2209731,2895224,4019956,4612329,5087584,5302681]],\"x\":[[\"1970 Population\",\"1980 Population\",\"1990 Population\",\"2000 Population\",\"2010 Population\",\"2015 Population\",\"2020 Population\",\"2022 Population\"]],\"type\":\"line\",\"fill\":\"tozeroy\"},[0]],\"label\":\"Liberia\",\"method\":\"restyle\",\"visible\":true},{\"args\":[{\"y\":[[1909177,2962720,4236983,5154790,6491988,6192235,6653942,6812341]],\"x\":[[\"1970 Population\",\"1980 Population\",\"1990 Population\",\"2000 Population\",\"2010 Population\",\"2015 Population\",\"2020 Population\",\"2022 Population\"]],\"type\":\"line\",\"fill\":\"tozeroy\"},[0]],\"label\":\"Libya\",\"method\":\"restyle\",\"visible\":true},{\"args\":[{\"y\":[[21089,25003,28765,33026,35926,37355,38756,39327]],\"x\":[[\"1970 Population\",\"1980 Population\",\"1990 Population\",\"2000 Population\",\"2010 Population\",\"2015 Population\",\"2020 Population\",\"2022 Population\"]],\"type\":\"line\",\"fill\":\"tozeroy\"},[0]],\"label\":\"Liechtenstein\",\"method\":\"restyle\",\"visible\":true},{\"args\":[{\"y\":[[3210147,3521206,3785847,3599637,3139019,2963765,2820267,2750055]],\"x\":[[\"1970 Population\",\"1980 Population\",\"1990 Population\",\"2000 Population\",\"2010 Population\",\"2015 Population\",\"2020 Population\",\"2022 Population\"]],\"type\":\"line\",\"fill\":\"tozeroy\"},[0]],\"label\":\"Lithuania\",\"method\":\"restyle\",\"visible\":true},{\"args\":[{\"y\":[[339342,363741,381267,435628,507070,569408,630399,647599]],\"x\":[[\"1970 Population\",\"1980 Population\",\"1990 Population\",\"2000 Population\",\"2010 Population\",\"2015 Population\",\"2020 Population\",\"2022 Population\"]],\"type\":\"line\",\"fill\":\"tozeroy\"},[0]],\"label\":\"Luxembourg\",\"method\":\"restyle\",\"visible\":true},{\"args\":[{\"y\":[[247284,245332,350227,431896,557297,615239,676283,695168]],\"x\":[[\"1970 Population\",\"1980 Population\",\"1990 Population\",\"2000 Population\",\"2010 Population\",\"2015 Population\",\"2020 Population\",\"2022 Population\"]],\"type\":\"line\",\"fill\":\"tozeroy\"},[0]],\"label\":\"Macau\",\"method\":\"restyle\",\"visible\":true},{\"args\":[{\"y\":[[6639751,8948162,11882762,16216431,21731053,24850912,28225177,29611714]],\"x\":[[\"1970 Population\",\"1980 Population\",\"1990 Population\",\"2000 Population\",\"2010 Population\",\"2015 Population\",\"2020 Population\",\"2022 Population\"]],\"type\":\"line\",\"fill\":\"tozeroy\"},[0]],\"label\":\"Madagascar\",\"method\":\"restyle\",\"visible\":true},{\"args\":[{\"y\":[[4625141,6267369,9539665,11229387,14718422,16938942,19377061,20405317]],\"x\":[[\"1970 Population\",\"1980 Population\",\"1990 Population\",\"2000 Population\",\"2010 Population\",\"2015 Population\",\"2020 Population\",\"2022 Population\"]],\"type\":\"line\",\"fill\":\"tozeroy\"},[0]],\"label\":\"Malawi\",\"method\":\"restyle\",\"visible\":true},{\"args\":[{\"y\":[[10306508,13215707,17517054,22945150,28717731,31068833,33199993,33938221]],\"x\":[[\"1970 Population\",\"1980 Population\",\"1990 Population\",\"2000 Population\",\"2010 Population\",\"2015 Population\",\"2020 Population\",\"2022 Population\"]],\"type\":\"line\",\"fill\":\"tozeroy\"},[0]],\"label\":\"Malaysia\",\"method\":\"restyle\",\"visible\":true},{\"args\":[{\"y\":[[123243,164887,224957,282507,361575,435582,514438,523787]],\"x\":[[\"1970 Population\",\"1980 Population\",\"1990 Population\",\"2000 Population\",\"2010 Population\",\"2015 Population\",\"2020 Population\",\"2022 Population\"]],\"type\":\"line\",\"fill\":\"tozeroy\"},[0]],\"label\":\"Maldives\",\"method\":\"restyle\",\"visible\":true},{\"args\":[{\"y\":[[6153587,7372581,8945026,11239101,15529181,18112907,21224040,22593590]],\"x\":[[\"1970 Population\",\"1980 Population\",\"1990 Population\",\"2000 Population\",\"2010 Population\",\"2015 Population\",\"2020 Population\",\"2022 Population\"]],\"type\":\"line\",\"fill\":\"tozeroy\"},[0]],\"label\":\"Mali\",\"method\":\"restyle\",\"visible\":true},{\"args\":[{\"y\":[[315414,333587,365392,399212,418755,456579,515357,533286]],\"x\":[[\"1970 Population\",\"1980 Population\",\"1990 Population\",\"2000 Population\",\"2010 Population\",\"2015 Population\",\"2020 Population\",\"2022 Population\"]],\"type\":\"line\",\"fill\":\"tozeroy\"},[0]],\"label\":\"Malta\",\"method\":\"restyle\",\"visible\":true},{\"args\":[{\"y\":[[23969,31988,46047,54224,53416,49410,43413,41569]],\"x\":[[\"1970 Population\",\"1980 Population\",\"1990 Population\",\"2000 Population\",\"2010 Population\",\"2015 Population\",\"2020 Population\",\"2022 Population\"]],\"type\":\"line\",\"fill\":\"tozeroy\"},[0]],\"label\":\"Marshall Islands\",\"method\":\"restyle\",\"visible\":true},{\"args\":[{\"y\":[[326428,333786,374271,432543,392181,383515,370391,367507]],\"x\":[[\"1970 Population\",\"1980 Population\",\"1990 Population\",\"2000 Population\",\"2010 Population\",\"2015 Population\",\"2020 Population\",\"2022 Population\"]],\"type\":\"line\",\"fill\":\"tozeroy\"},[0]],\"label\":\"Martinique\",\"method\":\"restyle\",\"visible\":true},{\"args\":[{\"y\":[[1122198,1506694,2006027,2695003,3419461,3946220,4498604,4736139]],\"x\":[[\"1970 Population\",\"1980 Population\",\"1990 Population\",\"2000 Population\",\"2010 Population\",\"2015 Population\",\"2020 Population\",\"2022 Population\"]],\"type\":\"line\",\"fill\":\"tozeroy\"},[0]],\"label\":\"Mauritania\",\"method\":\"restyle\",\"visible\":true},{\"args\":[{\"y\":[[830115,954865,1090290,1215930,1283330,1293153,1297828,1299469]],\"x\":[[\"1970 Population\",\"1980 Population\",\"1990 Population\",\"2000 Population\",\"2010 Population\",\"2015 Population\",\"2020 Population\",\"2022 Population\"]],\"type\":\"line\",\"fill\":\"tozeroy\"},[0]],\"label\":\"Mauritius\",\"method\":\"restyle\",\"visible\":true},{\"args\":[{\"y\":[[35383,52233,92659,159215,211786,249545,305587,326101]],\"x\":[[\"1970 Population\",\"1980 Population\",\"1990 Population\",\"2000 Population\",\"2010 Population\",\"2015 Population\",\"2020 Population\",\"2022 Population\"]],\"type\":\"line\",\"fill\":\"tozeroy\"},[0]],\"label\":\"Mayotte\",\"method\":\"restyle\",\"visible\":true},{\"args\":[{\"y\":[[50289306,67705186,81720428,97873442,112532401,120149897,125998302,127504125]],\"x\":[[\"1970 Population\",\"1980 Population\",\"1990 Population\",\"2000 Population\",\"2010 Population\",\"2015 Population\",\"2020 Population\",\"2022 Population\"]],\"type\":\"line\",\"fill\":\"tozeroy\"},[0]],\"label\":\"Mexico\",\"method\":\"restyle\",\"visible\":true},{\"args\":[{\"y\":[[58989,76299,98603,111709,107588,109462,112106,114164]],\"x\":[[\"1970 Population\",\"1980 Population\",\"1990 Population\",\"2000 Population\",\"2010 Population\",\"2015 Population\",\"2020 Population\",\"2022 Population\"]],\"type\":\"line\",\"fill\":\"tozeroy\"},[0]],\"label\":\"Micronesia\",\"method\":\"restyle\",\"visible\":true},{\"args\":[{\"y\":[[3711140,4103240,4480199,4251573,3678186,3277388,3084847,3272996]],\"x\":[[\"1970 Population\",\"1980 Population\",\"1990 Population\",\"2000 Population\",\"2010 Population\",\"2015 Population\",\"2020 Population\",\"2022 Population\"]],\"type\":\"line\",\"fill\":\"tozeroy\"},[0]],\"label\":\"Moldova\",\"method\":\"restyle\",\"visible\":true},{\"args\":[{\"y\":[[24270,27076,30329,32465,33178,36760,36922,36469]],\"x\":[[\"1970 Population\",\"1980 Population\",\"1990 Population\",\"2000 Population\",\"2010 Population\",\"2015 Population\",\"2020 Population\",\"2022 Population\"]],\"type\":\"line\",\"fill\":\"tozeroy\"},[0]],\"label\":\"Monaco\",\"method\":\"restyle\",\"visible\":true},{\"args\":[{\"y\":[[1293880,1697780,2161433,2450979,2702520,2964749,3294335,3398366]],\"x\":[[\"1970 Population\",\"1980 Population\",\"1990 Population\",\"2000 Population\",\"2010 Population\",\"2015 Population\",\"2020 Population\",\"2022 Population\"]],\"type\":\"line\",\"fill\":\"tozeroy\"},[0]],\"label\":\"Mongolia\",\"method\":\"restyle\",\"visible\":true},{\"args\":[{\"y\":[[530268,589324,621442,633324,631044,633966,629048,627082]],\"x\":[[\"1970 Population\",\"1980 Population\",\"1990 Population\",\"2000 Population\",\"2010 Population\",\"2015 Population\",\"2020 Population\",\"2022 Population\"]],\"type\":\"line\",\"fill\":\"tozeroy\"},[0]],\"label\":\"Montenegro\",\"method\":\"restyle\",\"visible\":true},{\"args\":[{\"y\":[[11402,11452,10805,5138,4938,5059,4500,4390]],\"x\":[[\"1970 Population\",\"1980 Population\",\"1990 Population\",\"2000 Population\",\"2010 Population\",\"2015 Population\",\"2020 Population\",\"2022 Population\"]],\"type\":\"line\",\"fill\":\"tozeroy\"},[0]],\"label\":\"Montserrat\",\"method\":\"restyle\",\"visible\":true},{\"args\":[{\"y\":[[15274351,19678444,24570814,28554415,32464865,34680458,36688772,37457971]],\"x\":[[\"1970 Population\",\"1980 Population\",\"1990 Population\",\"2000 Population\",\"2010 Population\",\"2015 Population\",\"2020 Population\",\"2022 Population\"]],\"type\":\"line\",\"fill\":\"tozeroy\"},[0]],\"label\":\"Morocco\",\"method\":\"restyle\",\"visible\":true},{\"args\":[{\"y\":[[8411676,11413587,13303459,17768505,23073723,26843246,31178239,32969517]],\"x\":[[\"1970 Population\",\"1980 Population\",\"1990 Population\",\"2000 Population\",\"2010 Population\",\"2015 Population\",\"2020 Population\",\"2022 Population\"]],\"type\":\"line\",\"fill\":\"tozeroy\"},[0]],\"label\":\"Mozambique\",\"method\":\"restyle\",\"visible\":true},{\"args\":[{\"y\":[[27284112,33465781,40099553,45538332,49390988,51483949,53423198,54179306]],\"x\":[[\"1970 Population\",\"1980 Population\",\"1990 Population\",\"2000 Population\",\"2010 Population\",\"2015 Population\",\"2020 Population\",\"2022 Population\"]],\"type\":\"line\",\"fill\":\"tozeroy\"},[0]],\"label\":\"Myanmar\",\"method\":\"restyle\",\"visible\":true},{\"args\":[{\"y\":[[754467,975994,1369011,1819141,2099271,2282704,2489098,2567012]],\"x\":[[\"1970 Population\",\"1980 Population\",\"1990 Population\",\"2000 Population\",\"2010 Population\",\"2015 Population\",\"2020 Population\",\"2022 Population\"]],\"type\":\"line\",\"fill\":\"tozeroy\"},[0]],\"label\":\"Namibia\",\"method\":\"restyle\",\"visible\":true},{\"args\":[{\"y\":[[6663,7635,9598,10377,10241,11185,12315,12668]],\"x\":[[\"1970 Population\",\"1980 Population\",\"1990 Population\",\"2000 Population\",\"2010 Population\",\"2015 Population\",\"2020 Population\",\"2022 Population\"]],\"type\":\"line\",\"fill\":\"tozeroy\"},[0]],\"label\":\"Nauru\",\"method\":\"restyle\",\"visible\":true},{\"args\":[{\"y\":[[12501285,15600442,19616530,24559500,27161567,27610325,29348627,30547580]],\"x\":[[\"1970 Population\",\"1980 Population\",\"1990 Population\",\"2000 Population\",\"2010 Population\",\"2015 Population\",\"2020 Population\",\"2022 Population\"]],\"type\":\"line\",\"fill\":\"tozeroy\"},[0]],\"label\":\"Nepal\",\"method\":\"restyle\",\"visible\":true},{\"args\":[{\"y\":[[13037686,14130387,14944548,15899135,16617116,17041107,17434557,17564014]],\"x\":[[\"1970 Population\",\"1980 Population\",\"1990 Population\",\"2000 Population\",\"2010 Population\",\"2015 Population\",\"2020 Population\",\"2022 Population\"]],\"type\":\"line\",\"fill\":\"tozeroy\"},[0]],\"label\":\"Netherlands\",\"method\":\"restyle\",\"visible\":true},{\"args\":[{\"y\":[[110982,148599,177264,221537,261426,283032,286403,289950]],\"x\":[[\"1970 Population\",\"1980 Population\",\"1990 Population\",\"2000 Population\",\"2010 Population\",\"2015 Population\",\"2020 Population\",\"2022 Population\"]],\"type\":\"line\",\"fill\":\"tozeroy\"},[0]],\"label\":\"New Caledonia\",\"method\":\"restyle\",\"visible\":true},{\"args\":[{\"y\":[[2824061,3147168,3397389,3855266,4346338,4590590,5061133,5185288]],\"x\":[[\"1970 Population\",\"1980 Population\",\"1990 Population\",\"2000 Population\",\"2010 Population\",\"2015 Population\",\"2020 Population\",\"2022 Population\"]],\"type\":\"line\",\"fill\":\"tozeroy\"},[0]],\"label\":\"New Zealand\",\"method\":\"restyle\",\"visible\":true},{\"args\":[{\"y\":[[2444767,3303309,4227820,5123222,5855734,6298598,6755895,6948392]],\"x\":[[\"1970 Population\",\"1980 Population\",\"1990 Population\",\"2000 Population\",\"2010 Population\",\"2015 Population\",\"2020 Population\",\"2022 Population\"]],\"type\":\"line\",\"fill\":\"tozeroy\"},[0]],\"label\":\"Nicaragua\",\"method\":\"restyle\",\"visible\":true},{\"args\":[{\"y\":[[4669708,6173177,8370647,11622665,16647543,20128124,24333639,26207977]],\"x\":[[\"1970 Population\",\"1980 Population\",\"1990 Population\",\"2000 Population\",\"2010 Population\",\"2015 Population\",\"2020 Population\",\"2022 Population\"]],\"type\":\"line\",\"fill\":\"tozeroy\"},[0]],\"label\":\"Niger\",\"method\":\"restyle\",\"visible\":true},{\"args\":[{\"y\":[[55569264,72951439,95214257,122851984,160952853,183995785,208327405,218541212]],\"x\":[[\"1970 Population\",\"1980 Population\",\"1990 Population\",\"2000 Population\",\"2010 Population\",\"2015 Population\",\"2020 Population\",\"2022 Population\"]],\"type\":\"line\",\"fill\":\"tozeroy\"},[0]],\"label\":\"Nigeria\",\"method\":\"restyle\",\"visible\":true},{\"args\":[{\"y\":[[5185,3637,2533,2074,1812,1847,1942,1934]],\"x\":[[\"1970 Population\",\"1980 Population\",\"1990 Population\",\"2000 Population\",\"2010 Population\",\"2015 Population\",\"2020 Population\",\"2022 Population\"]],\"type\":\"line\",\"fill\":\"tozeroy\"},[0]],\"label\":\"Niue\",\"method\":\"restyle\",\"visible\":true},{\"args\":[{\"y\":[[14996879,17973650,20799523,23367059,24686435,25258015,25867467,26069416]],\"x\":[[\"1970 Population\",\"1980 Population\",\"1990 Population\",\"2000 Population\",\"2010 Population\",\"2015 Population\",\"2020 Population\",\"2022 Population\"]],\"type\":\"line\",\"fill\":\"tozeroy\"},[0]],\"label\":\"North Korea\",\"method\":\"restyle\",\"visible\":true},{\"args\":[{\"y\":[[1656783,1907023,2044174,2037936,2093828,2107962,2111072,2093599]],\"x\":[[\"1970 Population\",\"1980 Population\",\"1990 Population\",\"2000 Population\",\"2010 Population\",\"2015 Population\",\"2020 Population\",\"2022 Population\"]],\"type\":\"line\",\"fill\":\"tozeroy\"},[0]],\"label\":\"North Macedonia\",\"method\":\"restyle\",\"visible\":true},{\"args\":[{\"y\":[[10143,17613,48002,80338,54087,51514,49587,49551]],\"x\":[[\"1970 Population\",\"1980 Population\",\"1990 Population\",\"2000 Population\",\"2010 Population\",\"2015 Population\",\"2020 Population\",\"2022 Population\"]],\"type\":\"line\",\"fill\":\"tozeroy\"},[0]],\"label\":\"Northern Mariana Islands\",\"method\":\"restyle\",\"visible\":true},{\"args\":[{\"y\":[[3875546,4085776,4241636,4491202,4889741,5190356,5379839,5434319]],\"x\":[[\"1970 Population\",\"1980 Population\",\"1990 Population\",\"2000 Population\",\"2010 Population\",\"2015 Population\",\"2020 Population\",\"2022 Population\"]],\"type\":\"line\",\"fill\":\"tozeroy\"},[0]],\"label\":\"Norway\",\"method\":\"restyle\",\"visible\":true},{\"args\":[{\"y\":[[670693,1017462,1804524,2344253,2881914,4191776,4543399,4576298]],\"x\":[[\"1970 Population\",\"1980 Population\",\"1990 Population\",\"2000 Population\",\"2010 Population\",\"2015 Population\",\"2020 Population\",\"2022 Population\"]],\"type\":\"line\",\"fill\":\"tozeroy\"},[0]],\"label\":\"Oman\",\"method\":\"restyle\",\"visible\":true},{\"args\":[{\"y\":[[59290872,80624057,115414069,154369924,194454498,210969298,227196741,235824862]],\"x\":[[\"1970 Population\",\"1980 Population\",\"1990 Population\",\"2000 Population\",\"2010 Population\",\"2015 Population\",\"2020 Population\",\"2022 Population\"]],\"type\":\"line\",\"fill\":\"tozeroy\"},[0]],\"label\":\"Pakistan\",\"method\":\"restyle\",\"visible\":true},{\"args\":[{\"y\":[[11366,12252,15293,19726,18540,17794,17972,18055]],\"x\":[[\"1970 Population\",\"1980 Population\",\"1990 Population\",\"2000 Population\",\"2010 Population\",\"2015 Population\",\"2020 Population\",\"2022 Population\"]],\"type\":\"line\",\"fill\":\"tozeroy\"},[0]],\"label\":\"Palau\",\"method\":\"restyle\",\"visible\":true},{\"args\":[{\"y\":[[1118241,1453620,2124609,3139954,3992278,4484614,5019401,5250072]],\"x\":[[\"1970 Population\",\"1980 Population\",\"1990 Population\",\"2000 Population\",\"2010 Population\",\"2015 Population\",\"2020 Population\",\"2022 Population\"]],\"type\":\"line\",\"fill\":\"tozeroy\"},[0]],\"label\":\"Palestine\",\"method\":\"restyle\",\"visible\":true},{\"args\":[{\"y\":[[1516188,1956987,2449968,3001731,3623617,3957099,4294396,4408581]],\"x\":[[\"1970 Population\",\"1980 Population\",\"1990 Population\",\"2000 Population\",\"2010 Population\",\"2015 Population\",\"2020 Population\",\"2022 Population\"]],\"type\":\"line\",\"fill\":\"tozeroy\"},[0]],\"label\":\"Panama\",\"method\":\"restyle\",\"visible\":true},{\"args\":[{\"y\":[[2489059,3104788,3864972,5508297,7583269,8682174,9749640,10142619]],\"x\":[[\"1970 Population\",\"1980 Population\",\"1990 Population\",\"2000 Population\",\"2010 Population\",\"2015 Population\",\"2020 Population\",\"2022 Population\"]],\"type\":\"line\",\"fill\":\"tozeroy\"},[0]],\"label\":\"Papua New Guinea\",\"method\":\"restyle\",\"visible\":true},{\"args\":[{\"y\":[[2408787,3078912,4059195,5123819,5768613,6177950,6618695,6780744]],\"x\":[[\"1970 Population\",\"1980 Population\",\"1990 Population\",\"2000 Population\",\"2010 Population\",\"2015 Population\",\"2020 Population\",\"2022 Population\"]],\"type\":\"line\",\"fill\":\"tozeroy\"},[0]],\"label\":\"Paraguay\",\"method\":\"restyle\",\"visible\":true},{\"args\":[{\"y\":[[13562371,17492406,22109099,26654439,29229572,30711863,33304756,34049588]],\"x\":[[\"1970 Population\",\"1980 Population\",\"1990 Population\",\"2000 Population\",\"2010 Population\",\"2015 Population\",\"2020 Population\",\"2022 Population\"]],\"type\":\"line\",\"fill\":\"tozeroy\"},[0]],\"label\":\"Peru\",\"method\":\"restyle\",\"visible\":true},{\"args\":[{\"y\":[[37435586,48419546,61558898,77958223,94636700,103031365,112190977,115559009]],\"x\":[[\"1970 Population\",\"1980 Population\",\"1990 Population\",\"2000 Population\",\"2010 Population\",\"2015 Population\",\"2020 Population\",\"2022 Population\"]],\"type\":\"line\",\"fill\":\"tozeroy\"},[0]],\"label\":\"Philippines\",\"method\":\"restyle\",\"visible\":true},{\"args\":[{\"y\":[[32482943,35521429,38064255,38504431,38597353,38553146,38428366,39857145]],\"x\":[[\"1970 Population\",\"1980 Population\",\"1990 Population\",\"2000 Population\",\"2010 Population\",\"2015 Population\",\"2020 Population\",\"2022 Population\"]],\"type\":\"line\",\"fill\":\"tozeroy\"},[0]],\"label\":\"Poland\",\"method\":\"restyle\",\"visible\":true},{\"args\":[{\"y\":[[8683631,9785252,10007346,10300626,10588401,10365435,10298192,10270865]],\"x\":[[\"1970 Population\",\"1980 Population\",\"1990 Population\",\"2000 Population\",\"2010 Population\",\"2015 Population\",\"2020 Population\",\"2022 Population\"]],\"type\":\"line\",\"fill\":\"tozeroy\"},[0]],\"label\":\"Portugal\",\"method\":\"restyle\",\"visible\":true},{\"args\":[{\"y\":[[2737619,3214568,3543776,3827108,3717922,3497335,3271564,3252407]],\"x\":[[\"1970 Population\",\"1980 Population\",\"1990 Population\",\"2000 Population\",\"2010 Population\",\"2015 Population\",\"2020 Population\",\"2022 Population\"]],\"type\":\"line\",\"fill\":\"tozeroy\"},[0]],\"label\":\"Puerto Rico\",\"method\":\"restyle\",\"visible\":true},{\"args\":[{\"y\":[[118007,277450,441675,645937,1713504,2414573,2760385,2695122]],\"x\":[[\"1970 Population\",\"1980 Population\",\"1990 Population\",\"2000 Population\",\"2010 Population\",\"2015 Population\",\"2020 Population\",\"2022 Population\"]],\"type\":\"line\",\"fill\":\"tozeroy\"},[0]],\"label\":\"Qatar\",\"method\":\"restyle\",\"visible\":true},{\"args\":[{\"y\":[[1396989,1829256,2385435,3134030,4437884,5064386,5702174,5970424]],\"x\":[[\"1970 Population\",\"1980 Population\",\"1990 Population\",\"2000 Population\",\"2010 Population\",\"2015 Population\",\"2020 Population\",\"2022 Population\"]],\"type\":\"line\",\"fill\":\"tozeroy\"},[0]],\"label\":\"Republic of the Congo\",\"method\":\"restyle\",\"visible\":true},{\"args\":[{\"y\":[[473925,551674,658992,785424,890130,922495,957822,974052]],\"x\":[[\"1970 Population\",\"1980 Population\",\"1990 Population\",\"2000 Population\",\"2010 Population\",\"2015 Population\",\"2020 Population\",\"2022 Population\"]],\"type\":\"line\",\"fill\":\"tozeroy\"},[0]],\"label\":\"Reunion\",\"method\":\"restyle\",\"visible\":true},{\"args\":[{\"y\":[[19922618,22125224,22836234,21919876,20335211,19906079,19442038,19659267]],\"x\":[[\"1970 Population\",\"1980 Population\",\"1990 Population\",\"2000 Population\",\"2010 Population\",\"2015 Population\",\"2020 Population\",\"2022 Population\"]],\"type\":\"line\",\"fill\":\"tozeroy\"},[0]],\"label\":\"Romania\",\"method\":\"restyle\",\"visible\":true},{\"args\":[{\"y\":[[130093010,138257420,148005704,146844839,143242599,144668389,145617329,144713314]],\"x\":[[\"1970 Population\",\"1980 Population\",\"1990 Population\",\"2000 Population\",\"2010 Population\",\"2015 Population\",\"2020 Population\",\"2022 Population\"]],\"type\":\"line\",\"fill\":\"tozeroy\"},[0]],\"label\":\"Russia\",\"method\":\"restyle\",\"visible\":true},{\"args\":[{\"y\":[[3896367,5247532,7319962,8109989,10309031,11642959,13146362,13776698]],\"x\":[[\"1970 Population\",\"1980 Population\",\"1990 Population\",\"2000 Population\",\"2010 Population\",\"2015 Population\",\"2020 Population\",\"2022 Population\"]],\"type\":\"line\",\"fill\":\"tozeroy\"},[0]],\"label\":\"Rwanda\",\"method\":\"restyle\",\"visible\":true},{\"args\":[{\"y\":[[2417,2983,5168,7082,8988,9643,10681,10967]],\"x\":[[\"1970 Population\",\"1980 Population\",\"1990 Population\",\"2000 Population\",\"2010 Population\",\"2015 Population\",\"2020 Population\",\"2022 Population\"]],\"type\":\"line\",\"fill\":\"tozeroy\"},[0]],\"label\":\"Saint Barthelemy\",\"method\":\"restyle\",\"visible\":true},{\"args\":[{\"y\":[[44968,43097,40636,45461,47403,47790,47642,47657]],\"x\":[[\"1970 Population\",\"1980 Population\",\"1990 Population\",\"2000 Population\",\"2010 Population\",\"2015 Population\",\"2020 Population\",\"2022 Population\"]],\"type\":\"line\",\"fill\":\"tozeroy\"},[0]],\"label\":\"Saint Kitts and Nevis\",\"method\":\"restyle\",\"visible\":true},{\"args\":[{\"y\":[[103090,121633,142301,159500,170935,175623,179237,179857]],\"x\":[[\"1970 Population\",\"1980 Population\",\"1990 Population\",\"2000 Population\",\"2010 Population\",\"2015 Population\",\"2020 Population\",\"2022 Population\"]],\"type\":\"line\",\"fill\":\"tozeroy\"},[0]],\"label\":\"Saint Lucia\",\"method\":\"restyle\",\"visible\":true},{\"args\":[{\"y\":[[5802,7776,28127,29610,36458,35020,32552,31791]],\"x\":[[\"1970 Population\",\"1980 Population\",\"1990 Population\",\"2000 Population\",\"2010 Population\",\"2015 Population\",\"2020 Population\",\"2022 Population\"]],\"type\":\"line\",\"fill\":\"tozeroy\"},[0]],\"label\":\"Saint Martin\",\"method\":\"restyle\",\"visible\":true},{\"args\":[{\"y\":[[5537,6106,6324,6274,6052,5978,5906,5862]],\"x\":[[\"1970 Population\",\"1980 Population\",\"1990 Population\",\"2000 Population\",\"2010 Population\",\"2015 Population\",\"2020 Population\",\"2022 Population\"]],\"type\":\"line\",\"fill\":\"tozeroy\"},[0]],\"label\":\"Saint Pierre and Miquelon\",\"method\":\"restyle\",\"visible\":true},{\"args\":[{\"y\":[[98459,107480,112487,113813,109308,106482,104632,103948]],\"x\":[[\"1970 Population\",\"1980 Population\",\"1990 Population\",\"2000 Population\",\"2010 Population\",\"2015 Population\",\"2020 Population\",\"2022 Population\"]],\"type\":\"line\",\"fill\":\"tozeroy\"},[0]],\"label\":\"Saint Vincent and the Grenadines\",\"method\":\"restyle\",\"visible\":true},{\"args\":[{\"y\":[[142771,164905,168186,184008,194672,203571,214929,222382]],\"x\":[[\"1970 Population\",\"1980 Population\",\"1990 Population\",\"2000 Population\",\"2010 Population\",\"2015 Population\",\"2020 Population\",\"2022 Population\"]],\"type\":\"line\",\"fill\":\"tozeroy\"},[0]],\"label\":\"Samoa\",\"method\":\"restyle\",\"visible\":true},{\"args\":[{\"y\":[[18169,21346,23132,26823,31608,33570,34007,33660]],\"x\":[[\"1970 Population\",\"1980 Population\",\"1990 Population\",\"2000 Population\",\"2010 Population\",\"2015 Population\",\"2020 Population\",\"2022 Population\"]],\"type\":\"line\",\"fill\":\"tozeroy\"},[0]],\"label\":\"San Marino\",\"method\":\"restyle\",\"visible\":true},{\"args\":[{\"y\":[[77583,97210,120343,143714,182138,201124,218641,227380]],\"x\":[[\"1970 Population\",\"1980 Population\",\"1990 Population\",\"2000 Population\",\"2010 Population\",\"2015 Population\",\"2020 Population\",\"2022 Population\"]],\"type\":\"line\",\"fill\":\"tozeroy\"},[0]],\"label\":\"Sao Tome and Principe\",\"method\":\"restyle\",\"visible\":true},{\"args\":[{\"y\":[[6106191,10171710,16004763,21547390,29411929,32749848,35997107,36408820]],\"x\":[[\"1970 Population\",\"1980 Population\",\"1990 Population\",\"2000 Population\",\"2010 Population\",\"2015 Population\",\"2020 Population\",\"2022 Population\"]],\"type\":\"line\",\"fill\":\"tozeroy\"},[0]],\"label\":\"Saudi Arabia\",\"method\":\"restyle\",\"visible\":true},{\"args\":[{\"y\":[[4367744,5703869,7536001,9704287,12530121,14356181,16436119,17316449]],\"x\":[[\"1970 Population\",\"1980 Population\",\"1990 Population\",\"2000 Population\",\"2010 Population\",\"2015 Population\",\"2020 Population\",\"2022 Population\"]],\"type\":\"line\",\"fill\":\"tozeroy\"},[0]],\"label\":\"Senegal\",\"method\":\"restyle\",\"visible\":true},{\"args\":[{\"y\":[[7193533,7777010,7987529,7935022,7653748,7519496,7358005,7221365]],\"x\":[[\"1970 Population\",\"1980 Population\",\"1990 Population\",\"2000 Population\",\"2010 Population\",\"2015 Population\",\"2020 Population\",\"2022 Population\"]],\"type\":\"line\",\"fill\":\"tozeroy\"},[0]],\"label\":\"Serbia\",\"method\":\"restyle\",\"visible\":true},{\"args\":[{\"y\":[[54379,65290,71057,80060,92409,99240,105530,107118]],\"x\":[[\"1970 Population\",\"1980 Population\",\"1990 Population\",\"2000 Population\",\"2010 Population\",\"2015 Population\",\"2020 Population\",\"2022 Population\"]],\"type\":\"line\",\"fill\":\"tozeroy\"},[0]],\"label\":\"Seychelles\",\"method\":\"restyle\",\"visible\":true},{\"args\":[{\"y\":[[2778557,3367477,4325388,4584067,6436698,7314773,8233969,8605718]],\"x\":[[\"1970 Population\",\"1980 Population\",\"1990 Population\",\"2000 Population\",\"2010 Population\",\"2015 Population\",\"2020 Population\",\"2022 Population\"]],\"type\":\"line\",\"fill\":\"tozeroy\"},[0]],\"label\":\"Sierra Leone\",\"method\":\"restyle\",\"visible\":true},{\"args\":[{\"y\":[[2061831,2400729,3022209,4053602,5163590,5650018,5909869,5975689]],\"x\":[[\"1970 Population\",\"1980 Population\",\"1990 Population\",\"2000 Population\",\"2010 Population\",\"2015 Population\",\"2020 Population\",\"2022 Population\"]],\"type\":\"line\",\"fill\":\"tozeroy\"},[0]],\"label\":\"Singapore\",\"method\":\"restyle\",\"visible\":true},{\"args\":[{\"y\":[[6260,12243,27845,30489,33034,40205,43621,44175]],\"x\":[[\"1970 Population\",\"1980 Population\",\"1990 Population\",\"2000 Population\",\"2010 Population\",\"2015 Population\",\"2020 Population\",\"2022 Population\"]],\"type\":\"line\",\"fill\":\"tozeroy\"},[0]],\"label\":\"Sint Maarten\",\"method\":\"restyle\",\"visible\":true},{\"args\":[{\"y\":[[4522867,4973883,5261305,5376690,5396424,5424444,5456681,5643453]],\"x\":[[\"1970 Population\",\"1980 Population\",\"1990 Population\",\"2000 Population\",\"2010 Population\",\"2015 Population\",\"2020 Population\",\"2022 Population\"]],\"type\":\"line\",\"fill\":\"tozeroy\"},[0]],\"label\":\"Slovakia\",\"method\":\"restyle\",\"visible\":true},{\"args\":[{\"y\":[[1741286,1901570,1986024,1984339,2057286,2080862,2117641,2119844]],\"x\":[[\"1970 Population\",\"1980 Population\",\"1990 Population\",\"2000 Population\",\"2010 Population\",\"2015 Population\",\"2020 Population\",\"2022 Population\"]],\"type\":\"line\",\"fill\":\"tozeroy\"},[0]],\"label\":\"Slovenia\",\"method\":\"restyle\",\"visible\":true},{\"args\":[{\"y\":[[172833,233668,324171,429978,540394,612660,691191,724273]],\"x\":[[\"1970 Population\",\"1980 Population\",\"1990 Population\",\"2000 Population\",\"2010 Population\",\"2015 Population\",\"2020 Population\",\"2022 Population\"]],\"type\":\"line\",\"fill\":\"tozeroy\"},[0]],\"label\":\"Solomon Islands\",\"method\":\"restyle\",\"visible\":true},{\"args\":[{\"y\":[[3720977,5892224,6999096,8721465,12026649,13763906,16537016,17597511]],\"x\":[[\"1970 Population\",\"1980 Population\",\"1990 Population\",\"2000 Population\",\"2010 Population\",\"2015 Population\",\"2020 Population\",\"2022 Population\"]],\"type\":\"line\",\"fill\":\"tozeroy\"},[0]],\"label\":\"Somalia\",\"method\":\"restyle\",\"visible\":true},{\"args\":[{\"y\":[[22368306,29463549,39877570,46813266,51784921,55876504,58801927,59893885]],\"x\":[[\"1970 Population\",\"1980 Population\",\"1990 Population\",\"2000 Population\",\"2010 Population\",\"2015 Population\",\"2020 Population\",\"2022 Population\"]],\"type\":\"line\",\"fill\":\"tozeroy\"},[0]],\"label\":\"South Africa\",\"method\":\"restyle\",\"visible\":true},{\"args\":[{\"y\":[[32601143,38170501,44120039,46788591,48813042,50994401,51844690,51815810]],\"x\":[[\"1970 Population\",\"1980 Population\",\"1990 Population\",\"2000 Population\",\"2010 Population\",\"2015 Population\",\"2020 Population\",\"2022 Population\"]],\"type\":\"line\",\"fill\":\"tozeroy\"},[0]],\"label\":\"South Korea\",\"method\":\"restyle\",\"visible\":true},{\"args\":[{\"y\":[[3342410,4192011,4750817,6114440,9714419,11194299,10606227,10913164]],\"x\":[[\"1970 Population\",\"1980 Population\",\"1990 Population\",\"2000 Population\",\"2010 Population\",\"2015 Population\",\"2020 Population\",\"2022 Population\"]],\"type\":\"line\",\"fill\":\"tozeroy\"},[0]],\"label\":\"South Sudan\",\"method\":\"restyle\",\"visible\":true},{\"args\":[{\"y\":[[33792617,37491666,38889889,40741651,46572772,46431342,47363807,47558630]],\"x\":[[\"1970 Population\",\"1980 Population\",\"1990 Population\",\"2000 Population\",\"2010 Population\",\"2015 Population\",\"2020 Population\",\"2022 Population\"]],\"type\":\"line\",\"fill\":\"tozeroy\"},[0]],\"label\":\"Spain\",\"method\":\"restyle\",\"visible\":true},{\"args\":[{\"y\":[[12388769,14943645,17204094,18776371,20668557,21336697,21715079,21832143]],\"x\":[[\"1970 Population\",\"1980 Population\",\"1990 Population\",\"2000 Population\",\"2010 Population\",\"2015 Population\",\"2020 Population\",\"2022 Population\"]],\"type\":\"line\",\"fill\":\"tozeroy\"},[0]],\"label\":\"Sri Lanka\",\"method\":\"restyle\",\"visible\":true},{\"args\":[{\"y\":[[11305206,16673586,21090886,26298773,33739933,38171178,44440486,46874204]],\"x\":[[\"1970 Population\",\"1980 Population\",\"1990 Population\",\"2000 Population\",\"2010 Population\",\"2015 Population\",\"2020 Population\",\"2022 Population\"]],\"type\":\"line\",\"fill\":\"tozeroy\"},[0]],\"label\":\"Sudan\",\"method\":\"restyle\",\"visible\":true},{\"args\":[{\"y\":[[379918,375112,412756,478998,546080,575475,607065,618040]],\"x\":[[\"1970 Population\",\"1980 Population\",\"1990 Population\",\"2000 Population\",\"2010 Population\",\"2015 Population\",\"2020 Population\",\"2022 Population\"]],\"type\":\"line\",\"fill\":\"tozeroy\"},[0]],\"label\":\"Suriname\",\"method\":\"restyle\",\"visible\":true},{\"args\":[{\"y\":[[8027702,8311763,8548406,8871043,9381729,9849349,10368969,10549347]],\"x\":[[\"1970 Population\",\"1980 Population\",\"1990 Population\",\"2000 Population\",\"2010 Population\",\"2015 Population\",\"2020 Population\",\"2022 Population\"]],\"type\":\"line\",\"fill\":\"tozeroy\"},[0]],\"label\":\"Sweden\",\"method\":\"restyle\",\"visible\":true},{\"args\":[{\"y\":[[6181227,6319113,6711693,7182059,7822435,8281732,8638613,8740472]],\"x\":[[\"1970 Population\",\"1980 Population\",\"1990 Population\",\"2000 Population\",\"2010 Population\",\"2015 Population\",\"2020 Population\",\"2022 Population\"]],\"type\":\"line\",\"fill\":\"tozeroy\"},[0]],\"label\":\"Switzerland\",\"method\":\"restyle\",\"visible\":true},{\"args\":[{\"y\":[[6319199,8898954,12408996,16307654,22337563,19205178,20772595,22125249]],\"x\":[[\"1970 Population\",\"1980 Population\",\"1990 Population\",\"2000 Population\",\"2010 Population\",\"2015 Population\",\"2020 Population\",\"2022 Population\"]],\"type\":\"line\",\"fill\":\"tozeroy\"},[0]],\"label\":\"Syria\",\"method\":\"restyle\",\"visible\":true},{\"args\":[{\"y\":[[14957870,18100281,20586174,22194731,23083083,23512136,23821464,23893394]],\"x\":[[\"1970 Population\",\"1980 Population\",\"1990 Population\",\"2000 Population\",\"2010 Population\",\"2015 Population\",\"2020 Population\",\"2022 Population\"]],\"type\":\"line\",\"fill\":\"tozeroy\"},[0]],\"label\":\"Taiwan\",\"method\":\"restyle\",\"visible\":true},{\"args\":[{\"y\":[[2993019,4045965,5417860,6272998,7621779,8524063,9543207,9952787]],\"x\":[[\"1970 Population\",\"1980 Population\",\"1990 Population\",\"2000 Population\",\"2010 Population\",\"2015 Population\",\"2020 Population\",\"2022 Population\"]],\"type\":\"line\",\"fill\":\"tozeroy\"},[0]],\"label\":\"Tajikistan\",\"method\":\"restyle\",\"visible\":true},{\"args\":[{\"y\":[[13618192,19297659,26206012,34463704,45110527,52542823,61704518,65497748]],\"x\":[[\"1970 Population\",\"1980 Population\",\"1990 Population\",\"2000 Population\",\"2010 Population\",\"2015 Population\",\"2020 Population\",\"2022 Population\"]],\"type\":\"line\",\"fill\":\"tozeroy\"},[0]],\"label\":\"Tanzania\",\"method\":\"restyle\",\"visible\":true},{\"args\":[{\"y\":[[35791728,45737753,55228410,63066603,68270489,70294397,71475664,71697030]],\"x\":[[\"1970 Population\",\"1980 Population\",\"1990 Population\",\"2000 Population\",\"2010 Population\",\"2015 Population\",\"2020 Population\",\"2022 Population\"]],\"type\":\"line\",\"fill\":\"tozeroy\"},[0]],\"label\":\"Thailand\",\"method\":\"restyle\",\"visible\":true},{\"args\":[{\"y\":[[554021,642224,758106,878360,1088486,1205813,1299995,1341296]],\"x\":[[\"1970 Population\",\"1980 Population\",\"1990 Population\",\"2000 Population\",\"2010 Population\",\"2015 Population\",\"2020 Population\",\"2022 Population\"]],\"type\":\"line\",\"fill\":\"tozeroy\"},[0]],\"label\":\"Timor-Leste\",\"method\":\"restyle\",\"visible\":true},{\"args\":[{\"y\":[[2197383,2838110,3875947,5008035,6571855,7473229,8442580,8848699]],\"x\":[[\"1970 Population\",\"1980 Population\",\"1990 Population\",\"2000 Population\",\"2010 Population\",\"2015 Population\",\"2020 Population\",\"2022 Population\"]],\"type\":\"line\",\"fill\":\"tozeroy\"},[0]],\"label\":\"Togo\",\"method\":\"restyle\",\"visible\":true},{\"args\":[{\"y\":[[1714,1647,1669,1666,1367,1454,1827,1871]],\"x\":[[\"1970 Population\",\"1980 Population\",\"1990 Population\",\"2000 Population\",\"2010 Population\",\"2015 Population\",\"2020 Population\",\"2022 Population\"]],\"type\":\"line\",\"fill\":\"tozeroy\"},[0]],\"label\":\"Tokelau\",\"method\":\"restyle\",\"visible\":true},{\"args\":[{\"y\":[[86484,96708,98727,102603,107383,106122,105254,106858]],\"x\":[[\"1970 Population\",\"1980 Population\",\"1990 Population\",\"2000 Population\",\"2010 Population\",\"2015 Population\",\"2020 Population\",\"2022 Population\"]],\"type\":\"line\",\"fill\":\"tozeroy\"},[0]],\"label\":\"Tonga\",\"method\":\"restyle\",\"visible\":true},{\"args\":[{\"y\":[[988890,1127852,1266518,1332203,1410296,1460177,1518147,1531044]],\"x\":[[\"1970 Population\",\"1980 Population\",\"1990 Population\",\"2000 Population\",\"2010 Population\",\"2015 Population\",\"2020 Population\",\"2022 Population\"]],\"type\":\"line\",\"fill\":\"tozeroy\"},[0]],\"label\":\"Trinidad and Tobago\",\"method\":\"restyle\",\"visible\":true},{\"args\":[{\"y\":[[5047404,6578156,8440023,9893316,10895063,11557779,12161723,12356117]],\"x\":[[\"1970 Population\",\"1980 Population\",\"1990 Population\",\"2000 Population\",\"2010 Population\",\"2015 Population\",\"2020 Population\",\"2022 Population\"]],\"type\":\"line\",\"fill\":\"tozeroy\"},[0]],\"label\":\"Tunisia\",\"method\":\"restyle\",\"visible\":true},{\"args\":[{\"y\":[[35540990,44089069,54324142,64113547,73195345,79646178,84135428,85341241]],\"x\":[[\"1970 Population\",\"1980 Population\",\"1990 Population\",\"2000 Population\",\"2010 Population\",\"2015 Population\",\"2020 Population\",\"2022 Population\"]],\"type\":\"line\",\"fill\":\"tozeroy\"},[0]],\"label\":\"Turkey\",\"method\":\"restyle\",\"visible\":true},{\"args\":[{\"y\":[[2201432,2862903,3720278,4569132,5267970,5766431,6250438,6430770]],\"x\":[[\"1970 Population\",\"1980 Population\",\"1990 Population\",\"2000 Population\",\"2010 Population\",\"2015 Population\",\"2020 Population\",\"2022 Population\"]],\"type\":\"line\",\"fill\":\"tozeroy\"},[0]],\"label\":\"Turkmenistan\",\"method\":\"restyle\",\"visible\":true},{\"args\":[{\"y\":[[5665,7598,11709,18744,29726,36538,44276,45703]],\"x\":[[\"1970 Population\",\"1980 Population\",\"1990 Population\",\"2000 Population\",\"2010 Population\",\"2015 Population\",\"2020 Population\",\"2022 Population\"]],\"type\":\"line\",\"fill\":\"tozeroy\"},[0]],\"label\":\"Turks and Caicos Islands\",\"method\":\"restyle\",\"visible\":true},{\"args\":[{\"y\":[[5814,7731,9182,9638,10550,10877,11069,11312]],\"x\":[[\"1970 Population\",\"1980 Population\",\"1990 Population\",\"2000 Population\",\"2010 Population\",\"2015 Population\",\"2020 Population\",\"2022 Population\"]],\"type\":\"line\",\"fill\":\"tozeroy\"},[0]],\"label\":\"Tuvalu\",\"method\":\"restyle\",\"visible\":true},{\"args\":[{\"y\":[[10317212,13284026,17586630,24020697,32341728,37477356,44404611,47249585]],\"x\":[[\"1970 Population\",\"1980 Population\",\"1990 Population\",\"2000 Population\",\"2010 Population\",\"2015 Population\",\"2020 Population\",\"2022 Population\"]],\"type\":\"line\",\"fill\":\"tozeroy\"},[0]],\"label\":\"Uganda\",\"method\":\"restyle\",\"visible\":true},{\"args\":[{\"y\":[[47279086,49973920,51589817,48879755,45683020,44982564,43909666,39701739]],\"x\":[[\"1970 Population\",\"1980 Population\",\"1990 Population\",\"2000 Population\",\"2010 Population\",\"2015 Population\",\"2020 Population\",\"2022 Population\"]],\"type\":\"line\",\"fill\":\"tozeroy\"},[0]],\"label\":\"Ukraine\",\"method\":\"restyle\",\"visible\":true},{\"args\":[{\"y\":[[298084,1014048,1900151,3275333,8481771,8916899,9287289,9441129]],\"x\":[[\"1970 Population\",\"1980 Population\",\"1990 Population\",\"2000 Population\",\"2010 Population\",\"2015 Population\",\"2020 Population\",\"2022 Population\"]],\"type\":\"line\",\"fill\":\"tozeroy\"},[0]],\"label\":\"United Arab Emirates\",\"method\":\"restyle\",\"visible\":true},{\"args\":[{\"y\":[[55650166,56326328,57210442,58850043,62760039,65224364,67059474,67508936]],\"x\":[[\"1970 Population\",\"1980 Population\",\"1990 Population\",\"2000 Population\",\"2010 Population\",\"2015 Population\",\"2020 Population\",\"2022 Population\"]],\"type\":\"line\",\"fill\":\"tozeroy\"},[0]],\"label\":\"United Kingdom\",\"method\":\"restyle\",\"visible\":true},{\"args\":[{\"y\":[[200328340,223140018,248083732,282398554,311182845,324607776,335942003,338289857]],\"x\":[[\"1970 Population\",\"1980 Population\",\"1990 Population\",\"2000 Population\",\"2010 Population\",\"2015 Population\",\"2020 Population\",\"2022 Population\"]],\"type\":\"line\",\"fill\":\"tozeroy\"},[0]],\"label\":\"United States\",\"method\":\"restyle\",\"visible\":true},{\"args\":[{\"y\":[[63446,96640,100685,108185,106142,102803,100442,99465]],\"x\":[[\"1970 Population\",\"1980 Population\",\"1990 Population\",\"2000 Population\",\"2010 Population\",\"2015 Population\",\"2020 Population\",\"2022 Population\"]],\"type\":\"line\",\"fill\":\"tozeroy\"},[0]],\"label\":\"United States Virgin Islands\",\"method\":\"restyle\",\"visible\":true},{\"args\":[{\"y\":[[2790265,2953750,3117012,3292224,3352651,3402818,3429086,3422794]],\"x\":[[\"1970 Population\",\"1980 Population\",\"1990 Population\",\"2000 Population\",\"2010 Population\",\"2015 Population\",\"2020 Population\",\"2022 Population\"]],\"type\":\"line\",\"fill\":\"tozeroy\"},[0]],\"label\":\"Uruguay\",\"method\":\"restyle\",\"visible\":true},{\"args\":[{\"y\":[[12011361,15947129,20579100,24925554,28614227,30949417,33526656,34627652]],\"x\":[[\"1970 Population\",\"1980 Population\",\"1990 Population\",\"2000 Population\",\"2010 Population\",\"2015 Population\",\"2020 Population\",\"2022 Population\"]],\"type\":\"line\",\"fill\":\"tozeroy\"},[0]],\"label\":\"Uzbekistan\",\"method\":\"restyle\",\"visible\":true},{\"args\":[{\"y\":[[87019,118156,150882,192074,245453,276438,311685,326740]],\"x\":[[\"1970 Population\",\"1980 Population\",\"1990 Population\",\"2000 Population\",\"2010 Population\",\"2015 Population\",\"2020 Population\",\"2022 Population\"]],\"type\":\"line\",\"fill\":\"tozeroy\"},[0]],\"label\":\"Vanuatu\",\"method\":\"restyle\",\"visible\":true},{\"args\":[{\"y\":[[752,733,700,651,596,564,520,510]],\"x\":[[\"1970 Population\",\"1980 Population\",\"1990 Population\",\"2000 Population\",\"2010 Population\",\"2015 Population\",\"2020 Population\",\"2022 Population\"]],\"type\":\"line\",\"fill\":\"tozeroy\"},[0]],\"label\":\"Vatican City\",\"method\":\"restyle\",\"visible\":true},{\"args\":[{\"y\":[[11355475,15210443,19750579,24427729,28715022,30529716,28490453,28301696]],\"x\":[[\"1970 Population\",\"1980 Population\",\"1990 Population\",\"2000 Population\",\"2010 Population\",\"2015 Population\",\"2020 Population\",\"2022 Population\"]],\"type\":\"line\",\"fill\":\"tozeroy\"},[0]],\"label\":\"Venezuela\",\"method\":\"restyle\",\"visible\":true},{\"args\":[{\"y\":[[41928849,52968270,66912613,79001142,87411012,92191398,96648685,98186856]],\"x\":[[\"1970 Population\",\"1980 Population\",\"1990 Population\",\"2000 Population\",\"2010 Population\",\"2015 Population\",\"2020 Population\",\"2022 Population\"]],\"type\":\"line\",\"fill\":\"tozeroy\"},[0]],\"label\":\"Vietnam\",\"method\":\"restyle\",\"visible\":true},{\"args\":[{\"y\":[[9377,11315,13454,14723,13142,12182,11655,11572]],\"x\":[[\"1970 Population\",\"1980 Population\",\"1990 Population\",\"2000 Population\",\"2010 Population\",\"2015 Population\",\"2020 Population\",\"2022 Population\"]],\"type\":\"line\",\"fill\":\"tozeroy\"},[0]],\"label\":\"Wallis and Futuna\",\"method\":\"restyle\",\"visible\":true},{\"args\":[{\"y\":[[76371,116775,178529,270375,413296,491824,556048,575986]],\"x\":[[\"1970 Population\",\"1980 Population\",\"1990 Population\",\"2000 Population\",\"2010 Population\",\"2015 Population\",\"2020 Population\",\"2022 Population\"]],\"type\":\"line\",\"fill\":\"tozeroy\"},[0]],\"label\":\"Western Sahara\",\"method\":\"restyle\",\"visible\":true},{\"args\":[{\"y\":[[6843607,9204938,13375121,18628700,24743946,28516545,32284046,33696614]],\"x\":[[\"1970 Population\",\"1980 Population\",\"1990 Population\",\"2000 Population\",\"2010 Population\",\"2015 Population\",\"2020 Population\",\"2022 Population\"]],\"type\":\"line\",\"fill\":\"tozeroy\"},[0]],\"label\":\"Yemen\",\"method\":\"restyle\",\"visible\":true},{\"args\":[{\"y\":[[4281671,5720438,7686401,9891136,13792086,16248230,18927715,20017675]],\"x\":[[\"1970 Population\",\"1980 Population\",\"1990 Population\",\"2000 Population\",\"2010 Population\",\"2015 Population\",\"2020 Population\",\"2022 Population\"]],\"type\":\"line\",\"fill\":\"tozeroy\"},[0]],\"label\":\"Zambia\",\"method\":\"restyle\",\"visible\":true},{\"args\":[{\"y\":[[5202918,7049926,10113893,11834676,12839771,14154937,15669666,16320537]],\"x\":[[\"1970 Population\",\"1980 Population\",\"1990 Population\",\"2000 Population\",\"2010 Population\",\"2015 Population\",\"2020 Population\",\"2022 Population\"]],\"type\":\"line\",\"fill\":\"tozeroy\"},[0]],\"label\":\"Zimbabwe\",\"method\":\"restyle\",\"visible\":true}],\"direction\":\"down\",\"showactive\":true}]},                        {\"responsive\": true}                    ).then(function(){\n",
       "                            \n",
       "var gd = document.getElementById('8c800e5a-2308-438e-a76c-58b5405e1422');\n",
       "var x = new MutationObserver(function (mutations, observer) {{\n",
       "        var display = window.getComputedStyle(gd).display;\n",
       "        if (!display || display === 'none') {{\n",
       "            console.log([gd, 'removed!']);\n",
       "            Plotly.purge(gd);\n",
       "            observer.disconnect();\n",
       "        }}\n",
       "}});\n",
       "\n",
       "// Listen for the removal of the full notebook cells\n",
       "var notebookContainer = gd.closest('#notebook-container');\n",
       "if (notebookContainer) {{\n",
       "    x.observe(notebookContainer, {childList: true});\n",
       "}}\n",
       "\n",
       "// Listen for the clearing of the current output cell\n",
       "var outputEl = gd.closest('.output');\n",
       "if (outputEl) {{\n",
       "    x.observe(outputEl, {childList: true});\n",
       "}}\n",
       "\n",
       "                        })                };                });            </script>        </div>"
      ]
     },
     "metadata": {},
     "output_type": "display_data"
    }
   ],
   "source": [
    "#Chart 2: Evolution of population for a selected state\n",
    "\n",
    "fig = go.Figure()\n",
    "\n",
    "# set up ONE trace\n",
    "fig.add_trace(go.Scatter(x=df_population.columns[1:],\n",
    "                         y=df_population[df_population.Country=='Afghanistan'][df_population.columns[1:]].iloc[0],\n",
    "                         fill='tozeroy',\n",
    "                         visible=True)\n",
    "             )\n",
    "\n",
    "\n",
    "updatemenu = []\n",
    "buttons = []\n",
    "\n",
    "# button with one option for each dataframe\n",
    "for country in df_population.Country:\n",
    "    buttons.append(dict(method='restyle',\n",
    "                        label=country,\n",
    "                        visible=True,\n",
    "                        args=[{'y': [df_population[df_population.Country==country][df_population.columns[1:]].iloc[0]],\n",
    "                               'x': [df_population.columns[1:]],\n",
    "                               'type':'line',\n",
    "                               'fill' : 'tozeroy'}, [0]],\n",
    "                        )\n",
    "                  )\n",
    "\n",
    "# some adjustments to the updatemenus\n",
    "updatemenu = []\n",
    "your_menu = dict()\n",
    "updatemenu.append(your_menu)\n",
    "\n",
    "updatemenu[0]['buttons'] = buttons\n",
    "updatemenu[0]['direction'] = 'down'\n",
    "updatemenu[0]['showactive'] = True\n",
    "\n",
    "# add dropdown menus to the figure\n",
    "fig.update_layout(showlegend=False, updatemenus=updatemenu)\n",
    "\n",
    "fig.show()"
   ]
  },
  {
   "cell_type": "code",
   "execution_count": 156,
   "metadata": {},
   "outputs": [
    {
     "data": {
      "application/vnd.plotly.v1+json": {
       "config": {
        "plotlyServerURL": "https://plot.ly"
       },
       "data": [
        {
         "domain": {
          "x": [
           0,
           1
          ],
          "y": [
           0,
           1
          ]
         },
         "hovertemplate": "Country=%{label}<br>World Population Percentage=%{value}<extra></extra>",
         "labels": [
          "Afghanistan",
          "Albania",
          "Algeria",
          "American Samoa",
          "Andorra",
          "Angola",
          "Anguilla",
          "Antigua and Barbuda",
          "Argentina",
          "Armenia",
          "Aruba",
          "Australia",
          "Austria",
          "Azerbaijan",
          "Bahamas",
          "Bahrain",
          "Bangladesh",
          "Barbados",
          "Belarus",
          "Belgium",
          "Belize",
          "Benin",
          "Bermuda",
          "Bhutan",
          "Bolivia",
          "Bosnia and Herzegovina",
          "Botswana",
          "Brazil",
          "British Virgin Islands",
          "Brunei",
          "Bulgaria",
          "Burkina Faso",
          "Burundi",
          "Cambodia",
          "Cameroon",
          "Canada",
          "Cape Verde",
          "Cayman Islands",
          "Central African Republic",
          "Chad",
          "Chile",
          "China",
          "Colombia",
          "Comoros",
          "Cook Islands",
          "Costa Rica",
          "Croatia",
          "Cuba",
          "Curacao",
          "Cyprus",
          "Czech Republic",
          "Denmark",
          "Djibouti",
          "Dominica",
          "Dominican Republic",
          "DR Congo",
          "Ecuador",
          "Egypt",
          "El Salvador",
          "Equatorial Guinea",
          "Eritrea",
          "Estonia",
          "Eswatini",
          "Ethiopia",
          "Falkland Islands",
          "Faroe Islands",
          "Fiji",
          "Finland",
          "France",
          "French Guiana",
          "French Polynesia",
          "Gabon",
          "Gambia",
          "Georgia",
          "Germany",
          "Ghana",
          "Gibraltar",
          "Greece",
          "Greenland",
          "Grenada",
          "Guadeloupe",
          "Guam",
          "Guatemala",
          "Guernsey",
          "Guinea",
          "Guinea-Bissau",
          "Guyana",
          "Haiti",
          "Honduras",
          "Hong Kong",
          "Hungary",
          "Iceland",
          "India",
          "Indonesia",
          "Iran",
          "Iraq",
          "Ireland",
          "Isle of Man",
          "Israel",
          "Italy",
          "Ivory Coast",
          "Jamaica",
          "Japan",
          "Jersey",
          "Jordan",
          "Kazakhstan",
          "Kenya",
          "Kiribati",
          "Kuwait",
          "Kyrgyzstan",
          "Laos",
          "Latvia",
          "Lebanon",
          "Lesotho",
          "Liberia",
          "Libya",
          "Liechtenstein",
          "Lithuania",
          "Luxembourg",
          "Macau",
          "Madagascar",
          "Malawi",
          "Malaysia",
          "Maldives",
          "Mali",
          "Malta",
          "Marshall Islands",
          "Martinique",
          "Mauritania",
          "Mauritius",
          "Mayotte",
          "Mexico",
          "Micronesia",
          "Moldova",
          "Monaco",
          "Mongolia",
          "Montenegro",
          "Montserrat",
          "Morocco",
          "Mozambique",
          "Myanmar",
          "Namibia",
          "Nauru",
          "Nepal",
          "Netherlands",
          "New Caledonia",
          "New Zealand",
          "Nicaragua",
          "Niger",
          "Nigeria",
          "Niue",
          "North Korea",
          "North Macedonia",
          "Northern Mariana Islands",
          "Norway",
          "Oman",
          "Pakistan",
          "Palau",
          "Palestine",
          "Panama",
          "Papua New Guinea",
          "Paraguay",
          "Peru",
          "Philippines",
          "Poland",
          "Portugal",
          "Puerto Rico",
          "Qatar",
          "Republic of the Congo",
          "Reunion",
          "Romania",
          "Russia",
          "Rwanda",
          "Saint Barthelemy",
          "Saint Kitts and Nevis",
          "Saint Lucia",
          "Saint Martin",
          "Saint Pierre and Miquelon",
          "Saint Vincent and the Grenadines",
          "Samoa",
          "San Marino",
          "Sao Tome and Principe",
          "Saudi Arabia",
          "Senegal",
          "Serbia",
          "Seychelles",
          "Sierra Leone",
          "Singapore",
          "Sint Maarten",
          "Slovakia",
          "Slovenia",
          "Solomon Islands",
          "Somalia",
          "South Africa",
          "South Korea",
          "South Sudan",
          "Spain",
          "Sri Lanka",
          "Sudan",
          "Suriname",
          "Sweden",
          "Switzerland",
          "Syria",
          "Taiwan",
          "Tajikistan",
          "Tanzania",
          "Thailand",
          "Timor-Leste",
          "Togo",
          "Tokelau",
          "Tonga",
          "Trinidad and Tobago",
          "Tunisia",
          "Turkey",
          "Turkmenistan",
          "Turks and Caicos Islands",
          "Tuvalu",
          "Uganda",
          "Ukraine",
          "United Arab Emirates",
          "United Kingdom",
          "United States",
          "United States Virgin Islands",
          "Uruguay",
          "Uzbekistan",
          "Vanuatu",
          "Vatican City",
          "Venezuela",
          "Vietnam",
          "Wallis and Futuna",
          "Western Sahara",
          "Yemen",
          "Zambia",
          "Zimbabwe"
         ],
         "legendgroup": "",
         "name": "",
         "showlegend": true,
         "text": [
          "Afghanistan",
          "Albania",
          "Algeria",
          "American Samoa",
          "Andorra",
          "Angola",
          "Anguilla",
          "Antigua and Barbuda",
          "Argentina",
          "Armenia",
          "Aruba",
          "Australia",
          "Austria",
          "Azerbaijan",
          "Bahamas",
          "Bahrain",
          "Bangladesh",
          "Barbados",
          "Belarus",
          "Belgium",
          "Belize",
          "Benin",
          "Bermuda",
          "Bhutan",
          "Bolivia",
          "Bosnia and Herzegovina",
          "Botswana",
          "Brazil",
          "British Virgin Islands",
          "Brunei",
          "Bulgaria",
          "Burkina Faso",
          "Burundi",
          "Cambodia",
          "Cameroon",
          "Canada",
          "Cape Verde",
          "Cayman Islands",
          "Central African Republic",
          "Chad",
          "Chile",
          "China",
          "Colombia",
          "Comoros",
          "Cook Islands",
          "Costa Rica",
          "Croatia",
          "Cuba",
          "Curacao",
          "Cyprus",
          "Czech Republic",
          "Denmark",
          "Djibouti",
          "Dominica",
          "Dominican Republic",
          "DR Congo",
          "Ecuador",
          "Egypt",
          "El Salvador",
          "Equatorial Guinea",
          "Eritrea",
          "Estonia",
          "Eswatini",
          "Ethiopia",
          "Falkland Islands",
          "Faroe Islands",
          "Fiji",
          "Finland",
          "France",
          "French Guiana",
          "French Polynesia",
          "Gabon",
          "Gambia",
          "Georgia",
          "Germany",
          "Ghana",
          "Gibraltar",
          "Greece",
          "Greenland",
          "Grenada",
          "Guadeloupe",
          "Guam",
          "Guatemala",
          "Guernsey",
          "Guinea",
          "Guinea-Bissau",
          "Guyana",
          "Haiti",
          "Honduras",
          "Hong Kong",
          "Hungary",
          "Iceland",
          "India",
          "Indonesia",
          "Iran",
          "Iraq",
          "Ireland",
          "Isle of Man",
          "Israel",
          "Italy",
          "Ivory Coast",
          "Jamaica",
          "Japan",
          "Jersey",
          "Jordan",
          "Kazakhstan",
          "Kenya",
          "Kiribati",
          "Kuwait",
          "Kyrgyzstan",
          "Laos",
          "Latvia",
          "Lebanon",
          "Lesotho",
          "Liberia",
          "Libya",
          "Liechtenstein",
          "Lithuania",
          "Luxembourg",
          "Macau",
          "Madagascar",
          "Malawi",
          "Malaysia",
          "Maldives",
          "Mali",
          "Malta",
          "Marshall Islands",
          "Martinique",
          "Mauritania",
          "Mauritius",
          "Mayotte",
          "Mexico",
          "Micronesia",
          "Moldova",
          "Monaco",
          "Mongolia",
          "Montenegro",
          "Montserrat",
          "Morocco",
          "Mozambique",
          "Myanmar",
          "Namibia",
          "Nauru",
          "Nepal",
          "Netherlands",
          "New Caledonia",
          "New Zealand",
          "Nicaragua",
          "Niger",
          "Nigeria",
          "Niue",
          "North Korea",
          "North Macedonia",
          "Northern Mariana Islands",
          "Norway",
          "Oman",
          "Pakistan",
          "Palau",
          "Palestine",
          "Panama",
          "Papua New Guinea",
          "Paraguay",
          "Peru",
          "Philippines",
          "Poland",
          "Portugal",
          "Puerto Rico",
          "Qatar",
          "Republic of the Congo",
          "Reunion",
          "Romania",
          "Russia",
          "Rwanda",
          "Saint Barthelemy",
          "Saint Kitts and Nevis",
          "Saint Lucia",
          "Saint Martin",
          "Saint Pierre and Miquelon",
          "Saint Vincent and the Grenadines",
          "Samoa",
          "San Marino",
          "Sao Tome and Principe",
          "Saudi Arabia",
          "Senegal",
          "Serbia",
          "Seychelles",
          "Sierra Leone",
          "Singapore",
          "Sint Maarten",
          "Slovakia",
          "Slovenia",
          "Solomon Islands",
          "Somalia",
          "South Africa",
          "South Korea",
          "South Sudan",
          "Spain",
          "Sri Lanka",
          "Sudan",
          "Suriname",
          "Sweden",
          "Switzerland",
          "Syria",
          "Taiwan",
          "Tajikistan",
          "Tanzania",
          "Thailand",
          "Timor-Leste",
          "Togo",
          "Tokelau",
          "Tonga",
          "Trinidad and Tobago",
          "Tunisia",
          "Turkey",
          "Turkmenistan",
          "Turks and Caicos Islands",
          "Tuvalu",
          "Uganda",
          "Ukraine",
          "United Arab Emirates",
          "United Kingdom",
          "United States",
          "United States Virgin Islands",
          "Uruguay",
          "Uzbekistan",
          "Vanuatu",
          "Vatican City",
          "Venezuela",
          "Vietnam",
          "Wallis and Futuna",
          "Western Sahara",
          "Yemen",
          "Zambia",
          "Zimbabwe"
         ],
         "textposition": "inside",
         "type": "pie",
         "values": [
          0.52,
          0.04,
          0.56,
          0,
          0,
          0.45,
          0,
          0,
          0.57,
          0.03,
          0,
          0.33,
          0.11,
          0.13,
          0.01,
          0.02,
          2.15,
          0,
          0.12,
          0.15,
          0.01,
          0.17,
          0,
          0.01,
          0.15,
          0.04,
          0.03,
          2.7,
          0,
          0.01,
          0.09,
          0.28,
          0.16,
          0.21,
          0.35,
          0.48,
          0.01,
          0,
          0.07,
          0.22,
          0.25,
          17.88,
          0.65,
          0.01,
          0,
          0.06,
          0.05,
          0.14,
          0,
          0.02,
          0.13,
          0.07,
          0.01,
          0,
          0.14,
          1.24,
          0.23,
          1.39,
          0.08,
          0.02,
          0.05,
          0.02,
          0.02,
          1.55,
          0,
          0,
          0.01,
          0.07,
          0.81,
          0,
          0,
          0.03,
          0.03,
          0.05,
          1.05,
          0.42,
          0,
          0.13,
          0,
          0,
          0,
          0,
          0.22,
          0,
          0.17,
          0.03,
          0.01,
          0.15,
          0.13,
          0.09,
          0.12,
          0,
          17.77,
          3.45,
          1.11,
          0.56,
          0.06,
          0,
          0.11,
          0.74,
          0.35,
          0.04,
          1.55,
          0,
          0.14,
          0.24,
          0.68,
          0,
          0.05,
          0.08,
          0.09,
          0.02,
          0.07,
          0.03,
          0.07,
          0.09,
          0,
          0.03,
          0.01,
          0.01,
          0.37,
          0.26,
          0.43,
          0.01,
          0.28,
          0.01,
          0,
          0,
          0.06,
          0.02,
          0,
          1.6,
          0,
          0.04,
          0,
          0.04,
          0.01,
          0,
          0.47,
          0.41,
          0.68,
          0.03,
          0,
          0.38,
          0.22,
          0,
          0.07,
          0.09,
          0.33,
          2.74,
          0,
          0.33,
          0.03,
          0,
          0.07,
          0.06,
          2.96,
          0,
          0.07,
          0.06,
          0.13,
          0.09,
          0.43,
          1.45,
          0.5,
          0.13,
          0.04,
          0.03,
          0.07,
          0.01,
          0.25,
          1.81,
          0.17,
          0,
          0,
          0,
          0,
          0,
          0,
          0,
          0,
          0,
          0.46,
          0.22,
          0.09,
          0,
          0.11,
          0.07,
          0,
          0.07,
          0.03,
          0.01,
          0.22,
          0.75,
          0.65,
          0.14,
          0.6,
          0.27,
          0.59,
          0.01,
          0.13,
          0.11,
          0.28,
          0.3,
          0.12,
          0.82,
          0.9,
          0.02,
          0.11,
          0,
          0,
          0.02,
          0.15,
          1.07,
          0.08,
          0,
          0,
          0.59,
          0.5,
          0.12,
          0.85,
          4.24,
          0,
          0.04,
          0.43,
          0,
          0,
          0.35,
          1.23,
          0,
          0.01,
          0.42,
          0.25,
          0.2
         ]
        }
       ],
       "layout": {
        "legend": {
         "tracegroupgap": 0
        },
        "margin": {
         "b": 0,
         "l": 0,
         "r": 0,
         "t": 0
        },
        "template": {
         "data": {
          "bar": [
           {
            "error_x": {
             "color": "#2a3f5f"
            },
            "error_y": {
             "color": "#2a3f5f"
            },
            "marker": {
             "line": {
              "color": "#E5ECF6",
              "width": 0.5
             },
             "pattern": {
              "fillmode": "overlay",
              "size": 10,
              "solidity": 0.2
             }
            },
            "type": "bar"
           }
          ],
          "barpolar": [
           {
            "marker": {
             "line": {
              "color": "#E5ECF6",
              "width": 0.5
             },
             "pattern": {
              "fillmode": "overlay",
              "size": 10,
              "solidity": 0.2
             }
            },
            "type": "barpolar"
           }
          ],
          "carpet": [
           {
            "aaxis": {
             "endlinecolor": "#2a3f5f",
             "gridcolor": "white",
             "linecolor": "white",
             "minorgridcolor": "white",
             "startlinecolor": "#2a3f5f"
            },
            "baxis": {
             "endlinecolor": "#2a3f5f",
             "gridcolor": "white",
             "linecolor": "white",
             "minorgridcolor": "white",
             "startlinecolor": "#2a3f5f"
            },
            "type": "carpet"
           }
          ],
          "choropleth": [
           {
            "colorbar": {
             "outlinewidth": 0,
             "ticks": ""
            },
            "type": "choropleth"
           }
          ],
          "contour": [
           {
            "colorbar": {
             "outlinewidth": 0,
             "ticks": ""
            },
            "colorscale": [
             [
              0,
              "#0d0887"
             ],
             [
              0.1111111111111111,
              "#46039f"
             ],
             [
              0.2222222222222222,
              "#7201a8"
             ],
             [
              0.3333333333333333,
              "#9c179e"
             ],
             [
              0.4444444444444444,
              "#bd3786"
             ],
             [
              0.5555555555555556,
              "#d8576b"
             ],
             [
              0.6666666666666666,
              "#ed7953"
             ],
             [
              0.7777777777777778,
              "#fb9f3a"
             ],
             [
              0.8888888888888888,
              "#fdca26"
             ],
             [
              1,
              "#f0f921"
             ]
            ],
            "type": "contour"
           }
          ],
          "contourcarpet": [
           {
            "colorbar": {
             "outlinewidth": 0,
             "ticks": ""
            },
            "type": "contourcarpet"
           }
          ],
          "heatmap": [
           {
            "colorbar": {
             "outlinewidth": 0,
             "ticks": ""
            },
            "colorscale": [
             [
              0,
              "#0d0887"
             ],
             [
              0.1111111111111111,
              "#46039f"
             ],
             [
              0.2222222222222222,
              "#7201a8"
             ],
             [
              0.3333333333333333,
              "#9c179e"
             ],
             [
              0.4444444444444444,
              "#bd3786"
             ],
             [
              0.5555555555555556,
              "#d8576b"
             ],
             [
              0.6666666666666666,
              "#ed7953"
             ],
             [
              0.7777777777777778,
              "#fb9f3a"
             ],
             [
              0.8888888888888888,
              "#fdca26"
             ],
             [
              1,
              "#f0f921"
             ]
            ],
            "type": "heatmap"
           }
          ],
          "heatmapgl": [
           {
            "colorbar": {
             "outlinewidth": 0,
             "ticks": ""
            },
            "colorscale": [
             [
              0,
              "#0d0887"
             ],
             [
              0.1111111111111111,
              "#46039f"
             ],
             [
              0.2222222222222222,
              "#7201a8"
             ],
             [
              0.3333333333333333,
              "#9c179e"
             ],
             [
              0.4444444444444444,
              "#bd3786"
             ],
             [
              0.5555555555555556,
              "#d8576b"
             ],
             [
              0.6666666666666666,
              "#ed7953"
             ],
             [
              0.7777777777777778,
              "#fb9f3a"
             ],
             [
              0.8888888888888888,
              "#fdca26"
             ],
             [
              1,
              "#f0f921"
             ]
            ],
            "type": "heatmapgl"
           }
          ],
          "histogram": [
           {
            "marker": {
             "pattern": {
              "fillmode": "overlay",
              "size": 10,
              "solidity": 0.2
             }
            },
            "type": "histogram"
           }
          ],
          "histogram2d": [
           {
            "colorbar": {
             "outlinewidth": 0,
             "ticks": ""
            },
            "colorscale": [
             [
              0,
              "#0d0887"
             ],
             [
              0.1111111111111111,
              "#46039f"
             ],
             [
              0.2222222222222222,
              "#7201a8"
             ],
             [
              0.3333333333333333,
              "#9c179e"
             ],
             [
              0.4444444444444444,
              "#bd3786"
             ],
             [
              0.5555555555555556,
              "#d8576b"
             ],
             [
              0.6666666666666666,
              "#ed7953"
             ],
             [
              0.7777777777777778,
              "#fb9f3a"
             ],
             [
              0.8888888888888888,
              "#fdca26"
             ],
             [
              1,
              "#f0f921"
             ]
            ],
            "type": "histogram2d"
           }
          ],
          "histogram2dcontour": [
           {
            "colorbar": {
             "outlinewidth": 0,
             "ticks": ""
            },
            "colorscale": [
             [
              0,
              "#0d0887"
             ],
             [
              0.1111111111111111,
              "#46039f"
             ],
             [
              0.2222222222222222,
              "#7201a8"
             ],
             [
              0.3333333333333333,
              "#9c179e"
             ],
             [
              0.4444444444444444,
              "#bd3786"
             ],
             [
              0.5555555555555556,
              "#d8576b"
             ],
             [
              0.6666666666666666,
              "#ed7953"
             ],
             [
              0.7777777777777778,
              "#fb9f3a"
             ],
             [
              0.8888888888888888,
              "#fdca26"
             ],
             [
              1,
              "#f0f921"
             ]
            ],
            "type": "histogram2dcontour"
           }
          ],
          "mesh3d": [
           {
            "colorbar": {
             "outlinewidth": 0,
             "ticks": ""
            },
            "type": "mesh3d"
           }
          ],
          "parcoords": [
           {
            "line": {
             "colorbar": {
              "outlinewidth": 0,
              "ticks": ""
             }
            },
            "type": "parcoords"
           }
          ],
          "pie": [
           {
            "automargin": true,
            "type": "pie"
           }
          ],
          "scatter": [
           {
            "fillpattern": {
             "fillmode": "overlay",
             "size": 10,
             "solidity": 0.2
            },
            "type": "scatter"
           }
          ],
          "scatter3d": [
           {
            "line": {
             "colorbar": {
              "outlinewidth": 0,
              "ticks": ""
             }
            },
            "marker": {
             "colorbar": {
              "outlinewidth": 0,
              "ticks": ""
             }
            },
            "type": "scatter3d"
           }
          ],
          "scattercarpet": [
           {
            "marker": {
             "colorbar": {
              "outlinewidth": 0,
              "ticks": ""
             }
            },
            "type": "scattercarpet"
           }
          ],
          "scattergeo": [
           {
            "marker": {
             "colorbar": {
              "outlinewidth": 0,
              "ticks": ""
             }
            },
            "type": "scattergeo"
           }
          ],
          "scattergl": [
           {
            "marker": {
             "colorbar": {
              "outlinewidth": 0,
              "ticks": ""
             }
            },
            "type": "scattergl"
           }
          ],
          "scattermapbox": [
           {
            "marker": {
             "colorbar": {
              "outlinewidth": 0,
              "ticks": ""
             }
            },
            "type": "scattermapbox"
           }
          ],
          "scatterpolar": [
           {
            "marker": {
             "colorbar": {
              "outlinewidth": 0,
              "ticks": ""
             }
            },
            "type": "scatterpolar"
           }
          ],
          "scatterpolargl": [
           {
            "marker": {
             "colorbar": {
              "outlinewidth": 0,
              "ticks": ""
             }
            },
            "type": "scatterpolargl"
           }
          ],
          "scatterternary": [
           {
            "marker": {
             "colorbar": {
              "outlinewidth": 0,
              "ticks": ""
             }
            },
            "type": "scatterternary"
           }
          ],
          "surface": [
           {
            "colorbar": {
             "outlinewidth": 0,
             "ticks": ""
            },
            "colorscale": [
             [
              0,
              "#0d0887"
             ],
             [
              0.1111111111111111,
              "#46039f"
             ],
             [
              0.2222222222222222,
              "#7201a8"
             ],
             [
              0.3333333333333333,
              "#9c179e"
             ],
             [
              0.4444444444444444,
              "#bd3786"
             ],
             [
              0.5555555555555556,
              "#d8576b"
             ],
             [
              0.6666666666666666,
              "#ed7953"
             ],
             [
              0.7777777777777778,
              "#fb9f3a"
             ],
             [
              0.8888888888888888,
              "#fdca26"
             ],
             [
              1,
              "#f0f921"
             ]
            ],
            "type": "surface"
           }
          ],
          "table": [
           {
            "cells": {
             "fill": {
              "color": "#EBF0F8"
             },
             "line": {
              "color": "white"
             }
            },
            "header": {
             "fill": {
              "color": "#C8D4E3"
             },
             "line": {
              "color": "white"
             }
            },
            "type": "table"
           }
          ]
         },
         "layout": {
          "annotationdefaults": {
           "arrowcolor": "#2a3f5f",
           "arrowhead": 0,
           "arrowwidth": 1
          },
          "autotypenumbers": "strict",
          "coloraxis": {
           "colorbar": {
            "outlinewidth": 0,
            "ticks": ""
           }
          },
          "colorscale": {
           "diverging": [
            [
             0,
             "#8e0152"
            ],
            [
             0.1,
             "#c51b7d"
            ],
            [
             0.2,
             "#de77ae"
            ],
            [
             0.3,
             "#f1b6da"
            ],
            [
             0.4,
             "#fde0ef"
            ],
            [
             0.5,
             "#f7f7f7"
            ],
            [
             0.6,
             "#e6f5d0"
            ],
            [
             0.7,
             "#b8e186"
            ],
            [
             0.8,
             "#7fbc41"
            ],
            [
             0.9,
             "#4d9221"
            ],
            [
             1,
             "#276419"
            ]
           ],
           "sequential": [
            [
             0,
             "#0d0887"
            ],
            [
             0.1111111111111111,
             "#46039f"
            ],
            [
             0.2222222222222222,
             "#7201a8"
            ],
            [
             0.3333333333333333,
             "#9c179e"
            ],
            [
             0.4444444444444444,
             "#bd3786"
            ],
            [
             0.5555555555555556,
             "#d8576b"
            ],
            [
             0.6666666666666666,
             "#ed7953"
            ],
            [
             0.7777777777777778,
             "#fb9f3a"
            ],
            [
             0.8888888888888888,
             "#fdca26"
            ],
            [
             1,
             "#f0f921"
            ]
           ],
           "sequentialminus": [
            [
             0,
             "#0d0887"
            ],
            [
             0.1111111111111111,
             "#46039f"
            ],
            [
             0.2222222222222222,
             "#7201a8"
            ],
            [
             0.3333333333333333,
             "#9c179e"
            ],
            [
             0.4444444444444444,
             "#bd3786"
            ],
            [
             0.5555555555555556,
             "#d8576b"
            ],
            [
             0.6666666666666666,
             "#ed7953"
            ],
            [
             0.7777777777777778,
             "#fb9f3a"
            ],
            [
             0.8888888888888888,
             "#fdca26"
            ],
            [
             1,
             "#f0f921"
            ]
           ]
          },
          "colorway": [
           "#636efa",
           "#EF553B",
           "#00cc96",
           "#ab63fa",
           "#FFA15A",
           "#19d3f3",
           "#FF6692",
           "#B6E880",
           "#FF97FF",
           "#FECB52"
          ],
          "font": {
           "color": "#2a3f5f"
          },
          "geo": {
           "bgcolor": "white",
           "lakecolor": "white",
           "landcolor": "#E5ECF6",
           "showlakes": true,
           "showland": true,
           "subunitcolor": "white"
          },
          "hoverlabel": {
           "align": "left"
          },
          "hovermode": "closest",
          "mapbox": {
           "style": "light"
          },
          "paper_bgcolor": "white",
          "plot_bgcolor": "#E5ECF6",
          "polar": {
           "angularaxis": {
            "gridcolor": "white",
            "linecolor": "white",
            "ticks": ""
           },
           "bgcolor": "#E5ECF6",
           "radialaxis": {
            "gridcolor": "white",
            "linecolor": "white",
            "ticks": ""
           }
          },
          "scene": {
           "xaxis": {
            "backgroundcolor": "#E5ECF6",
            "gridcolor": "white",
            "gridwidth": 2,
            "linecolor": "white",
            "showbackground": true,
            "ticks": "",
            "zerolinecolor": "white"
           },
           "yaxis": {
            "backgroundcolor": "#E5ECF6",
            "gridcolor": "white",
            "gridwidth": 2,
            "linecolor": "white",
            "showbackground": true,
            "ticks": "",
            "zerolinecolor": "white"
           },
           "zaxis": {
            "backgroundcolor": "#E5ECF6",
            "gridcolor": "white",
            "gridwidth": 2,
            "linecolor": "white",
            "showbackground": true,
            "ticks": "",
            "zerolinecolor": "white"
           }
          },
          "shapedefaults": {
           "line": {
            "color": "#2a3f5f"
           }
          },
          "ternary": {
           "aaxis": {
            "gridcolor": "white",
            "linecolor": "white",
            "ticks": ""
           },
           "baxis": {
            "gridcolor": "white",
            "linecolor": "white",
            "ticks": ""
           },
           "bgcolor": "#E5ECF6",
           "caxis": {
            "gridcolor": "white",
            "linecolor": "white",
            "ticks": ""
           }
          },
          "title": {
           "x": 0.05
          },
          "xaxis": {
           "automargin": true,
           "gridcolor": "white",
           "linecolor": "white",
           "ticks": "",
           "title": {
            "standoff": 15
           },
           "zerolinecolor": "white",
           "zerolinewidth": 2
          },
          "yaxis": {
           "automargin": true,
           "gridcolor": "white",
           "linecolor": "white",
           "ticks": "",
           "title": {
            "standoff": 15
           },
           "zerolinecolor": "white",
           "zerolinewidth": 2
          }
         }
        },
        "title": {
         "text": "Top 10 most populated countries"
        },
        "uniformtext": {
         "minsize": 8,
         "mode": "hide"
        }
       }
      },
      "text/html": [
       "<div>                            <div id=\"183f60d6-a0db-497f-9ec0-cc478c5a1d5f\" class=\"plotly-graph-div\" style=\"height:525px; width:100%;\"></div>            <script type=\"text/javascript\">                require([\"plotly\"], function(Plotly) {                    window.PLOTLYENV=window.PLOTLYENV || {};                                    if (document.getElementById(\"183f60d6-a0db-497f-9ec0-cc478c5a1d5f\")) {                    Plotly.newPlot(                        \"183f60d6-a0db-497f-9ec0-cc478c5a1d5f\",                        [{\"domain\":{\"x\":[0.0,1.0],\"y\":[0.0,1.0]},\"hovertemplate\":\"Country=%{label}<br>World Population Percentage=%{value}<extra></extra>\",\"labels\":[\"Afghanistan\",\"Albania\",\"Algeria\",\"American Samoa\",\"Andorra\",\"Angola\",\"Anguilla\",\"Antigua and Barbuda\",\"Argentina\",\"Armenia\",\"Aruba\",\"Australia\",\"Austria\",\"Azerbaijan\",\"Bahamas\",\"Bahrain\",\"Bangladesh\",\"Barbados\",\"Belarus\",\"Belgium\",\"Belize\",\"Benin\",\"Bermuda\",\"Bhutan\",\"Bolivia\",\"Bosnia and Herzegovina\",\"Botswana\",\"Brazil\",\"British Virgin Islands\",\"Brunei\",\"Bulgaria\",\"Burkina Faso\",\"Burundi\",\"Cambodia\",\"Cameroon\",\"Canada\",\"Cape Verde\",\"Cayman Islands\",\"Central African Republic\",\"Chad\",\"Chile\",\"China\",\"Colombia\",\"Comoros\",\"Cook Islands\",\"Costa Rica\",\"Croatia\",\"Cuba\",\"Curacao\",\"Cyprus\",\"Czech Republic\",\"Denmark\",\"Djibouti\",\"Dominica\",\"Dominican Republic\",\"DR Congo\",\"Ecuador\",\"Egypt\",\"El Salvador\",\"Equatorial Guinea\",\"Eritrea\",\"Estonia\",\"Eswatini\",\"Ethiopia\",\"Falkland Islands\",\"Faroe Islands\",\"Fiji\",\"Finland\",\"France\",\"French Guiana\",\"French Polynesia\",\"Gabon\",\"Gambia\",\"Georgia\",\"Germany\",\"Ghana\",\"Gibraltar\",\"Greece\",\"Greenland\",\"Grenada\",\"Guadeloupe\",\"Guam\",\"Guatemala\",\"Guernsey\",\"Guinea\",\"Guinea-Bissau\",\"Guyana\",\"Haiti\",\"Honduras\",\"Hong Kong\",\"Hungary\",\"Iceland\",\"India\",\"Indonesia\",\"Iran\",\"Iraq\",\"Ireland\",\"Isle of Man\",\"Israel\",\"Italy\",\"Ivory Coast\",\"Jamaica\",\"Japan\",\"Jersey\",\"Jordan\",\"Kazakhstan\",\"Kenya\",\"Kiribati\",\"Kuwait\",\"Kyrgyzstan\",\"Laos\",\"Latvia\",\"Lebanon\",\"Lesotho\",\"Liberia\",\"Libya\",\"Liechtenstein\",\"Lithuania\",\"Luxembourg\",\"Macau\",\"Madagascar\",\"Malawi\",\"Malaysia\",\"Maldives\",\"Mali\",\"Malta\",\"Marshall Islands\",\"Martinique\",\"Mauritania\",\"Mauritius\",\"Mayotte\",\"Mexico\",\"Micronesia\",\"Moldova\",\"Monaco\",\"Mongolia\",\"Montenegro\",\"Montserrat\",\"Morocco\",\"Mozambique\",\"Myanmar\",\"Namibia\",\"Nauru\",\"Nepal\",\"Netherlands\",\"New Caledonia\",\"New Zealand\",\"Nicaragua\",\"Niger\",\"Nigeria\",\"Niue\",\"North Korea\",\"North Macedonia\",\"Northern Mariana Islands\",\"Norway\",\"Oman\",\"Pakistan\",\"Palau\",\"Palestine\",\"Panama\",\"Papua New Guinea\",\"Paraguay\",\"Peru\",\"Philippines\",\"Poland\",\"Portugal\",\"Puerto Rico\",\"Qatar\",\"Republic of the Congo\",\"Reunion\",\"Romania\",\"Russia\",\"Rwanda\",\"Saint Barthelemy\",\"Saint Kitts and Nevis\",\"Saint Lucia\",\"Saint Martin\",\"Saint Pierre and Miquelon\",\"Saint Vincent and the Grenadines\",\"Samoa\",\"San Marino\",\"Sao Tome and Principe\",\"Saudi Arabia\",\"Senegal\",\"Serbia\",\"Seychelles\",\"Sierra Leone\",\"Singapore\",\"Sint Maarten\",\"Slovakia\",\"Slovenia\",\"Solomon Islands\",\"Somalia\",\"South Africa\",\"South Korea\",\"South Sudan\",\"Spain\",\"Sri Lanka\",\"Sudan\",\"Suriname\",\"Sweden\",\"Switzerland\",\"Syria\",\"Taiwan\",\"Tajikistan\",\"Tanzania\",\"Thailand\",\"Timor-Leste\",\"Togo\",\"Tokelau\",\"Tonga\",\"Trinidad and Tobago\",\"Tunisia\",\"Turkey\",\"Turkmenistan\",\"Turks and Caicos Islands\",\"Tuvalu\",\"Uganda\",\"Ukraine\",\"United Arab Emirates\",\"United Kingdom\",\"United States\",\"United States Virgin Islands\",\"Uruguay\",\"Uzbekistan\",\"Vanuatu\",\"Vatican City\",\"Venezuela\",\"Vietnam\",\"Wallis and Futuna\",\"Western Sahara\",\"Yemen\",\"Zambia\",\"Zimbabwe\"],\"legendgroup\":\"\",\"name\":\"\",\"showlegend\":true,\"values\":[0.52,0.04,0.56,0.0,0.0,0.45,0.0,0.0,0.57,0.03,0.0,0.33,0.11,0.13,0.01,0.02,2.15,0.0,0.12,0.15,0.01,0.17,0.0,0.01,0.15,0.04,0.03,2.7,0.0,0.01,0.09,0.28,0.16,0.21,0.35,0.48,0.01,0.0,0.07,0.22,0.25,17.88,0.65,0.01,0.0,0.06,0.05,0.14,0.0,0.02,0.13,0.07,0.01,0.0,0.14,1.24,0.23,1.39,0.08,0.02,0.05,0.02,0.02,1.55,0.0,0.0,0.01,0.07,0.81,0.0,0.0,0.03,0.03,0.05,1.05,0.42,0.0,0.13,0.0,0.0,0.0,0.0,0.22,0.0,0.17,0.03,0.01,0.15,0.13,0.09,0.12,0.0,17.77,3.45,1.11,0.56,0.06,0.0,0.11,0.74,0.35,0.04,1.55,0.0,0.14,0.24,0.68,0.0,0.05,0.08,0.09,0.02,0.07,0.03,0.07,0.09,0.0,0.03,0.01,0.01,0.37,0.26,0.43,0.01,0.28,0.01,0.0,0.0,0.06,0.02,0.0,1.6,0.0,0.04,0.0,0.04,0.01,0.0,0.47,0.41,0.68,0.03,0.0,0.38,0.22,0.0,0.07,0.09,0.33,2.74,0.0,0.33,0.03,0.0,0.07,0.06,2.96,0.0,0.07,0.06,0.13,0.09,0.43,1.45,0.5,0.13,0.04,0.03,0.07,0.01,0.25,1.81,0.17,0.0,0.0,0.0,0.0,0.0,0.0,0.0,0.0,0.0,0.46,0.22,0.09,0.0,0.11,0.07,0.0,0.07,0.03,0.01,0.22,0.75,0.65,0.14,0.6,0.27,0.59,0.01,0.13,0.11,0.28,0.3,0.12,0.82,0.9,0.02,0.11,0.0,0.0,0.02,0.15,1.07,0.08,0.0,0.0,0.59,0.5,0.12,0.85,4.24,0.0,0.04,0.43,0.0,0.0,0.35,1.23,0.0,0.01,0.42,0.25,0.2],\"type\":\"pie\",\"text\":[\"Afghanistan\",\"Albania\",\"Algeria\",\"American Samoa\",\"Andorra\",\"Angola\",\"Anguilla\",\"Antigua and Barbuda\",\"Argentina\",\"Armenia\",\"Aruba\",\"Australia\",\"Austria\",\"Azerbaijan\",\"Bahamas\",\"Bahrain\",\"Bangladesh\",\"Barbados\",\"Belarus\",\"Belgium\",\"Belize\",\"Benin\",\"Bermuda\",\"Bhutan\",\"Bolivia\",\"Bosnia and Herzegovina\",\"Botswana\",\"Brazil\",\"British Virgin Islands\",\"Brunei\",\"Bulgaria\",\"Burkina Faso\",\"Burundi\",\"Cambodia\",\"Cameroon\",\"Canada\",\"Cape Verde\",\"Cayman Islands\",\"Central African Republic\",\"Chad\",\"Chile\",\"China\",\"Colombia\",\"Comoros\",\"Cook Islands\",\"Costa Rica\",\"Croatia\",\"Cuba\",\"Curacao\",\"Cyprus\",\"Czech Republic\",\"Denmark\",\"Djibouti\",\"Dominica\",\"Dominican Republic\",\"DR Congo\",\"Ecuador\",\"Egypt\",\"El Salvador\",\"Equatorial Guinea\",\"Eritrea\",\"Estonia\",\"Eswatini\",\"Ethiopia\",\"Falkland Islands\",\"Faroe Islands\",\"Fiji\",\"Finland\",\"France\",\"French Guiana\",\"French Polynesia\",\"Gabon\",\"Gambia\",\"Georgia\",\"Germany\",\"Ghana\",\"Gibraltar\",\"Greece\",\"Greenland\",\"Grenada\",\"Guadeloupe\",\"Guam\",\"Guatemala\",\"Guernsey\",\"Guinea\",\"Guinea-Bissau\",\"Guyana\",\"Haiti\",\"Honduras\",\"Hong Kong\",\"Hungary\",\"Iceland\",\"India\",\"Indonesia\",\"Iran\",\"Iraq\",\"Ireland\",\"Isle of Man\",\"Israel\",\"Italy\",\"Ivory Coast\",\"Jamaica\",\"Japan\",\"Jersey\",\"Jordan\",\"Kazakhstan\",\"Kenya\",\"Kiribati\",\"Kuwait\",\"Kyrgyzstan\",\"Laos\",\"Latvia\",\"Lebanon\",\"Lesotho\",\"Liberia\",\"Libya\",\"Liechtenstein\",\"Lithuania\",\"Luxembourg\",\"Macau\",\"Madagascar\",\"Malawi\",\"Malaysia\",\"Maldives\",\"Mali\",\"Malta\",\"Marshall Islands\",\"Martinique\",\"Mauritania\",\"Mauritius\",\"Mayotte\",\"Mexico\",\"Micronesia\",\"Moldova\",\"Monaco\",\"Mongolia\",\"Montenegro\",\"Montserrat\",\"Morocco\",\"Mozambique\",\"Myanmar\",\"Namibia\",\"Nauru\",\"Nepal\",\"Netherlands\",\"New Caledonia\",\"New Zealand\",\"Nicaragua\",\"Niger\",\"Nigeria\",\"Niue\",\"North Korea\",\"North Macedonia\",\"Northern Mariana Islands\",\"Norway\",\"Oman\",\"Pakistan\",\"Palau\",\"Palestine\",\"Panama\",\"Papua New Guinea\",\"Paraguay\",\"Peru\",\"Philippines\",\"Poland\",\"Portugal\",\"Puerto Rico\",\"Qatar\",\"Republic of the Congo\",\"Reunion\",\"Romania\",\"Russia\",\"Rwanda\",\"Saint Barthelemy\",\"Saint Kitts and Nevis\",\"Saint Lucia\",\"Saint Martin\",\"Saint Pierre and Miquelon\",\"Saint Vincent and the Grenadines\",\"Samoa\",\"San Marino\",\"Sao Tome and Principe\",\"Saudi Arabia\",\"Senegal\",\"Serbia\",\"Seychelles\",\"Sierra Leone\",\"Singapore\",\"Sint Maarten\",\"Slovakia\",\"Slovenia\",\"Solomon Islands\",\"Somalia\",\"South Africa\",\"South Korea\",\"South Sudan\",\"Spain\",\"Sri Lanka\",\"Sudan\",\"Suriname\",\"Sweden\",\"Switzerland\",\"Syria\",\"Taiwan\",\"Tajikistan\",\"Tanzania\",\"Thailand\",\"Timor-Leste\",\"Togo\",\"Tokelau\",\"Tonga\",\"Trinidad and Tobago\",\"Tunisia\",\"Turkey\",\"Turkmenistan\",\"Turks and Caicos Islands\",\"Tuvalu\",\"Uganda\",\"Ukraine\",\"United Arab Emirates\",\"United Kingdom\",\"United States\",\"United States Virgin Islands\",\"Uruguay\",\"Uzbekistan\",\"Vanuatu\",\"Vatican City\",\"Venezuela\",\"Vietnam\",\"Wallis and Futuna\",\"Western Sahara\",\"Yemen\",\"Zambia\",\"Zimbabwe\"],\"textposition\":\"inside\"}],                        {\"template\":{\"data\":{\"histogram2dcontour\":[{\"type\":\"histogram2dcontour\",\"colorbar\":{\"outlinewidth\":0,\"ticks\":\"\"},\"colorscale\":[[0.0,\"#0d0887\"],[0.1111111111111111,\"#46039f\"],[0.2222222222222222,\"#7201a8\"],[0.3333333333333333,\"#9c179e\"],[0.4444444444444444,\"#bd3786\"],[0.5555555555555556,\"#d8576b\"],[0.6666666666666666,\"#ed7953\"],[0.7777777777777778,\"#fb9f3a\"],[0.8888888888888888,\"#fdca26\"],[1.0,\"#f0f921\"]]}],\"choropleth\":[{\"type\":\"choropleth\",\"colorbar\":{\"outlinewidth\":0,\"ticks\":\"\"}}],\"histogram2d\":[{\"type\":\"histogram2d\",\"colorbar\":{\"outlinewidth\":0,\"ticks\":\"\"},\"colorscale\":[[0.0,\"#0d0887\"],[0.1111111111111111,\"#46039f\"],[0.2222222222222222,\"#7201a8\"],[0.3333333333333333,\"#9c179e\"],[0.4444444444444444,\"#bd3786\"],[0.5555555555555556,\"#d8576b\"],[0.6666666666666666,\"#ed7953\"],[0.7777777777777778,\"#fb9f3a\"],[0.8888888888888888,\"#fdca26\"],[1.0,\"#f0f921\"]]}],\"heatmap\":[{\"type\":\"heatmap\",\"colorbar\":{\"outlinewidth\":0,\"ticks\":\"\"},\"colorscale\":[[0.0,\"#0d0887\"],[0.1111111111111111,\"#46039f\"],[0.2222222222222222,\"#7201a8\"],[0.3333333333333333,\"#9c179e\"],[0.4444444444444444,\"#bd3786\"],[0.5555555555555556,\"#d8576b\"],[0.6666666666666666,\"#ed7953\"],[0.7777777777777778,\"#fb9f3a\"],[0.8888888888888888,\"#fdca26\"],[1.0,\"#f0f921\"]]}],\"heatmapgl\":[{\"type\":\"heatmapgl\",\"colorbar\":{\"outlinewidth\":0,\"ticks\":\"\"},\"colorscale\":[[0.0,\"#0d0887\"],[0.1111111111111111,\"#46039f\"],[0.2222222222222222,\"#7201a8\"],[0.3333333333333333,\"#9c179e\"],[0.4444444444444444,\"#bd3786\"],[0.5555555555555556,\"#d8576b\"],[0.6666666666666666,\"#ed7953\"],[0.7777777777777778,\"#fb9f3a\"],[0.8888888888888888,\"#fdca26\"],[1.0,\"#f0f921\"]]}],\"contourcarpet\":[{\"type\":\"contourcarpet\",\"colorbar\":{\"outlinewidth\":0,\"ticks\":\"\"}}],\"contour\":[{\"type\":\"contour\",\"colorbar\":{\"outlinewidth\":0,\"ticks\":\"\"},\"colorscale\":[[0.0,\"#0d0887\"],[0.1111111111111111,\"#46039f\"],[0.2222222222222222,\"#7201a8\"],[0.3333333333333333,\"#9c179e\"],[0.4444444444444444,\"#bd3786\"],[0.5555555555555556,\"#d8576b\"],[0.6666666666666666,\"#ed7953\"],[0.7777777777777778,\"#fb9f3a\"],[0.8888888888888888,\"#fdca26\"],[1.0,\"#f0f921\"]]}],\"surface\":[{\"type\":\"surface\",\"colorbar\":{\"outlinewidth\":0,\"ticks\":\"\"},\"colorscale\":[[0.0,\"#0d0887\"],[0.1111111111111111,\"#46039f\"],[0.2222222222222222,\"#7201a8\"],[0.3333333333333333,\"#9c179e\"],[0.4444444444444444,\"#bd3786\"],[0.5555555555555556,\"#d8576b\"],[0.6666666666666666,\"#ed7953\"],[0.7777777777777778,\"#fb9f3a\"],[0.8888888888888888,\"#fdca26\"],[1.0,\"#f0f921\"]]}],\"mesh3d\":[{\"type\":\"mesh3d\",\"colorbar\":{\"outlinewidth\":0,\"ticks\":\"\"}}],\"scatter\":[{\"fillpattern\":{\"fillmode\":\"overlay\",\"size\":10,\"solidity\":0.2},\"type\":\"scatter\"}],\"parcoords\":[{\"type\":\"parcoords\",\"line\":{\"colorbar\":{\"outlinewidth\":0,\"ticks\":\"\"}}}],\"scatterpolargl\":[{\"type\":\"scatterpolargl\",\"marker\":{\"colorbar\":{\"outlinewidth\":0,\"ticks\":\"\"}}}],\"bar\":[{\"error_x\":{\"color\":\"#2a3f5f\"},\"error_y\":{\"color\":\"#2a3f5f\"},\"marker\":{\"line\":{\"color\":\"#E5ECF6\",\"width\":0.5},\"pattern\":{\"fillmode\":\"overlay\",\"size\":10,\"solidity\":0.2}},\"type\":\"bar\"}],\"scattergeo\":[{\"type\":\"scattergeo\",\"marker\":{\"colorbar\":{\"outlinewidth\":0,\"ticks\":\"\"}}}],\"scatterpolar\":[{\"type\":\"scatterpolar\",\"marker\":{\"colorbar\":{\"outlinewidth\":0,\"ticks\":\"\"}}}],\"histogram\":[{\"marker\":{\"pattern\":{\"fillmode\":\"overlay\",\"size\":10,\"solidity\":0.2}},\"type\":\"histogram\"}],\"scattergl\":[{\"type\":\"scattergl\",\"marker\":{\"colorbar\":{\"outlinewidth\":0,\"ticks\":\"\"}}}],\"scatter3d\":[{\"type\":\"scatter3d\",\"line\":{\"colorbar\":{\"outlinewidth\":0,\"ticks\":\"\"}},\"marker\":{\"colorbar\":{\"outlinewidth\":0,\"ticks\":\"\"}}}],\"scattermapbox\":[{\"type\":\"scattermapbox\",\"marker\":{\"colorbar\":{\"outlinewidth\":0,\"ticks\":\"\"}}}],\"scatterternary\":[{\"type\":\"scatterternary\",\"marker\":{\"colorbar\":{\"outlinewidth\":0,\"ticks\":\"\"}}}],\"scattercarpet\":[{\"type\":\"scattercarpet\",\"marker\":{\"colorbar\":{\"outlinewidth\":0,\"ticks\":\"\"}}}],\"carpet\":[{\"aaxis\":{\"endlinecolor\":\"#2a3f5f\",\"gridcolor\":\"white\",\"linecolor\":\"white\",\"minorgridcolor\":\"white\",\"startlinecolor\":\"#2a3f5f\"},\"baxis\":{\"endlinecolor\":\"#2a3f5f\",\"gridcolor\":\"white\",\"linecolor\":\"white\",\"minorgridcolor\":\"white\",\"startlinecolor\":\"#2a3f5f\"},\"type\":\"carpet\"}],\"table\":[{\"cells\":{\"fill\":{\"color\":\"#EBF0F8\"},\"line\":{\"color\":\"white\"}},\"header\":{\"fill\":{\"color\":\"#C8D4E3\"},\"line\":{\"color\":\"white\"}},\"type\":\"table\"}],\"barpolar\":[{\"marker\":{\"line\":{\"color\":\"#E5ECF6\",\"width\":0.5},\"pattern\":{\"fillmode\":\"overlay\",\"size\":10,\"solidity\":0.2}},\"type\":\"barpolar\"}],\"pie\":[{\"automargin\":true,\"type\":\"pie\"}]},\"layout\":{\"autotypenumbers\":\"strict\",\"colorway\":[\"#636efa\",\"#EF553B\",\"#00cc96\",\"#ab63fa\",\"#FFA15A\",\"#19d3f3\",\"#FF6692\",\"#B6E880\",\"#FF97FF\",\"#FECB52\"],\"font\":{\"color\":\"#2a3f5f\"},\"hovermode\":\"closest\",\"hoverlabel\":{\"align\":\"left\"},\"paper_bgcolor\":\"white\",\"plot_bgcolor\":\"#E5ECF6\",\"polar\":{\"bgcolor\":\"#E5ECF6\",\"angularaxis\":{\"gridcolor\":\"white\",\"linecolor\":\"white\",\"ticks\":\"\"},\"radialaxis\":{\"gridcolor\":\"white\",\"linecolor\":\"white\",\"ticks\":\"\"}},\"ternary\":{\"bgcolor\":\"#E5ECF6\",\"aaxis\":{\"gridcolor\":\"white\",\"linecolor\":\"white\",\"ticks\":\"\"},\"baxis\":{\"gridcolor\":\"white\",\"linecolor\":\"white\",\"ticks\":\"\"},\"caxis\":{\"gridcolor\":\"white\",\"linecolor\":\"white\",\"ticks\":\"\"}},\"coloraxis\":{\"colorbar\":{\"outlinewidth\":0,\"ticks\":\"\"}},\"colorscale\":{\"sequential\":[[0.0,\"#0d0887\"],[0.1111111111111111,\"#46039f\"],[0.2222222222222222,\"#7201a8\"],[0.3333333333333333,\"#9c179e\"],[0.4444444444444444,\"#bd3786\"],[0.5555555555555556,\"#d8576b\"],[0.6666666666666666,\"#ed7953\"],[0.7777777777777778,\"#fb9f3a\"],[0.8888888888888888,\"#fdca26\"],[1.0,\"#f0f921\"]],\"sequentialminus\":[[0.0,\"#0d0887\"],[0.1111111111111111,\"#46039f\"],[0.2222222222222222,\"#7201a8\"],[0.3333333333333333,\"#9c179e\"],[0.4444444444444444,\"#bd3786\"],[0.5555555555555556,\"#d8576b\"],[0.6666666666666666,\"#ed7953\"],[0.7777777777777778,\"#fb9f3a\"],[0.8888888888888888,\"#fdca26\"],[1.0,\"#f0f921\"]],\"diverging\":[[0,\"#8e0152\"],[0.1,\"#c51b7d\"],[0.2,\"#de77ae\"],[0.3,\"#f1b6da\"],[0.4,\"#fde0ef\"],[0.5,\"#f7f7f7\"],[0.6,\"#e6f5d0\"],[0.7,\"#b8e186\"],[0.8,\"#7fbc41\"],[0.9,\"#4d9221\"],[1,\"#276419\"]]},\"xaxis\":{\"gridcolor\":\"white\",\"linecolor\":\"white\",\"ticks\":\"\",\"title\":{\"standoff\":15},\"zerolinecolor\":\"white\",\"automargin\":true,\"zerolinewidth\":2},\"yaxis\":{\"gridcolor\":\"white\",\"linecolor\":\"white\",\"ticks\":\"\",\"title\":{\"standoff\":15},\"zerolinecolor\":\"white\",\"automargin\":true,\"zerolinewidth\":2},\"scene\":{\"xaxis\":{\"backgroundcolor\":\"#E5ECF6\",\"gridcolor\":\"white\",\"linecolor\":\"white\",\"showbackground\":true,\"ticks\":\"\",\"zerolinecolor\":\"white\",\"gridwidth\":2},\"yaxis\":{\"backgroundcolor\":\"#E5ECF6\",\"gridcolor\":\"white\",\"linecolor\":\"white\",\"showbackground\":true,\"ticks\":\"\",\"zerolinecolor\":\"white\",\"gridwidth\":2},\"zaxis\":{\"backgroundcolor\":\"#E5ECF6\",\"gridcolor\":\"white\",\"linecolor\":\"white\",\"showbackground\":true,\"ticks\":\"\",\"zerolinecolor\":\"white\",\"gridwidth\":2}},\"shapedefaults\":{\"line\":{\"color\":\"#2a3f5f\"}},\"annotationdefaults\":{\"arrowcolor\":\"#2a3f5f\",\"arrowhead\":0,\"arrowwidth\":1},\"geo\":{\"bgcolor\":\"white\",\"landcolor\":\"#E5ECF6\",\"subunitcolor\":\"white\",\"showland\":true,\"showlakes\":true,\"lakecolor\":\"white\"},\"title\":{\"x\":0.05},\"mapbox\":{\"style\":\"light\"}}},\"legend\":{\"tracegroupgap\":0},\"title\":{\"text\":\"Top 10 most populated countries\"},\"uniformtext\":{\"minsize\":8,\"mode\":\"hide\"},\"margin\":{\"t\":0,\"b\":0,\"l\":0,\"r\":0}},                        {\"responsive\": true}                    ).then(function(){\n",
       "                            \n",
       "var gd = document.getElementById('183f60d6-a0db-497f-9ec0-cc478c5a1d5f');\n",
       "var x = new MutationObserver(function (mutations, observer) {{\n",
       "        var display = window.getComputedStyle(gd).display;\n",
       "        if (!display || display === 'none') {{\n",
       "            console.log([gd, 'removed!']);\n",
       "            Plotly.purge(gd);\n",
       "            observer.disconnect();\n",
       "        }}\n",
       "}});\n",
       "\n",
       "// Listen for the removal of the full notebook cells\n",
       "var notebookContainer = gd.closest('#notebook-container');\n",
       "if (notebookContainer) {{\n",
       "    x.observe(notebookContainer, {childList: true});\n",
       "}}\n",
       "\n",
       "// Listen for the clearing of the current output cell\n",
       "var outputEl = gd.closest('.output');\n",
       "if (outputEl) {{\n",
       "    x.observe(outputEl, {childList: true});\n",
       "}}\n",
       "\n",
       "                        })                };                });            </script>        </div>"
      ]
     },
     "metadata": {},
     "output_type": "display_data"
    }
   ],
   "source": [
    "#Chart 3: Pie chart with share of world population\n",
    "\n",
    "# top_10 = df.sort_values(by=['World Population Percentage'], ascending=False).iloc[0:10]\n",
    "fig = px.pie(df, values='World Population Percentage', names='Country', title='Top 10 most populated countries')\n",
    "\n",
    "fig.update_traces(textposition='inside', \n",
    "                     text = df['Country'])\n",
    "\n",
    "fig.update_layout(uniformtext_minsize=8, uniformtext_mode='hide')\n",
    "fig.update_layout(margin=dict(t=0, b=0, l=0, r=0))\n",
    "\n",
    "fig.show()"
   ]
  },
  {
   "cell_type": "code",
   "execution_count": null,
   "metadata": {},
   "outputs": [],
   "source": []
  }
 ],
 "metadata": {
  "kernelspec": {
   "display_name": "Python 3.7.12 ('base')",
   "language": "python",
   "name": "python3"
  },
  "language_info": {
   "codemirror_mode": {
    "name": "ipython",
    "version": 3
   },
   "file_extension": ".py",
   "mimetype": "text/x-python",
   "name": "python",
   "nbconvert_exporter": "python",
   "pygments_lexer": "ipython3",
   "version": "3.7.12"
  },
  "orig_nbformat": 4,
  "vscode": {
   "interpreter": {
    "hash": "d4d1e4263499bec80672ea0156c357c1ee493ec2b1c70f0acce89fc37c4a6abe"
   }
  }
 },
 "nbformat": 4,
 "nbformat_minor": 2
}
